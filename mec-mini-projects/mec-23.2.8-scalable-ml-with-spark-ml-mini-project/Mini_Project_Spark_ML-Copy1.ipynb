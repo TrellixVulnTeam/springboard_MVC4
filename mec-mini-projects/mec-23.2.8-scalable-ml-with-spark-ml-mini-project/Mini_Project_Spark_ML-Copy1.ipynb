{
 "cells": [
  {
   "cell_type": "markdown",
   "metadata": {},
   "source": [
    "## Exercise Overview\n",
    "In this exercise we will play with Spark [Datasets & Dataframes](https://spark.apache.org/docs/latest/sql-programming-guide.html#datasets-and-dataframes), some [Spark SQL](https://spark.apache.org/docs/latest/sql-programming-guide.html#sql), and build a couple of binary classifiaction models using [Spark ML](https://spark.apache.org/docs/latest/ml-guide.html) (with some [MLlib](https://spark.apache.org/mllib/) too). \n",
    "<br><br>\n",
    "The set up and approach will not be too dissimilar to the standard type of approach you might do in [Sklearn](http://scikit-learn.org/stable/index.html). Spark has matured to the stage now where for 90% of what you need to do (when analysing tabular data) should be possible with Spark dataframes, SQL, and ML libraries. This is where this exercise is mainly trying to focus.  \n",
    "<br>\n",
    "Feel free to adapt this exercise to play with other datasets readily availabe in the Databricks enviornment (they are listed in a cell below). \n",
    "\n",
    "##### Getting Started\n",
    "To get started you will need to create and attach a databricks spark cluster to this notebook. This notebook was developed on a cluster created with: \n",
    "- Databricks Runtime Version 4.0 (includes Apache Spark 2.3.0, Scala 2.11)\n",
    "- Python Version 3\n",
    "\n",
    "##### Links & References\n",
    "\n",
    "Some useful links and references of sources used in creating this exercise:\n",
    "\n",
    "**Note**: Right click and open as new tab!\n",
    "<br>\n",
    "1. [Latest Spark Docs](https://spark.apache.org/docs/latest/index.html)\n",
    "1. [Databricks Homepage](https://databricks.com/)\n",
    "1. [Databricks Community Edition FAQ](https://databricks.com/product/faq/community-edition)\n",
    "1. [Databricks Self Paced Training](https://databricks.com/training-overview/training-self-paced)\n",
    "1. [Databricks Notebook Guide](https://docs.databricks.com/user-guide/notebooks/index.html)\n",
    "1. [Databricks Binary Classification Tutorial](https://docs.databricks.com/spark/latest/mllib/binary-classification-mllib-pipelines.html#binary-classification)"
   ]
  },
  {
   "cell_type": "code",
   "execution_count": 1,
   "metadata": {
    "scrolled": true,
    "tags": []
   },
   "outputs": [
    {
     "output_type": "stream",
     "name": "stderr",
     "text": "/home/tai/Desktop/Projects/SpringBoard/env/lib/python3.6/site-packages/pyspark/context.py:238: FutureWarning: Python 3.6 support is deprecated in Spark 3.2.\n  FutureWarning\n"
    },
    {
     "output_type": "execute_result",
     "data": {
      "text/plain": "<pyspark.sql.session.SparkSession at 0x7f0f21eea7f0>",
      "text/html": "\n            <div>\n                <p><b>SparkSession - in-memory</b></p>\n                \n        <div>\n            <p><b>SparkContext</b></p>\n\n            <p><a href=\"http://172.17.0.1:4041\">Spark UI</a></p>\n\n            <dl>\n              <dt>Version</dt>\n                <dd><code>v3.2.0</code></dd>\n              <dt>Master</dt>\n                <dd><code>local[*]</code></dd>\n              <dt>AppName</dt>\n                <dd><code>pyspark-shell</code></dd>\n            </dl>\n        </div>\n        \n            </div>\n        "
     },
     "metadata": {},
     "execution_count": 1
    }
   ],
   "source": [
    "import pyspark\n",
    "if 'sc' not in locals():\n",
    "    from pyspark.context import SparkContext\n",
    "    from pyspark.sql.context import SQLContext\n",
    "    from pyspark.sql.session import SparkSession\n",
    "    \n",
    "    sc = SparkContext()\n",
    "    sqlContext = SQLContext(sc)\n",
    "    spark = SparkSession(sc)\n",
    "\n",
    "spark"
   ]
  },
  {
   "cell_type": "markdown",
   "metadata": {},
   "source": [
    "#### Get Data\n",
    "\n",
    "Here we will pull in some sample data that is already pre-loaded onto all databricks clusters.\n",
    "\n",
    "Feel free to adapt this notebook later to play around with a different dataset if you like (all available are listed in a cell below)."
   ]
  },
  {
   "cell_type": "markdown",
   "metadata": {},
   "source": [
    "Lets take a look at the '**adult**' dataset on the filesystem. This is the typical US Census data you often see online in tutorials. [Here](https://archive.ics.uci.edu/ml/datasets/adult) is the same data in the UCI repository.\n",
    "\n",
    "_As an aside: [here](https://github.com/GoogleCloudPlatform/cloudml-samples/tree/master/census) this same dataset is used as a quickstart example for Google CLoud ML & Tensorflow Estimator API (in case youd be interested in playing with tensorflow on the same dataset as here)._"
   ]
  },
  {
   "cell_type": "markdown",
   "metadata": {},
   "source": [
    "**Note**: Above  %fs is just some file system cell magic that is specific to databricks. More info [here](https://docs.databricks.com/user-guide/notebooks/index.html#mix-languages)."
   ]
  },
  {
   "cell_type": "markdown",
   "metadata": {},
   "source": [
    "#### Spark SQL\n",
    "\n",
    "Below we will use Spark SQL to load in the data and then register it as a Dataframe aswell. So the end result will be a Spark SQL table called _adult_ and a Spark Dataframe called _df_adult_. \n",
    "<br><br>\n",
    "This is an example of the flexibility in Spark in that you could do lots of you ETL and data wrangling using either Spark SQL or Dataframes and pyspark. Most of the time it's a case of using whatever you are most comfortable with.\n",
    "<br><br>\n",
    "When you get more advanced then you might looking the pro's and con's of each and when you might favour one or the other (or operating direclty on RDD's), [here](https://databricks.com/blog/2016/07/14/a-tale-of-three-apache-spark-apis-rdds-dataframes-and-datasets.html) is a good article on the issues. For now, no need to overthink it!"
   ]
  },
  {
   "cell_type": "code",
   "execution_count": 5,
   "metadata": {},
   "outputs": [],
   "source": [
    "from pyspark.sql.types import DoubleType, StringType, StructType, StructField\n",
    " \n",
    "schema = StructType([\n",
    "  StructField(\"age\", DoubleType(), False),\n",
    "  StructField(\"workclass\", StringType(), False),\n",
    "  StructField(\"fnlwgt\", DoubleType(), False),\n",
    "  StructField(\"education\", StringType(), False),\n",
    "  StructField(\"education_num\", DoubleType(), False),\n",
    "  StructField(\"marital_status\", StringType(), False),\n",
    "  StructField(\"occupation\", StringType(), False),\n",
    "  StructField(\"relationship\", StringType(), False),\n",
    "  StructField(\"race\", StringType(), False),\n",
    "  StructField(\"sex\", StringType(), False),\n",
    "  StructField(\"capital_gain\", DoubleType(), False),\n",
    "  StructField(\"capital_loss\", DoubleType(), False),\n",
    "  StructField(\"hours_per_week\", DoubleType(), False),\n",
    "  StructField(\"native_country\", StringType(), False),\n",
    "  StructField(\"income\", StringType(), False)\n",
    "])\n",
    "adult_df = spark.read.format(\"csv\").schema(schema).load(\"adult.data\")"
   ]
  },
  {
   "cell_type": "code",
   "execution_count": 6,
   "metadata": {},
   "outputs": [
    {
     "output_type": "execute_result",
     "data": {
      "text/plain": "pyspark.sql.dataframe.DataFrame"
     },
     "metadata": {},
     "execution_count": 6
    }
   ],
   "source": [
    "type(adult_df)"
   ]
  },
  {
   "cell_type": "code",
   "execution_count": 7,
   "metadata": {},
   "outputs": [
    {
     "output_type": "execute_result",
     "data": {
      "text/plain": "DataFrame[age: double, workclass: string, fnlwgt: double, education: string, education_num: double, marital_status: string, occupation: string, relationship: string, race: string, sex: string, capital_gain: double, capital_loss: double, hours_per_week: double, native_country: string, income: string]"
     },
     "metadata": {},
     "execution_count": 7
    }
   ],
   "source": [
    "adult_df"
   ]
  },
  {
   "cell_type": "code",
   "execution_count": 9,
   "metadata": {},
   "outputs": [],
   "source": [
    "adult_df.write.option('header','true').saveAsTable(\"adult_table\")"
   ]
  },
  {
   "cell_type": "code",
   "execution_count": 10,
   "metadata": {
    "tags": []
   },
   "outputs": [
    {
     "output_type": "stream",
     "name": "stdout",
     "text": "+----+-----------------+--------+----------+-------------+-------------------+------------------+--------------+------+-------+------------+------------+--------------+--------------+------+\n| age|        workclass|  fnlwgt| education|education_num|     marital_status|        occupation|  relationship|  race|    sex|capital_gain|capital_loss|hours_per_week|native_country|income|\n+----+-----------------+--------+----------+-------------+-------------------+------------------+--------------+------+-------+------------+------------+--------------+--------------+------+\n|39.0|        State-gov| 77516.0| Bachelors|         13.0|      Never-married|      Adm-clerical| Not-in-family| White|   Male|      2174.0|         0.0|          40.0| United-States| <=50K|\n|50.0| Self-emp-not-inc| 83311.0| Bachelors|         13.0| Married-civ-spouse|   Exec-managerial|       Husband| White|   Male|         0.0|         0.0|          13.0| United-States| <=50K|\n|38.0|          Private|215646.0|   HS-grad|          9.0|           Divorced| Handlers-cleaners| Not-in-family| White|   Male|         0.0|         0.0|          40.0| United-States| <=50K|\n|53.0|          Private|234721.0|      11th|          7.0| Married-civ-spouse| Handlers-cleaners|       Husband| Black|   Male|         0.0|         0.0|          40.0| United-States| <=50K|\n|28.0|          Private|338409.0| Bachelors|         13.0| Married-civ-spouse|    Prof-specialty|          Wife| Black| Female|         0.0|         0.0|          40.0|          Cuba| <=50K|\n+----+-----------------+--------+----------+-------------+-------------------+------------------+--------------+------+-------+------------+------------+--------------+--------------+------+\n\n"
    }
   ],
   "source": [
    "# look at the data\n",
    "spark.sql(\"SELECT * FROM adult_table LIMIT 5\").show() \n",
    "# this will look prettier in Databricks if you use display() instead\n",
    "#display(spark.sql(\"SELECT * FROM adult_table LIMIT 5\"))"
   ]
  },
  {
   "cell_type": "markdown",
   "metadata": {},
   "source": [
    "If you are more comfortable with SQL then as you can see below, its very easy to just get going with writing standard SQL type code to analyse your data, do data wrangling and create new dataframes."
   ]
  },
  {
   "cell_type": "code",
   "execution_count": 11,
   "metadata": {},
   "outputs": [],
   "source": [
    "# Lets get some summary marital status rates by occupation\n",
    "result = spark.sql(\n",
    "  \"\"\"\n",
    "  SELECT \n",
    "    occupation,\n",
    "    SUM(1) as n,\n",
    "    ROUND(AVG(if(LTRIM(marital_status) LIKE 'Married-%',1,0)),2) as married_rate,\n",
    "    ROUND(AVG(if(lower(marital_status) LIKE '%widow%',1,0)),2) as widow_rate,\n",
    "    ROUND(AVG(if(LTRIM(marital_status) = 'Divorced',1,0)),2) as divorce_rate,\n",
    "    ROUND(AVG(if(LTRIM(marital_status) = 'Separated',1,0)),2) as separated_rate,\n",
    "    ROUND(AVG(if(LTRIM(marital_status) = 'Never-married',1,0)),2) as bachelor_rate\n",
    "  FROM \n",
    "    adult_table\n",
    "  GROUP BY 1\n",
    "  ORDER BY n DESC\n",
    "  \"\"\")\n"
   ]
  },
  {
   "cell_type": "code",
   "execution_count": 14,
   "metadata": {},
   "outputs": [
    {
     "output_type": "display_data",
     "data": {
      "text/plain": "[Row(occupation=' Prof-specialty', n=4140, married_rate=0.53, widow_rate=0.02, divorce_rate=0.13, separated_rate=0.02, bachelor_rate=0.3),\n Row(occupation=' Craft-repair', n=4099, married_rate=0.64, widow_rate=0.01, divorce_rate=0.11, separated_rate=0.03, bachelor_rate=0.21),\n Row(occupation=' Exec-managerial', n=4066, married_rate=0.61, widow_rate=0.02, divorce_rate=0.15, separated_rate=0.02, bachelor_rate=0.2),\n Row(occupation=' Adm-clerical', n=3770, married_rate=0.28, widow_rate=0.04, divorce_rate=0.22, separated_rate=0.04, bachelor_rate=0.42),\n Row(occupation=' Sales', n=3650, married_rate=0.47, widow_rate=0.03, divorce_rate=0.12, separated_rate=0.03, bachelor_rate=0.36)]"
     },
     "metadata": {}
    }
   ],
   "source": [
    "display(result.head(5))"
   ]
  },
  {
   "cell_type": "markdown",
   "metadata": {},
   "source": [
    "You can easily register dataframes as a table for Spark SQL too. So this way you can easily move between Dataframes and Spark SQL for whatever reason."
   ]
  },
  {
   "cell_type": "code",
   "execution_count": 15,
   "metadata": {
    "tags": []
   },
   "outputs": [
    {
     "output_type": "stream",
     "name": "stdout",
     "text": "+----------------+----+------------+----------+------------+--------------+-------------+\n|      occupation|   n|married_rate|widow_rate|divorce_rate|separated_rate|bachelor_rate|\n+----------------+----+------------+----------+------------+--------------+-------------+\n|  Prof-specialty|4140|        0.53|      0.02|        0.13|          0.02|          0.3|\n|    Craft-repair|4099|        0.64|      0.01|        0.11|          0.03|         0.21|\n| Exec-managerial|4066|        0.61|      0.02|        0.15|          0.02|          0.2|\n|    Adm-clerical|3770|        0.28|      0.04|        0.22|          0.04|         0.42|\n|           Sales|3650|        0.47|      0.03|        0.12|          0.03|         0.36|\n+----------------+----+------------+----------+------------+--------------+-------------+\nonly showing top 5 rows\n\n"
    }
   ],
   "source": [
    "# register the df we just made as a table for spark sql\n",
    "sqlContext.registerDataFrameAsTable(result, \"result\")\n",
    "spark.sql(\"SELECT * FROM result\").show(5)"
   ]
  },
  {
   "cell_type": "markdown",
   "metadata": {},
   "source": [
    "#### <span style=\"color:darkblue\">Question 1</span>\n",
    "\n",
    "1. Write some spark sql to get the top 'bachelor_rate' by 'education' group?"
   ]
  },
  {
   "cell_type": "code",
   "execution_count": 20,
   "metadata": {
    "tags": []
   },
   "outputs": [
    {
     "output_type": "stream",
     "name": "stdout",
     "text": "+---+---------+-------------+\n|  n|education|bachelor_rate|\n+---+---------+-------------+\n|433|     12th|         0.54|\n+---+---------+-------------+\n\n"
    }
   ],
   "source": [
    "### Question 1.1 Answer ###\n",
    "\n",
    "result_2 = spark.sql(\n",
    "    \"\"\"\n",
    "    SELECT \n",
    "        SUM(1) as n,\n",
    "        education,\n",
    "        ROUND(AVG(if(LTRIM(marital_status) = 'Never-married',1,0)),2) as bachelor_rate\n",
    "\n",
    "    FROM \n",
    "        adult_table\n",
    "    GROUP BY 2\n",
    "    ORDER BY 3 DESC\n",
    "    LIMIT 1\n",
    "    \"\"\"\n",
    ")\n",
    "result_2.show()"
   ]
  },
  {
   "cell_type": "markdown",
   "metadata": {},
   "source": [
    "#### Spark DataFrames\n",
    "\n",
    "Below we will create our DataFrame from the SQL table and do some similar analysis as we did with Spark SQL but using the DataFrames API."
   ]
  },
  {
   "cell_type": "code",
   "execution_count": 21,
   "metadata": {},
   "outputs": [],
   "source": [
    "# register a df from the sql df\n",
    "df_adult = spark.table(\"adult_table\")\n",
    "cols = df_adult.columns # this will be used much later in the notebook, ignore for now"
   ]
  },
  {
   "cell_type": "code",
   "execution_count": 22,
   "metadata": {
    "tags": []
   },
   "outputs": [
    {
     "output_type": "stream",
     "name": "stdout",
     "text": "root\n |-- age: double (nullable = true)\n |-- workclass: string (nullable = true)\n |-- fnlwgt: double (nullable = true)\n |-- education: string (nullable = true)\n |-- education_num: double (nullable = true)\n |-- marital_status: string (nullable = true)\n |-- occupation: string (nullable = true)\n |-- relationship: string (nullable = true)\n |-- race: string (nullable = true)\n |-- sex: string (nullable = true)\n |-- capital_gain: double (nullable = true)\n |-- capital_loss: double (nullable = true)\n |-- hours_per_week: double (nullable = true)\n |-- native_country: string (nullable = true)\n |-- income: string (nullable = true)\n\n"
    }
   ],
   "source": [
    "# look at df schema\n",
    "df_adult.printSchema()"
   ]
  },
  {
   "cell_type": "code",
   "execution_count": 24,
   "metadata": {
    "tags": []
   },
   "outputs": [
    {
     "output_type": "stream",
     "name": "stdout",
     "text": "+----+-----------------+--------+----------+-------------+-------------------+------------------+--------------+------+-------+------------+------------+--------------+--------------+------+\n| age|        workclass|  fnlwgt| education|education_num|     marital_status|        occupation|  relationship|  race|    sex|capital_gain|capital_loss|hours_per_week|native_country|income|\n+----+-----------------+--------+----------+-------------+-------------------+------------------+--------------+------+-------+------------+------------+--------------+--------------+------+\n|39.0|        State-gov| 77516.0| Bachelors|         13.0|      Never-married|      Adm-clerical| Not-in-family| White|   Male|      2174.0|         0.0|          40.0| United-States| <=50K|\n|50.0| Self-emp-not-inc| 83311.0| Bachelors|         13.0| Married-civ-spouse|   Exec-managerial|       Husband| White|   Male|         0.0|         0.0|          13.0| United-States| <=50K|\n|38.0|          Private|215646.0|   HS-grad|          9.0|           Divorced| Handlers-cleaners| Not-in-family| White|   Male|         0.0|         0.0|          40.0| United-States| <=50K|\n|53.0|          Private|234721.0|      11th|          7.0| Married-civ-spouse| Handlers-cleaners|       Husband| Black|   Male|         0.0|         0.0|          40.0| United-States| <=50K|\n|28.0|          Private|338409.0| Bachelors|         13.0| Married-civ-spouse|    Prof-specialty|          Wife| Black| Female|         0.0|         0.0|          40.0|          Cuba| <=50K|\n+----+-----------------+--------+----------+-------------+-------------------+------------------+--------------+------+-------+------------+------------+--------------+--------------+------+\nonly showing top 5 rows\n\n"
    }
   ],
   "source": [
    "# look at the df\n",
    "#display(df_adult)\n",
    "df_adult.show(5)"
   ]
  },
  {
   "cell_type": "markdown",
   "metadata": {},
   "source": [
    "Below we will do a similar calculation to what we did above but using the DataFrames API"
   ]
  },
  {
   "cell_type": "code",
   "execution_count": 25,
   "metadata": {
    "tags": []
   },
   "outputs": [
    {
     "output_type": "stream",
     "name": "stdout",
     "text": "+----------------+-------------+\n|      occupation|divorced_rate|\n+----------------+-------------+\n|    Adm-clerical|         0.22|\n| Priv-house-serv|         0.19|\n|    Tech-support|         0.15|\n| Exec-managerial|         0.15|\n|   Other-service|         0.15|\n+----------------+-------------+\nonly showing top 5 rows\n\n"
    }
   ],
   "source": [
    "# import what we will need\n",
    "from pyspark.sql.functions import when, col, mean, desc, round\n",
    "\n",
    "# wrangle the data a bit\n",
    "df_result = df_adult.select(\n",
    "  df_adult['occupation'], \n",
    "  # create a 1/0 type col on the fly\n",
    "  when( col('marital_status') == ' Divorced' , 1 ).otherwise(0).alias('is_divorced')\n",
    ")\n",
    "# do grouping (and a round)\n",
    "df_result = df_result.groupBy('occupation').agg(round(mean('is_divorced'),2).alias('divorced_rate'))\n",
    "# do ordering\n",
    "df_result = df_result.orderBy(desc('divorced_rate'))\n",
    "# show results\n",
    "df_result.show(5)"
   ]
  },
  {
   "cell_type": "markdown",
   "metadata": {},
   "source": [
    "As you can see the dataframes api is a bit more verbose then just expressing what you want to do in standard SQL.<br><br>But some prefer it and might be more used to it, and there could be cases where expressing what you need to do might just be better using the DataFrame API if it is too complicated for a simple SQL expression for example of maybe involves recursion of some type."
   ]
  },
  {
   "cell_type": "markdown",
   "metadata": {},
   "source": [
    "#### <span style=\"color:darkblue\">Question 2</span>\n",
    "1. Write some pyspark to get the top 'bachelor_rate' by 'education' group using DataFrame operations?"
   ]
  },
  {
   "cell_type": "code",
   "execution_count": 35,
   "metadata": {
    "tags": []
   },
   "outputs": [
    {
     "output_type": "stream",
     "name": "stdout",
     "text": "+---------+-------------+\n|education|Bachelor_Rate|\n+---------+-------------+\n|     12th|         0.54|\n+---------+-------------+\nonly showing top 1 row\n\n"
    }
   ],
   "source": [
    "### Question 2.1 Answer ###\n",
    "\n",
    "# wrangle the data a bit\n",
    "df_result = df_adult.select(\n",
    "df_adult['education'],\n",
    "when( col('marital_status') == ' Never-married' , 1).otherwise(0).alias('Bachelor')\n",
    ")\n",
    "df_result = df_result.groupBy('education').agg(round(mean('Bachelor'), 2).alias('Bachelor_Rate'))\n",
    "\n",
    "df_result = df_result.orderBy(desc('Bachelor_Rate'))\n",
    "df_result.show(1)"
   ]
  },
  {
   "cell_type": "markdown",
   "metadata": {},
   "source": [
    "#### Explore & Visualize Data\n",
    "\n",
    "It's very easy to [collect()](https://spark.apache.org/docs/latest/rdd-programming-guide.html#printing-elements-of-an-rdd) your Spark DataFrame data into a Pandas df and then continue to analyse or plot as you might normally.\n",
    "<br><br>\n",
    "Obviously if you try to collect() a huge DataFrame then you will run into issues, so usually you would only collect aggregated or sampled data into a Pandas df."
   ]
  },
  {
   "cell_type": "code",
   "execution_count": 37,
   "metadata": {
    "tags": []
   },
   "outputs": [
    {
     "output_type": "stream",
     "name": "stdout",
     "text": "occupation  plus_50k\n0   Exec-managerial  0.484014\n1    Prof-specialty  0.449034\n2   Protective-serv  0.325116\n3      Tech-support  0.304957\n4             Sales  0.269315\n"
    }
   ],
   "source": [
    "import pandas as pd\n",
    "\n",
    "# do some analysis\n",
    "result = spark.sql(\n",
    "  \"\"\"\n",
    "  SELECT \n",
    "    occupation,\n",
    "    AVG(IF(income = ' >50K',1,0)) as plus_50k\n",
    "  FROM \n",
    "    adult_table \n",
    "  GROUP BY 1\n",
    "  ORDER BY 2 DESC\n",
    "  \"\"\")\n",
    "\n",
    "# collect results into a pandas df\n",
    "df_pandas = pd.DataFrame(\n",
    "  result.collect(),\n",
    "  columns=result.schema.names\n",
    ")\n",
    "\n",
    "# look at df\n",
    "print(df_pandas.head())"
   ]
  },
  {
   "cell_type": "code",
   "execution_count": 38,
   "metadata": {
    "tags": []
   },
   "outputs": [
    {
     "output_type": "stream",
     "name": "stdout",
     "text": "plus_50k\ncount  15.000000\nmean    0.197354\nstd     0.143994\nmin     0.006711\n25%     0.107373\n50%     0.134483\n75%     0.287136\nmax     0.484014\n"
    }
   ],
   "source": [
    "print(df_pandas.describe())"
   ]
  },
  {
   "cell_type": "code",
   "execution_count": 39,
   "metadata": {
    "tags": []
   },
   "outputs": [
    {
     "output_type": "stream",
     "name": "stdout",
     "text": "<class 'pandas.core.frame.DataFrame'>\nRangeIndex: 15 entries, 0 to 14\nData columns (total 2 columns):\n #   Column      Non-Null Count  Dtype  \n---  ------      --------------  -----  \n 0   occupation  15 non-null     object \n 1   plus_50k    15 non-null     float64\ndtypes: float64(1), object(1)\nmemory usage: 368.0+ bytes\nNone\n"
    }
   ],
   "source": [
    "print(df_pandas.info())"
   ]
  },
  {
   "cell_type": "markdown",
   "metadata": {},
   "source": [
    "Here we will just do some very basic plotting to show how you might collect what you are interested in into a Pandas DF and then just plot any way you normally would.\n",
    "\n",
    "For simplicity we are going to use the plotting functionality built into pandas (you could make this a pretty as you want)."
   ]
  },
  {
   "cell_type": "code",
   "execution_count": 40,
   "metadata": {},
   "outputs": [
    {
     "output_type": "display_data",
     "data": {
      "text/plain": "<Figure size 432x288 with 1 Axes>",
      "image/svg+xml": "<?xml version=\"1.0\" encoding=\"utf-8\" standalone=\"no\"?>\n<!DOCTYPE svg PUBLIC \"-//W3C//DTD SVG 1.1//EN\"\n  \"http://www.w3.org/Graphics/SVG/1.1/DTD/svg11.dtd\">\n<!-- Created with matplotlib (https://matplotlib.org/) -->\n<svg height=\"248.518125pt\" version=\"1.1\" viewBox=\"0 0 469.355377 248.518125\" width=\"469.355377pt\" xmlns=\"http://www.w3.org/2000/svg\" xmlns:xlink=\"http://www.w3.org/1999/xlink\">\n <metadata>\n  <rdf:RDF xmlns:cc=\"http://creativecommons.org/ns#\" xmlns:dc=\"http://purl.org/dc/elements/1.1/\" xmlns:rdf=\"http://www.w3.org/1999/02/22-rdf-syntax-ns#\">\n   <cc:Work>\n    <dc:type rdf:resource=\"http://purl.org/dc/dcmitype/StillImage\"/>\n    <dc:date>2021-11-16T14:18:32.761757</dc:date>\n    <dc:format>image/svg+xml</dc:format>\n    <dc:creator>\n     <cc:Agent>\n      <dc:title>Matplotlib v3.3.4, https://matplotlib.org/</dc:title>\n     </cc:Agent>\n    </dc:creator>\n   </cc:Work>\n  </rdf:RDF>\n </metadata>\n <defs>\n  <style type=\"text/css\">*{stroke-linecap:butt;stroke-linejoin:round;}</style>\n </defs>\n <g id=\"figure_1\">\n  <g id=\"patch_1\">\n   <path d=\"M 0 248.518125 \nL 469.355377 248.518125 \nL 469.355377 0 \nL 0 0 \nz\n\" style=\"fill:#ffffff;\"/>\n  </g>\n  <g id=\"axes_1\">\n   <g id=\"patch_2\">\n    <path d=\"M 124.815313 224.64 \nL 459.615313 224.64 \nL 459.615313 7.2 \nL 124.815313 7.2 \nz\n\" style=\"fill:#e5e5e5;\"/>\n   </g>\n   <g id=\"matplotlib.axis_1\">\n    <g id=\"xtick_1\">\n     <g id=\"line2d_1\">\n      <path clip-path=\"url(#p4a45dc7ca8)\" d=\"M 124.815313 224.64 \nL 124.815313 7.2 \n\" style=\"fill:none;stroke:#ffffff;stroke-linecap:square;stroke-width:0.8;\"/>\n     </g>\n     <g id=\"line2d_2\">\n      <defs>\n       <path d=\"M 0 0 \nL 0 3.5 \n\" id=\"ma38559e1df\" style=\"stroke:#555555;stroke-width:0.8;\"/>\n      </defs>\n      <g>\n       <use style=\"fill:#555555;stroke:#555555;stroke-width:0.8;\" x=\"124.815313\" xlink:href=\"#ma38559e1df\" y=\"224.64\"/>\n      </g>\n     </g>\n     <g id=\"text_1\">\n      <!-- 0.0 -->\n      <g style=\"fill:#555555;\" transform=\"translate(116.86375 239.238437)scale(0.1 -0.1)\">\n       <defs>\n        <path d=\"M 31.78125 66.40625 \nQ 24.171875 66.40625 20.328125 58.90625 \nQ 16.5 51.421875 16.5 36.375 \nQ 16.5 21.390625 20.328125 13.890625 \nQ 24.171875 6.390625 31.78125 6.390625 \nQ 39.453125 6.390625 43.28125 13.890625 \nQ 47.125 21.390625 47.125 36.375 \nQ 47.125 51.421875 43.28125 58.90625 \nQ 39.453125 66.40625 31.78125 66.40625 \nz\nM 31.78125 74.21875 \nQ 44.046875 74.21875 50.515625 64.515625 \nQ 56.984375 54.828125 56.984375 36.375 \nQ 56.984375 17.96875 50.515625 8.265625 \nQ 44.046875 -1.421875 31.78125 -1.421875 \nQ 19.53125 -1.421875 13.0625 8.265625 \nQ 6.59375 17.96875 6.59375 36.375 \nQ 6.59375 54.828125 13.0625 64.515625 \nQ 19.53125 74.21875 31.78125 74.21875 \nz\n\" id=\"DejaVuSans-48\"/>\n        <path d=\"M 10.6875 12.40625 \nL 21 12.40625 \nL 21 0 \nL 10.6875 0 \nz\n\" id=\"DejaVuSans-46\"/>\n       </defs>\n       <use xlink:href=\"#DejaVuSans-48\"/>\n       <use x=\"63.623047\" xlink:href=\"#DejaVuSans-46\"/>\n       <use x=\"95.410156\" xlink:href=\"#DejaVuSans-48\"/>\n      </g>\n     </g>\n    </g>\n    <g id=\"xtick_2\">\n     <g id=\"line2d_3\">\n      <path clip-path=\"url(#p4a45dc7ca8)\" d=\"M 190.693013 224.64 \nL 190.693013 7.2 \n\" style=\"fill:none;stroke:#ffffff;stroke-linecap:square;stroke-width:0.8;\"/>\n     </g>\n     <g id=\"line2d_4\">\n      <g>\n       <use style=\"fill:#555555;stroke:#555555;stroke-width:0.8;\" x=\"190.693013\" xlink:href=\"#ma38559e1df\" y=\"224.64\"/>\n      </g>\n     </g>\n     <g id=\"text_2\">\n      <!-- 0.1 -->\n      <g style=\"fill:#555555;\" transform=\"translate(182.74145 239.238437)scale(0.1 -0.1)\">\n       <defs>\n        <path d=\"M 12.40625 8.296875 \nL 28.515625 8.296875 \nL 28.515625 63.921875 \nL 10.984375 60.40625 \nL 10.984375 69.390625 \nL 28.421875 72.90625 \nL 38.28125 72.90625 \nL 38.28125 8.296875 \nL 54.390625 8.296875 \nL 54.390625 0 \nL 12.40625 0 \nz\n\" id=\"DejaVuSans-49\"/>\n       </defs>\n       <use xlink:href=\"#DejaVuSans-48\"/>\n       <use x=\"63.623047\" xlink:href=\"#DejaVuSans-46\"/>\n       <use x=\"95.410156\" xlink:href=\"#DejaVuSans-49\"/>\n      </g>\n     </g>\n    </g>\n    <g id=\"xtick_3\">\n     <g id=\"line2d_5\">\n      <path clip-path=\"url(#p4a45dc7ca8)\" d=\"M 256.570713 224.64 \nL 256.570713 7.2 \n\" style=\"fill:none;stroke:#ffffff;stroke-linecap:square;stroke-width:0.8;\"/>\n     </g>\n     <g id=\"line2d_6\">\n      <g>\n       <use style=\"fill:#555555;stroke:#555555;stroke-width:0.8;\" x=\"256.570713\" xlink:href=\"#ma38559e1df\" y=\"224.64\"/>\n      </g>\n     </g>\n     <g id=\"text_3\">\n      <!-- 0.2 -->\n      <g style=\"fill:#555555;\" transform=\"translate(248.619151 239.238437)scale(0.1 -0.1)\">\n       <defs>\n        <path d=\"M 19.1875 8.296875 \nL 53.609375 8.296875 \nL 53.609375 0 \nL 7.328125 0 \nL 7.328125 8.296875 \nQ 12.9375 14.109375 22.625 23.890625 \nQ 32.328125 33.6875 34.8125 36.53125 \nQ 39.546875 41.84375 41.421875 45.53125 \nQ 43.3125 49.21875 43.3125 52.78125 \nQ 43.3125 58.59375 39.234375 62.25 \nQ 35.15625 65.921875 28.609375 65.921875 \nQ 23.96875 65.921875 18.8125 64.3125 \nQ 13.671875 62.703125 7.8125 59.421875 \nL 7.8125 69.390625 \nQ 13.765625 71.78125 18.9375 73 \nQ 24.125 74.21875 28.421875 74.21875 \nQ 39.75 74.21875 46.484375 68.546875 \nQ 53.21875 62.890625 53.21875 53.421875 \nQ 53.21875 48.921875 51.53125 44.890625 \nQ 49.859375 40.875 45.40625 35.40625 \nQ 44.1875 33.984375 37.640625 27.21875 \nQ 31.109375 20.453125 19.1875 8.296875 \nz\n\" id=\"DejaVuSans-50\"/>\n       </defs>\n       <use xlink:href=\"#DejaVuSans-48\"/>\n       <use x=\"63.623047\" xlink:href=\"#DejaVuSans-46\"/>\n       <use x=\"95.410156\" xlink:href=\"#DejaVuSans-50\"/>\n      </g>\n     </g>\n    </g>\n    <g id=\"xtick_4\">\n     <g id=\"line2d_7\">\n      <path clip-path=\"url(#p4a45dc7ca8)\" d=\"M 322.448414 224.64 \nL 322.448414 7.2 \n\" style=\"fill:none;stroke:#ffffff;stroke-linecap:square;stroke-width:0.8;\"/>\n     </g>\n     <g id=\"line2d_8\">\n      <g>\n       <use style=\"fill:#555555;stroke:#555555;stroke-width:0.8;\" x=\"322.448414\" xlink:href=\"#ma38559e1df\" y=\"224.64\"/>\n      </g>\n     </g>\n     <g id=\"text_4\">\n      <!-- 0.3 -->\n      <g style=\"fill:#555555;\" transform=\"translate(314.496851 239.238437)scale(0.1 -0.1)\">\n       <defs>\n        <path d=\"M 40.578125 39.3125 \nQ 47.65625 37.796875 51.625 33 \nQ 55.609375 28.21875 55.609375 21.1875 \nQ 55.609375 10.40625 48.1875 4.484375 \nQ 40.765625 -1.421875 27.09375 -1.421875 \nQ 22.515625 -1.421875 17.65625 -0.515625 \nQ 12.796875 0.390625 7.625 2.203125 \nL 7.625 11.71875 \nQ 11.71875 9.328125 16.59375 8.109375 \nQ 21.484375 6.890625 26.8125 6.890625 \nQ 36.078125 6.890625 40.9375 10.546875 \nQ 45.796875 14.203125 45.796875 21.1875 \nQ 45.796875 27.640625 41.28125 31.265625 \nQ 36.765625 34.90625 28.71875 34.90625 \nL 20.21875 34.90625 \nL 20.21875 43.015625 \nL 29.109375 43.015625 \nQ 36.375 43.015625 40.234375 45.921875 \nQ 44.09375 48.828125 44.09375 54.296875 \nQ 44.09375 59.90625 40.109375 62.90625 \nQ 36.140625 65.921875 28.71875 65.921875 \nQ 24.65625 65.921875 20.015625 65.03125 \nQ 15.375 64.15625 9.8125 62.3125 \nL 9.8125 71.09375 \nQ 15.4375 72.65625 20.34375 73.4375 \nQ 25.25 74.21875 29.59375 74.21875 \nQ 40.828125 74.21875 47.359375 69.109375 \nQ 53.90625 64.015625 53.90625 55.328125 \nQ 53.90625 49.265625 50.4375 45.09375 \nQ 46.96875 40.921875 40.578125 39.3125 \nz\n\" id=\"DejaVuSans-51\"/>\n       </defs>\n       <use xlink:href=\"#DejaVuSans-48\"/>\n       <use x=\"63.623047\" xlink:href=\"#DejaVuSans-46\"/>\n       <use x=\"95.410156\" xlink:href=\"#DejaVuSans-51\"/>\n      </g>\n     </g>\n    </g>\n    <g id=\"xtick_5\">\n     <g id=\"line2d_9\">\n      <path clip-path=\"url(#p4a45dc7ca8)\" d=\"M 388.326114 224.64 \nL 388.326114 7.2 \n\" style=\"fill:none;stroke:#ffffff;stroke-linecap:square;stroke-width:0.8;\"/>\n     </g>\n     <g id=\"line2d_10\">\n      <g>\n       <use style=\"fill:#555555;stroke:#555555;stroke-width:0.8;\" x=\"388.326114\" xlink:href=\"#ma38559e1df\" y=\"224.64\"/>\n      </g>\n     </g>\n     <g id=\"text_5\">\n      <!-- 0.4 -->\n      <g style=\"fill:#555555;\" transform=\"translate(380.374551 239.238437)scale(0.1 -0.1)\">\n       <defs>\n        <path d=\"M 37.796875 64.3125 \nL 12.890625 25.390625 \nL 37.796875 25.390625 \nz\nM 35.203125 72.90625 \nL 47.609375 72.90625 \nL 47.609375 25.390625 \nL 58.015625 25.390625 \nL 58.015625 17.1875 \nL 47.609375 17.1875 \nL 47.609375 0 \nL 37.796875 0 \nL 37.796875 17.1875 \nL 4.890625 17.1875 \nL 4.890625 26.703125 \nz\n\" id=\"DejaVuSans-52\"/>\n       </defs>\n       <use xlink:href=\"#DejaVuSans-48\"/>\n       <use x=\"63.623047\" xlink:href=\"#DejaVuSans-46\"/>\n       <use x=\"95.410156\" xlink:href=\"#DejaVuSans-52\"/>\n      </g>\n     </g>\n    </g>\n    <g id=\"xtick_6\">\n     <g id=\"line2d_11\">\n      <path clip-path=\"url(#p4a45dc7ca8)\" d=\"M 454.203814 224.64 \nL 454.203814 7.2 \n\" style=\"fill:none;stroke:#ffffff;stroke-linecap:square;stroke-width:0.8;\"/>\n     </g>\n     <g id=\"line2d_12\">\n      <g>\n       <use style=\"fill:#555555;stroke:#555555;stroke-width:0.8;\" x=\"454.203814\" xlink:href=\"#ma38559e1df\" y=\"224.64\"/>\n      </g>\n     </g>\n     <g id=\"text_6\">\n      <!-- 0.5 -->\n      <g style=\"fill:#555555;\" transform=\"translate(446.252252 239.238437)scale(0.1 -0.1)\">\n       <defs>\n        <path d=\"M 10.796875 72.90625 \nL 49.515625 72.90625 \nL 49.515625 64.59375 \nL 19.828125 64.59375 \nL 19.828125 46.734375 \nQ 21.96875 47.46875 24.109375 47.828125 \nQ 26.265625 48.1875 28.421875 48.1875 \nQ 40.625 48.1875 47.75 41.5 \nQ 54.890625 34.8125 54.890625 23.390625 \nQ 54.890625 11.625 47.5625 5.09375 \nQ 40.234375 -1.421875 26.90625 -1.421875 \nQ 22.3125 -1.421875 17.546875 -0.640625 \nQ 12.796875 0.140625 7.71875 1.703125 \nL 7.71875 11.625 \nQ 12.109375 9.234375 16.796875 8.0625 \nQ 21.484375 6.890625 26.703125 6.890625 \nQ 35.15625 6.890625 40.078125 11.328125 \nQ 45.015625 15.765625 45.015625 23.390625 \nQ 45.015625 31 40.078125 35.4375 \nQ 35.15625 39.890625 26.703125 39.890625 \nQ 22.75 39.890625 18.8125 39.015625 \nQ 14.890625 38.140625 10.796875 36.28125 \nz\n\" id=\"DejaVuSans-53\"/>\n       </defs>\n       <use xlink:href=\"#DejaVuSans-48\"/>\n       <use x=\"63.623047\" xlink:href=\"#DejaVuSans-46\"/>\n       <use x=\"95.410156\" xlink:href=\"#DejaVuSans-53\"/>\n      </g>\n     </g>\n    </g>\n   </g>\n   <g id=\"matplotlib.axis_2\">\n    <g id=\"ytick_1\">\n     <g id=\"line2d_13\">\n      <path clip-path=\"url(#p4a45dc7ca8)\" d=\"M 124.815313 217.392 \nL 459.615313 217.392 \n\" style=\"fill:none;stroke:#ffffff;stroke-linecap:square;stroke-width:0.8;\"/>\n     </g>\n     <g id=\"line2d_14\">\n      <defs>\n       <path d=\"M 0 0 \nL -3.5 0 \n\" id=\"m5b0e2efe42\" style=\"stroke:#555555;stroke-width:0.8;\"/>\n      </defs>\n      <g>\n       <use style=\"fill:#555555;stroke:#555555;stroke-width:0.8;\" x=\"124.815313\" xlink:href=\"#m5b0e2efe42\" y=\"217.392\"/>\n      </g>\n     </g>\n     <g id=\"text_7\">\n      <!--  Exec-managerial -->\n      <g style=\"fill:#555555;\" transform=\"translate(30.821562 221.191219)scale(0.1 -0.1)\">\n       <defs>\n        <path id=\"DejaVuSans-32\"/>\n        <path d=\"M 9.8125 72.90625 \nL 55.90625 72.90625 \nL 55.90625 64.59375 \nL 19.671875 64.59375 \nL 19.671875 43.015625 \nL 54.390625 43.015625 \nL 54.390625 34.71875 \nL 19.671875 34.71875 \nL 19.671875 8.296875 \nL 56.78125 8.296875 \nL 56.78125 0 \nL 9.8125 0 \nz\n\" id=\"DejaVuSans-69\"/>\n        <path d=\"M 54.890625 54.6875 \nL 35.109375 28.078125 \nL 55.90625 0 \nL 45.3125 0 \nL 29.390625 21.484375 \nL 13.484375 0 \nL 2.875 0 \nL 24.125 28.609375 \nL 4.6875 54.6875 \nL 15.28125 54.6875 \nL 29.78125 35.203125 \nL 44.28125 54.6875 \nz\n\" id=\"DejaVuSans-120\"/>\n        <path d=\"M 56.203125 29.59375 \nL 56.203125 25.203125 \nL 14.890625 25.203125 \nQ 15.484375 15.921875 20.484375 11.0625 \nQ 25.484375 6.203125 34.421875 6.203125 \nQ 39.59375 6.203125 44.453125 7.46875 \nQ 49.3125 8.734375 54.109375 11.28125 \nL 54.109375 2.78125 \nQ 49.265625 0.734375 44.1875 -0.34375 \nQ 39.109375 -1.421875 33.890625 -1.421875 \nQ 20.796875 -1.421875 13.15625 6.1875 \nQ 5.515625 13.8125 5.515625 26.8125 \nQ 5.515625 40.234375 12.765625 48.109375 \nQ 20.015625 56 32.328125 56 \nQ 43.359375 56 49.78125 48.890625 \nQ 56.203125 41.796875 56.203125 29.59375 \nz\nM 47.21875 32.234375 \nQ 47.125 39.59375 43.09375 43.984375 \nQ 39.0625 48.390625 32.421875 48.390625 \nQ 24.90625 48.390625 20.390625 44.140625 \nQ 15.875 39.890625 15.1875 32.171875 \nz\n\" id=\"DejaVuSans-101\"/>\n        <path d=\"M 48.78125 52.59375 \nL 48.78125 44.1875 \nQ 44.96875 46.296875 41.140625 47.34375 \nQ 37.3125 48.390625 33.40625 48.390625 \nQ 24.65625 48.390625 19.8125 42.84375 \nQ 14.984375 37.3125 14.984375 27.296875 \nQ 14.984375 17.28125 19.8125 11.734375 \nQ 24.65625 6.203125 33.40625 6.203125 \nQ 37.3125 6.203125 41.140625 7.25 \nQ 44.96875 8.296875 48.78125 10.40625 \nL 48.78125 2.09375 \nQ 45.015625 0.34375 40.984375 -0.53125 \nQ 36.96875 -1.421875 32.421875 -1.421875 \nQ 20.0625 -1.421875 12.78125 6.34375 \nQ 5.515625 14.109375 5.515625 27.296875 \nQ 5.515625 40.671875 12.859375 48.328125 \nQ 20.21875 56 33.015625 56 \nQ 37.15625 56 41.109375 55.140625 \nQ 45.0625 54.296875 48.78125 52.59375 \nz\n\" id=\"DejaVuSans-99\"/>\n        <path d=\"M 4.890625 31.390625 \nL 31.203125 31.390625 \nL 31.203125 23.390625 \nL 4.890625 23.390625 \nz\n\" id=\"DejaVuSans-45\"/>\n        <path d=\"M 52 44.1875 \nQ 55.375 50.25 60.0625 53.125 \nQ 64.75 56 71.09375 56 \nQ 79.640625 56 84.28125 50.015625 \nQ 88.921875 44.046875 88.921875 33.015625 \nL 88.921875 0 \nL 79.890625 0 \nL 79.890625 32.71875 \nQ 79.890625 40.578125 77.09375 44.375 \nQ 74.3125 48.1875 68.609375 48.1875 \nQ 61.625 48.1875 57.5625 43.546875 \nQ 53.515625 38.921875 53.515625 30.90625 \nL 53.515625 0 \nL 44.484375 0 \nL 44.484375 32.71875 \nQ 44.484375 40.625 41.703125 44.40625 \nQ 38.921875 48.1875 33.109375 48.1875 \nQ 26.21875 48.1875 22.15625 43.53125 \nQ 18.109375 38.875 18.109375 30.90625 \nL 18.109375 0 \nL 9.078125 0 \nL 9.078125 54.6875 \nL 18.109375 54.6875 \nL 18.109375 46.1875 \nQ 21.1875 51.21875 25.484375 53.609375 \nQ 29.78125 56 35.6875 56 \nQ 41.65625 56 45.828125 52.96875 \nQ 50 49.953125 52 44.1875 \nz\n\" id=\"DejaVuSans-109\"/>\n        <path d=\"M 34.28125 27.484375 \nQ 23.390625 27.484375 19.1875 25 \nQ 14.984375 22.515625 14.984375 16.5 \nQ 14.984375 11.71875 18.140625 8.90625 \nQ 21.296875 6.109375 26.703125 6.109375 \nQ 34.1875 6.109375 38.703125 11.40625 \nQ 43.21875 16.703125 43.21875 25.484375 \nL 43.21875 27.484375 \nz\nM 52.203125 31.203125 \nL 52.203125 0 \nL 43.21875 0 \nL 43.21875 8.296875 \nQ 40.140625 3.328125 35.546875 0.953125 \nQ 30.953125 -1.421875 24.3125 -1.421875 \nQ 15.921875 -1.421875 10.953125 3.296875 \nQ 6 8.015625 6 15.921875 \nQ 6 25.140625 12.171875 29.828125 \nQ 18.359375 34.515625 30.609375 34.515625 \nL 43.21875 34.515625 \nL 43.21875 35.40625 \nQ 43.21875 41.609375 39.140625 45 \nQ 35.0625 48.390625 27.6875 48.390625 \nQ 23 48.390625 18.546875 47.265625 \nQ 14.109375 46.140625 10.015625 43.890625 \nL 10.015625 52.203125 \nQ 14.9375 54.109375 19.578125 55.046875 \nQ 24.21875 56 28.609375 56 \nQ 40.484375 56 46.34375 49.84375 \nQ 52.203125 43.703125 52.203125 31.203125 \nz\n\" id=\"DejaVuSans-97\"/>\n        <path d=\"M 54.890625 33.015625 \nL 54.890625 0 \nL 45.90625 0 \nL 45.90625 32.71875 \nQ 45.90625 40.484375 42.875 44.328125 \nQ 39.84375 48.1875 33.796875 48.1875 \nQ 26.515625 48.1875 22.3125 43.546875 \nQ 18.109375 38.921875 18.109375 30.90625 \nL 18.109375 0 \nL 9.078125 0 \nL 9.078125 54.6875 \nL 18.109375 54.6875 \nL 18.109375 46.1875 \nQ 21.34375 51.125 25.703125 53.5625 \nQ 30.078125 56 35.796875 56 \nQ 45.21875 56 50.046875 50.171875 \nQ 54.890625 44.34375 54.890625 33.015625 \nz\n\" id=\"DejaVuSans-110\"/>\n        <path d=\"M 45.40625 27.984375 \nQ 45.40625 37.75 41.375 43.109375 \nQ 37.359375 48.484375 30.078125 48.484375 \nQ 22.859375 48.484375 18.828125 43.109375 \nQ 14.796875 37.75 14.796875 27.984375 \nQ 14.796875 18.265625 18.828125 12.890625 \nQ 22.859375 7.515625 30.078125 7.515625 \nQ 37.359375 7.515625 41.375 12.890625 \nQ 45.40625 18.265625 45.40625 27.984375 \nz\nM 54.390625 6.78125 \nQ 54.390625 -7.171875 48.1875 -13.984375 \nQ 42 -20.796875 29.203125 -20.796875 \nQ 24.46875 -20.796875 20.265625 -20.09375 \nQ 16.0625 -19.390625 12.109375 -17.921875 \nL 12.109375 -9.1875 \nQ 16.0625 -11.328125 19.921875 -12.34375 \nQ 23.78125 -13.375 27.78125 -13.375 \nQ 36.625 -13.375 41.015625 -8.765625 \nQ 45.40625 -4.15625 45.40625 5.171875 \nL 45.40625 9.625 \nQ 42.625 4.78125 38.28125 2.390625 \nQ 33.9375 0 27.875 0 \nQ 17.828125 0 11.671875 7.65625 \nQ 5.515625 15.328125 5.515625 27.984375 \nQ 5.515625 40.671875 11.671875 48.328125 \nQ 17.828125 56 27.875 56 \nQ 33.9375 56 38.28125 53.609375 \nQ 42.625 51.21875 45.40625 46.390625 \nL 45.40625 54.6875 \nL 54.390625 54.6875 \nz\n\" id=\"DejaVuSans-103\"/>\n        <path d=\"M 41.109375 46.296875 \nQ 39.59375 47.171875 37.8125 47.578125 \nQ 36.03125 48 33.890625 48 \nQ 26.265625 48 22.1875 43.046875 \nQ 18.109375 38.09375 18.109375 28.8125 \nL 18.109375 0 \nL 9.078125 0 \nL 9.078125 54.6875 \nL 18.109375 54.6875 \nL 18.109375 46.1875 \nQ 20.953125 51.171875 25.484375 53.578125 \nQ 30.03125 56 36.53125 56 \nQ 37.453125 56 38.578125 55.875 \nQ 39.703125 55.765625 41.0625 55.515625 \nz\n\" id=\"DejaVuSans-114\"/>\n        <path d=\"M 9.421875 54.6875 \nL 18.40625 54.6875 \nL 18.40625 0 \nL 9.421875 0 \nz\nM 9.421875 75.984375 \nL 18.40625 75.984375 \nL 18.40625 64.59375 \nL 9.421875 64.59375 \nz\n\" id=\"DejaVuSans-105\"/>\n        <path d=\"M 9.421875 75.984375 \nL 18.40625 75.984375 \nL 18.40625 0 \nL 9.421875 0 \nz\n\" id=\"DejaVuSans-108\"/>\n       </defs>\n       <use xlink:href=\"#DejaVuSans-32\"/>\n       <use x=\"31.787109\" xlink:href=\"#DejaVuSans-69\"/>\n       <use x=\"94.970703\" xlink:href=\"#DejaVuSans-120\"/>\n       <use x=\"151.025391\" xlink:href=\"#DejaVuSans-101\"/>\n       <use x=\"212.548828\" xlink:href=\"#DejaVuSans-99\"/>\n       <use x=\"267.529297\" xlink:href=\"#DejaVuSans-45\"/>\n       <use x=\"303.613281\" xlink:href=\"#DejaVuSans-109\"/>\n       <use x=\"401.025391\" xlink:href=\"#DejaVuSans-97\"/>\n       <use x=\"462.304688\" xlink:href=\"#DejaVuSans-110\"/>\n       <use x=\"525.683594\" xlink:href=\"#DejaVuSans-97\"/>\n       <use x=\"586.962891\" xlink:href=\"#DejaVuSans-103\"/>\n       <use x=\"650.439453\" xlink:href=\"#DejaVuSans-101\"/>\n       <use x=\"711.962891\" xlink:href=\"#DejaVuSans-114\"/>\n       <use x=\"753.076172\" xlink:href=\"#DejaVuSans-105\"/>\n       <use x=\"780.859375\" xlink:href=\"#DejaVuSans-97\"/>\n       <use x=\"842.138672\" xlink:href=\"#DejaVuSans-108\"/>\n      </g>\n     </g>\n    </g>\n    <g id=\"ytick_2\">\n     <g id=\"line2d_15\">\n      <path clip-path=\"url(#p4a45dc7ca8)\" d=\"M 124.815313 202.896 \nL 459.615313 202.896 \n\" style=\"fill:none;stroke:#ffffff;stroke-linecap:square;stroke-width:0.8;\"/>\n     </g>\n     <g id=\"line2d_16\">\n      <g>\n       <use style=\"fill:#555555;stroke:#555555;stroke-width:0.8;\" x=\"124.815313\" xlink:href=\"#m5b0e2efe42\" y=\"202.896\"/>\n      </g>\n     </g>\n     <g id=\"text_8\">\n      <!--  Prof-specialty -->\n      <g style=\"fill:#555555;\" transform=\"translate(47.466875 206.695219)scale(0.1 -0.1)\">\n       <defs>\n        <path d=\"M 19.671875 64.796875 \nL 19.671875 37.40625 \nL 32.078125 37.40625 \nQ 38.96875 37.40625 42.71875 40.96875 \nQ 46.484375 44.53125 46.484375 51.125 \nQ 46.484375 57.671875 42.71875 61.234375 \nQ 38.96875 64.796875 32.078125 64.796875 \nz\nM 9.8125 72.90625 \nL 32.078125 72.90625 \nQ 44.34375 72.90625 50.609375 67.359375 \nQ 56.890625 61.8125 56.890625 51.125 \nQ 56.890625 40.328125 50.609375 34.8125 \nQ 44.34375 29.296875 32.078125 29.296875 \nL 19.671875 29.296875 \nL 19.671875 0 \nL 9.8125 0 \nz\n\" id=\"DejaVuSans-80\"/>\n        <path d=\"M 30.609375 48.390625 \nQ 23.390625 48.390625 19.1875 42.75 \nQ 14.984375 37.109375 14.984375 27.296875 \nQ 14.984375 17.484375 19.15625 11.84375 \nQ 23.34375 6.203125 30.609375 6.203125 \nQ 37.796875 6.203125 41.984375 11.859375 \nQ 46.1875 17.53125 46.1875 27.296875 \nQ 46.1875 37.015625 41.984375 42.703125 \nQ 37.796875 48.390625 30.609375 48.390625 \nz\nM 30.609375 56 \nQ 42.328125 56 49.015625 48.375 \nQ 55.71875 40.765625 55.71875 27.296875 \nQ 55.71875 13.875 49.015625 6.21875 \nQ 42.328125 -1.421875 30.609375 -1.421875 \nQ 18.84375 -1.421875 12.171875 6.21875 \nQ 5.515625 13.875 5.515625 27.296875 \nQ 5.515625 40.765625 12.171875 48.375 \nQ 18.84375 56 30.609375 56 \nz\n\" id=\"DejaVuSans-111\"/>\n        <path d=\"M 37.109375 75.984375 \nL 37.109375 68.5 \nL 28.515625 68.5 \nQ 23.6875 68.5 21.796875 66.546875 \nQ 19.921875 64.59375 19.921875 59.515625 \nL 19.921875 54.6875 \nL 34.71875 54.6875 \nL 34.71875 47.703125 \nL 19.921875 47.703125 \nL 19.921875 0 \nL 10.890625 0 \nL 10.890625 47.703125 \nL 2.296875 47.703125 \nL 2.296875 54.6875 \nL 10.890625 54.6875 \nL 10.890625 58.5 \nQ 10.890625 67.625 15.140625 71.796875 \nQ 19.390625 75.984375 28.609375 75.984375 \nz\n\" id=\"DejaVuSans-102\"/>\n        <path d=\"M 44.28125 53.078125 \nL 44.28125 44.578125 \nQ 40.484375 46.53125 36.375 47.5 \nQ 32.28125 48.484375 27.875 48.484375 \nQ 21.1875 48.484375 17.84375 46.4375 \nQ 14.5 44.390625 14.5 40.28125 \nQ 14.5 37.15625 16.890625 35.375 \nQ 19.28125 33.59375 26.515625 31.984375 \nL 29.59375 31.296875 \nQ 39.15625 29.25 43.1875 25.515625 \nQ 47.21875 21.78125 47.21875 15.09375 \nQ 47.21875 7.46875 41.1875 3.015625 \nQ 35.15625 -1.421875 24.609375 -1.421875 \nQ 20.21875 -1.421875 15.453125 -0.5625 \nQ 10.6875 0.296875 5.421875 2 \nL 5.421875 11.28125 \nQ 10.40625 8.6875 15.234375 7.390625 \nQ 20.0625 6.109375 24.8125 6.109375 \nQ 31.15625 6.109375 34.5625 8.28125 \nQ 37.984375 10.453125 37.984375 14.40625 \nQ 37.984375 18.0625 35.515625 20.015625 \nQ 33.0625 21.96875 24.703125 23.78125 \nL 21.578125 24.515625 \nQ 13.234375 26.265625 9.515625 29.90625 \nQ 5.8125 33.546875 5.8125 39.890625 \nQ 5.8125 47.609375 11.28125 51.796875 \nQ 16.75 56 26.8125 56 \nQ 31.78125 56 36.171875 55.265625 \nQ 40.578125 54.546875 44.28125 53.078125 \nz\n\" id=\"DejaVuSans-115\"/>\n        <path d=\"M 18.109375 8.203125 \nL 18.109375 -20.796875 \nL 9.078125 -20.796875 \nL 9.078125 54.6875 \nL 18.109375 54.6875 \nL 18.109375 46.390625 \nQ 20.953125 51.265625 25.265625 53.625 \nQ 29.59375 56 35.59375 56 \nQ 45.5625 56 51.78125 48.09375 \nQ 58.015625 40.1875 58.015625 27.296875 \nQ 58.015625 14.40625 51.78125 6.484375 \nQ 45.5625 -1.421875 35.59375 -1.421875 \nQ 29.59375 -1.421875 25.265625 0.953125 \nQ 20.953125 3.328125 18.109375 8.203125 \nz\nM 48.6875 27.296875 \nQ 48.6875 37.203125 44.609375 42.84375 \nQ 40.53125 48.484375 33.40625 48.484375 \nQ 26.265625 48.484375 22.1875 42.84375 \nQ 18.109375 37.203125 18.109375 27.296875 \nQ 18.109375 17.390625 22.1875 11.75 \nQ 26.265625 6.109375 33.40625 6.109375 \nQ 40.53125 6.109375 44.609375 11.75 \nQ 48.6875 17.390625 48.6875 27.296875 \nz\n\" id=\"DejaVuSans-112\"/>\n        <path d=\"M 18.3125 70.21875 \nL 18.3125 54.6875 \nL 36.8125 54.6875 \nL 36.8125 47.703125 \nL 18.3125 47.703125 \nL 18.3125 18.015625 \nQ 18.3125 11.328125 20.140625 9.421875 \nQ 21.96875 7.515625 27.59375 7.515625 \nL 36.8125 7.515625 \nL 36.8125 0 \nL 27.59375 0 \nQ 17.1875 0 13.234375 3.875 \nQ 9.28125 7.765625 9.28125 18.015625 \nL 9.28125 47.703125 \nL 2.6875 47.703125 \nL 2.6875 54.6875 \nL 9.28125 54.6875 \nL 9.28125 70.21875 \nz\n\" id=\"DejaVuSans-116\"/>\n        <path d=\"M 32.171875 -5.078125 \nQ 28.375 -14.84375 24.75 -17.8125 \nQ 21.140625 -20.796875 15.09375 -20.796875 \nL 7.90625 -20.796875 \nL 7.90625 -13.28125 \nL 13.1875 -13.28125 \nQ 16.890625 -13.28125 18.9375 -11.515625 \nQ 21 -9.765625 23.484375 -3.21875 \nL 25.09375 0.875 \nL 2.984375 54.6875 \nL 12.5 54.6875 \nL 29.59375 11.921875 \nL 46.6875 54.6875 \nL 56.203125 54.6875 \nz\n\" id=\"DejaVuSans-121\"/>\n       </defs>\n       <use xlink:href=\"#DejaVuSans-32\"/>\n       <use x=\"31.787109\" xlink:href=\"#DejaVuSans-80\"/>\n       <use x=\"90.339844\" xlink:href=\"#DejaVuSans-114\"/>\n       <use x=\"129.203125\" xlink:href=\"#DejaVuSans-111\"/>\n       <use x=\"190.384766\" xlink:href=\"#DejaVuSans-102\"/>\n       <use x=\"220.089844\" xlink:href=\"#DejaVuSans-45\"/>\n       <use x=\"256.173828\" xlink:href=\"#DejaVuSans-115\"/>\n       <use x=\"308.273438\" xlink:href=\"#DejaVuSans-112\"/>\n       <use x=\"371.75\" xlink:href=\"#DejaVuSans-101\"/>\n       <use x=\"433.273438\" xlink:href=\"#DejaVuSans-99\"/>\n       <use x=\"488.253906\" xlink:href=\"#DejaVuSans-105\"/>\n       <use x=\"516.037109\" xlink:href=\"#DejaVuSans-97\"/>\n       <use x=\"577.316406\" xlink:href=\"#DejaVuSans-108\"/>\n       <use x=\"605.099609\" xlink:href=\"#DejaVuSans-116\"/>\n       <use x=\"644.308594\" xlink:href=\"#DejaVuSans-121\"/>\n      </g>\n     </g>\n    </g>\n    <g id=\"ytick_3\">\n     <g id=\"line2d_17\">\n      <path clip-path=\"url(#p4a45dc7ca8)\" d=\"M 124.815313 188.4 \nL 459.615313 188.4 \n\" style=\"fill:none;stroke:#ffffff;stroke-linecap:square;stroke-width:0.8;\"/>\n     </g>\n     <g id=\"line2d_18\">\n      <g>\n       <use style=\"fill:#555555;stroke:#555555;stroke-width:0.8;\" x=\"124.815313\" xlink:href=\"#m5b0e2efe42\" y=\"188.4\"/>\n      </g>\n     </g>\n     <g id=\"text_9\">\n      <!--  Protective-serv -->\n      <g style=\"fill:#555555;\" transform=\"translate(39.435625 192.199219)scale(0.1 -0.1)\">\n       <defs>\n        <path d=\"M 2.984375 54.6875 \nL 12.5 54.6875 \nL 29.59375 8.796875 \nL 46.6875 54.6875 \nL 56.203125 54.6875 \nL 35.6875 0 \nL 23.484375 0 \nz\n\" id=\"DejaVuSans-118\"/>\n       </defs>\n       <use xlink:href=\"#DejaVuSans-32\"/>\n       <use x=\"31.787109\" xlink:href=\"#DejaVuSans-80\"/>\n       <use x=\"90.339844\" xlink:href=\"#DejaVuSans-114\"/>\n       <use x=\"129.203125\" xlink:href=\"#DejaVuSans-111\"/>\n       <use x=\"190.384766\" xlink:href=\"#DejaVuSans-116\"/>\n       <use x=\"229.59375\" xlink:href=\"#DejaVuSans-101\"/>\n       <use x=\"291.117188\" xlink:href=\"#DejaVuSans-99\"/>\n       <use x=\"346.097656\" xlink:href=\"#DejaVuSans-116\"/>\n       <use x=\"385.306641\" xlink:href=\"#DejaVuSans-105\"/>\n       <use x=\"413.089844\" xlink:href=\"#DejaVuSans-118\"/>\n       <use x=\"472.269531\" xlink:href=\"#DejaVuSans-101\"/>\n       <use x=\"533.792969\" xlink:href=\"#DejaVuSans-45\"/>\n       <use x=\"569.876953\" xlink:href=\"#DejaVuSans-115\"/>\n       <use x=\"621.976562\" xlink:href=\"#DejaVuSans-101\"/>\n       <use x=\"683.5\" xlink:href=\"#DejaVuSans-114\"/>\n       <use x=\"724.613281\" xlink:href=\"#DejaVuSans-118\"/>\n      </g>\n     </g>\n    </g>\n    <g id=\"ytick_4\">\n     <g id=\"line2d_19\">\n      <path clip-path=\"url(#p4a45dc7ca8)\" d=\"M 124.815313 173.904 \nL 459.615313 173.904 \n\" style=\"fill:none;stroke:#ffffff;stroke-linecap:square;stroke-width:0.8;\"/>\n     </g>\n     <g id=\"line2d_20\">\n      <g>\n       <use style=\"fill:#555555;stroke:#555555;stroke-width:0.8;\" x=\"124.815313\" xlink:href=\"#m5b0e2efe42\" y=\"173.904\"/>\n      </g>\n     </g>\n     <g id=\"text_10\">\n      <!--  Tech-support -->\n      <g style=\"fill:#555555;\" transform=\"translate(50.23875 177.703219)scale(0.1 -0.1)\">\n       <defs>\n        <path d=\"M -0.296875 72.90625 \nL 61.375 72.90625 \nL 61.375 64.59375 \nL 35.5 64.59375 \nL 35.5 0 \nL 25.59375 0 \nL 25.59375 64.59375 \nL -0.296875 64.59375 \nz\n\" id=\"DejaVuSans-84\"/>\n        <path d=\"M 54.890625 33.015625 \nL 54.890625 0 \nL 45.90625 0 \nL 45.90625 32.71875 \nQ 45.90625 40.484375 42.875 44.328125 \nQ 39.84375 48.1875 33.796875 48.1875 \nQ 26.515625 48.1875 22.3125 43.546875 \nQ 18.109375 38.921875 18.109375 30.90625 \nL 18.109375 0 \nL 9.078125 0 \nL 9.078125 75.984375 \nL 18.109375 75.984375 \nL 18.109375 46.1875 \nQ 21.34375 51.125 25.703125 53.5625 \nQ 30.078125 56 35.796875 56 \nQ 45.21875 56 50.046875 50.171875 \nQ 54.890625 44.34375 54.890625 33.015625 \nz\n\" id=\"DejaVuSans-104\"/>\n        <path d=\"M 8.5 21.578125 \nL 8.5 54.6875 \nL 17.484375 54.6875 \nL 17.484375 21.921875 \nQ 17.484375 14.15625 20.5 10.265625 \nQ 23.53125 6.390625 29.59375 6.390625 \nQ 36.859375 6.390625 41.078125 11.03125 \nQ 45.3125 15.671875 45.3125 23.6875 \nL 45.3125 54.6875 \nL 54.296875 54.6875 \nL 54.296875 0 \nL 45.3125 0 \nL 45.3125 8.40625 \nQ 42.046875 3.421875 37.71875 1 \nQ 33.40625 -1.421875 27.6875 -1.421875 \nQ 18.265625 -1.421875 13.375 4.4375 \nQ 8.5 10.296875 8.5 21.578125 \nz\nM 31.109375 56 \nz\n\" id=\"DejaVuSans-117\"/>\n       </defs>\n       <use xlink:href=\"#DejaVuSans-32\"/>\n       <use x=\"31.787109\" xlink:href=\"#DejaVuSans-84\"/>\n       <use x=\"75.871094\" xlink:href=\"#DejaVuSans-101\"/>\n       <use x=\"137.394531\" xlink:href=\"#DejaVuSans-99\"/>\n       <use x=\"192.375\" xlink:href=\"#DejaVuSans-104\"/>\n       <use x=\"255.753906\" xlink:href=\"#DejaVuSans-45\"/>\n       <use x=\"291.837891\" xlink:href=\"#DejaVuSans-115\"/>\n       <use x=\"343.9375\" xlink:href=\"#DejaVuSans-117\"/>\n       <use x=\"407.316406\" xlink:href=\"#DejaVuSans-112\"/>\n       <use x=\"470.792969\" xlink:href=\"#DejaVuSans-112\"/>\n       <use x=\"534.269531\" xlink:href=\"#DejaVuSans-111\"/>\n       <use x=\"595.451172\" xlink:href=\"#DejaVuSans-114\"/>\n       <use x=\"636.564453\" xlink:href=\"#DejaVuSans-116\"/>\n      </g>\n     </g>\n    </g>\n    <g id=\"ytick_5\">\n     <g id=\"line2d_21\">\n      <path clip-path=\"url(#p4a45dc7ca8)\" d=\"M 124.815313 159.408 \nL 459.615313 159.408 \n\" style=\"fill:none;stroke:#ffffff;stroke-linecap:square;stroke-width:0.8;\"/>\n     </g>\n     <g id=\"line2d_22\">\n      <g>\n       <use style=\"fill:#555555;stroke:#555555;stroke-width:0.8;\" x=\"124.815313\" xlink:href=\"#m5b0e2efe42\" y=\"159.408\"/>\n      </g>\n     </g>\n     <g id=\"text_11\">\n      <!--  Sales -->\n      <g style=\"fill:#555555;\" transform=\"translate(88.02 163.207219)scale(0.1 -0.1)\">\n       <defs>\n        <path d=\"M 53.515625 70.515625 \nL 53.515625 60.890625 \nQ 47.90625 63.578125 42.921875 64.890625 \nQ 37.9375 66.21875 33.296875 66.21875 \nQ 25.25 66.21875 20.875 63.09375 \nQ 16.5 59.96875 16.5 54.203125 \nQ 16.5 49.359375 19.40625 46.890625 \nQ 22.3125 44.4375 30.421875 42.921875 \nL 36.375 41.703125 \nQ 47.40625 39.59375 52.65625 34.296875 \nQ 57.90625 29 57.90625 20.125 \nQ 57.90625 9.515625 50.796875 4.046875 \nQ 43.703125 -1.421875 29.984375 -1.421875 \nQ 24.8125 -1.421875 18.96875 -0.25 \nQ 13.140625 0.921875 6.890625 3.21875 \nL 6.890625 13.375 \nQ 12.890625 10.015625 18.65625 8.296875 \nQ 24.421875 6.59375 29.984375 6.59375 \nQ 38.421875 6.59375 43.015625 9.90625 \nQ 47.609375 13.234375 47.609375 19.390625 \nQ 47.609375 24.75 44.3125 27.78125 \nQ 41.015625 30.8125 33.5 32.328125 \nL 27.484375 33.5 \nQ 16.453125 35.6875 11.515625 40.375 \nQ 6.59375 45.0625 6.59375 53.421875 \nQ 6.59375 63.09375 13.40625 68.65625 \nQ 20.21875 74.21875 32.171875 74.21875 \nQ 37.3125 74.21875 42.625 73.28125 \nQ 47.953125 72.359375 53.515625 70.515625 \nz\n\" id=\"DejaVuSans-83\"/>\n       </defs>\n       <use xlink:href=\"#DejaVuSans-32\"/>\n       <use x=\"31.787109\" xlink:href=\"#DejaVuSans-83\"/>\n       <use x=\"95.263672\" xlink:href=\"#DejaVuSans-97\"/>\n       <use x=\"156.542969\" xlink:href=\"#DejaVuSans-108\"/>\n       <use x=\"184.326172\" xlink:href=\"#DejaVuSans-101\"/>\n       <use x=\"245.849609\" xlink:href=\"#DejaVuSans-115\"/>\n      </g>\n     </g>\n    </g>\n    <g id=\"ytick_6\">\n     <g id=\"line2d_23\">\n      <path clip-path=\"url(#p4a45dc7ca8)\" d=\"M 124.815313 144.912 \nL 459.615313 144.912 \n\" style=\"fill:none;stroke:#ffffff;stroke-linecap:square;stroke-width:0.8;\"/>\n     </g>\n     <g id=\"line2d_24\">\n      <g>\n       <use style=\"fill:#555555;stroke:#555555;stroke-width:0.8;\" x=\"124.815313\" xlink:href=\"#m5b0e2efe42\" y=\"144.912\"/>\n      </g>\n     </g>\n     <g id=\"text_12\">\n      <!--  Craft-repair -->\n      <g style=\"fill:#555555;\" transform=\"translate(57.137188 148.711219)scale(0.1 -0.1)\">\n       <defs>\n        <path d=\"M 64.40625 67.28125 \nL 64.40625 56.890625 \nQ 59.421875 61.53125 53.78125 63.8125 \nQ 48.140625 66.109375 41.796875 66.109375 \nQ 29.296875 66.109375 22.65625 58.46875 \nQ 16.015625 50.828125 16.015625 36.375 \nQ 16.015625 21.96875 22.65625 14.328125 \nQ 29.296875 6.6875 41.796875 6.6875 \nQ 48.140625 6.6875 53.78125 8.984375 \nQ 59.421875 11.28125 64.40625 15.921875 \nL 64.40625 5.609375 \nQ 59.234375 2.09375 53.4375 0.328125 \nQ 47.65625 -1.421875 41.21875 -1.421875 \nQ 24.65625 -1.421875 15.125 8.703125 \nQ 5.609375 18.84375 5.609375 36.375 \nQ 5.609375 53.953125 15.125 64.078125 \nQ 24.65625 74.21875 41.21875 74.21875 \nQ 47.75 74.21875 53.53125 72.484375 \nQ 59.328125 70.75 64.40625 67.28125 \nz\n\" id=\"DejaVuSans-67\"/>\n       </defs>\n       <use xlink:href=\"#DejaVuSans-32\"/>\n       <use x=\"31.787109\" xlink:href=\"#DejaVuSans-67\"/>\n       <use x=\"101.611328\" xlink:href=\"#DejaVuSans-114\"/>\n       <use x=\"142.724609\" xlink:href=\"#DejaVuSans-97\"/>\n       <use x=\"204.003906\" xlink:href=\"#DejaVuSans-102\"/>\n       <use x=\"237.458984\" xlink:href=\"#DejaVuSans-116\"/>\n       <use x=\"276.667969\" xlink:href=\"#DejaVuSans-45\"/>\n       <use x=\"312.751953\" xlink:href=\"#DejaVuSans-114\"/>\n       <use x=\"351.615234\" xlink:href=\"#DejaVuSans-101\"/>\n       <use x=\"413.138672\" xlink:href=\"#DejaVuSans-112\"/>\n       <use x=\"476.615234\" xlink:href=\"#DejaVuSans-97\"/>\n       <use x=\"537.894531\" xlink:href=\"#DejaVuSans-105\"/>\n       <use x=\"565.677734\" xlink:href=\"#DejaVuSans-114\"/>\n      </g>\n     </g>\n    </g>\n    <g id=\"ytick_7\">\n     <g id=\"line2d_25\">\n      <path clip-path=\"url(#p4a45dc7ca8)\" d=\"M 124.815313 130.416 \nL 459.615313 130.416 \n\" style=\"fill:none;stroke:#ffffff;stroke-linecap:square;stroke-width:0.8;\"/>\n     </g>\n     <g id=\"line2d_26\">\n      <g>\n       <use style=\"fill:#555555;stroke:#555555;stroke-width:0.8;\" x=\"124.815313\" xlink:href=\"#m5b0e2efe42\" y=\"130.416\"/>\n      </g>\n     </g>\n     <g id=\"text_13\">\n      <!--  Transport-moving -->\n      <g style=\"fill:#555555;\" transform=\"translate(26.87 134.215219)scale(0.1 -0.1)\">\n       <use xlink:href=\"#DejaVuSans-32\"/>\n       <use x=\"31.787109\" xlink:href=\"#DejaVuSans-84\"/>\n       <use x=\"78.121094\" xlink:href=\"#DejaVuSans-114\"/>\n       <use x=\"119.234375\" xlink:href=\"#DejaVuSans-97\"/>\n       <use x=\"180.513672\" xlink:href=\"#DejaVuSans-110\"/>\n       <use x=\"243.892578\" xlink:href=\"#DejaVuSans-115\"/>\n       <use x=\"295.992188\" xlink:href=\"#DejaVuSans-112\"/>\n       <use x=\"359.46875\" xlink:href=\"#DejaVuSans-111\"/>\n       <use x=\"420.650391\" xlink:href=\"#DejaVuSans-114\"/>\n       <use x=\"461.763672\" xlink:href=\"#DejaVuSans-116\"/>\n       <use x=\"500.972656\" xlink:href=\"#DejaVuSans-45\"/>\n       <use x=\"537.056641\" xlink:href=\"#DejaVuSans-109\"/>\n       <use x=\"634.46875\" xlink:href=\"#DejaVuSans-111\"/>\n       <use x=\"695.650391\" xlink:href=\"#DejaVuSans-118\"/>\n       <use x=\"754.830078\" xlink:href=\"#DejaVuSans-105\"/>\n       <use x=\"782.613281\" xlink:href=\"#DejaVuSans-110\"/>\n       <use x=\"845.992188\" xlink:href=\"#DejaVuSans-103\"/>\n      </g>\n     </g>\n    </g>\n    <g id=\"ytick_8\">\n     <g id=\"line2d_27\">\n      <path clip-path=\"url(#p4a45dc7ca8)\" d=\"M 124.815313 115.92 \nL 459.615313 115.92 \n\" style=\"fill:none;stroke:#ffffff;stroke-linecap:square;stroke-width:0.8;\"/>\n     </g>\n     <g id=\"line2d_28\">\n      <g>\n       <use style=\"fill:#555555;stroke:#555555;stroke-width:0.8;\" x=\"124.815313\" xlink:href=\"#m5b0e2efe42\" y=\"115.92\"/>\n      </g>\n     </g>\n     <g id=\"text_14\">\n      <!--  Adm-clerical -->\n      <g style=\"fill:#555555;\" transform=\"translate(52.55125 119.719219)scale(0.1 -0.1)\">\n       <defs>\n        <path d=\"M 34.1875 63.1875 \nL 20.796875 26.90625 \nL 47.609375 26.90625 \nz\nM 28.609375 72.90625 \nL 39.796875 72.90625 \nL 67.578125 0 \nL 57.328125 0 \nL 50.6875 18.703125 \nL 17.828125 18.703125 \nL 11.1875 0 \nL 0.78125 0 \nz\n\" id=\"DejaVuSans-65\"/>\n        <path d=\"M 45.40625 46.390625 \nL 45.40625 75.984375 \nL 54.390625 75.984375 \nL 54.390625 0 \nL 45.40625 0 \nL 45.40625 8.203125 \nQ 42.578125 3.328125 38.25 0.953125 \nQ 33.9375 -1.421875 27.875 -1.421875 \nQ 17.96875 -1.421875 11.734375 6.484375 \nQ 5.515625 14.40625 5.515625 27.296875 \nQ 5.515625 40.1875 11.734375 48.09375 \nQ 17.96875 56 27.875 56 \nQ 33.9375 56 38.25 53.625 \nQ 42.578125 51.265625 45.40625 46.390625 \nz\nM 14.796875 27.296875 \nQ 14.796875 17.390625 18.875 11.75 \nQ 22.953125 6.109375 30.078125 6.109375 \nQ 37.203125 6.109375 41.296875 11.75 \nQ 45.40625 17.390625 45.40625 27.296875 \nQ 45.40625 37.203125 41.296875 42.84375 \nQ 37.203125 48.484375 30.078125 48.484375 \nQ 22.953125 48.484375 18.875 42.84375 \nQ 14.796875 37.203125 14.796875 27.296875 \nz\n\" id=\"DejaVuSans-100\"/>\n       </defs>\n       <use xlink:href=\"#DejaVuSans-32\"/>\n       <use x=\"31.787109\" xlink:href=\"#DejaVuSans-65\"/>\n       <use x=\"98.445312\" xlink:href=\"#DejaVuSans-100\"/>\n       <use x=\"161.921875\" xlink:href=\"#DejaVuSans-109\"/>\n       <use x=\"259.333984\" xlink:href=\"#DejaVuSans-45\"/>\n       <use x=\"295.417969\" xlink:href=\"#DejaVuSans-99\"/>\n       <use x=\"350.398438\" xlink:href=\"#DejaVuSans-108\"/>\n       <use x=\"378.181641\" xlink:href=\"#DejaVuSans-101\"/>\n       <use x=\"439.705078\" xlink:href=\"#DejaVuSans-114\"/>\n       <use x=\"480.818359\" xlink:href=\"#DejaVuSans-105\"/>\n       <use x=\"508.601562\" xlink:href=\"#DejaVuSans-99\"/>\n       <use x=\"563.582031\" xlink:href=\"#DejaVuSans-97\"/>\n       <use x=\"624.861328\" xlink:href=\"#DejaVuSans-108\"/>\n      </g>\n     </g>\n    </g>\n    <g id=\"ytick_9\">\n     <g id=\"line2d_29\">\n      <path clip-path=\"url(#p4a45dc7ca8)\" d=\"M 124.815313 101.424 \nL 459.615313 101.424 \n\" style=\"fill:none;stroke:#ffffff;stroke-linecap:square;stroke-width:0.8;\"/>\n     </g>\n     <g id=\"line2d_30\">\n      <g>\n       <use style=\"fill:#555555;stroke:#555555;stroke-width:0.8;\" x=\"124.815313\" xlink:href=\"#m5b0e2efe42\" y=\"101.424\"/>\n      </g>\n     </g>\n     <g id=\"text_15\">\n      <!--  Machine-op-inspct -->\n      <g style=\"fill:#555555;\" transform=\"translate(22.81375 105.223219)scale(0.1 -0.1)\">\n       <defs>\n        <path d=\"M 9.8125 72.90625 \nL 24.515625 72.90625 \nL 43.109375 23.296875 \nL 61.8125 72.90625 \nL 76.515625 72.90625 \nL 76.515625 0 \nL 66.890625 0 \nL 66.890625 64.015625 \nL 48.09375 14.015625 \nL 38.1875 14.015625 \nL 19.390625 64.015625 \nL 19.390625 0 \nL 9.8125 0 \nz\n\" id=\"DejaVuSans-77\"/>\n       </defs>\n       <use xlink:href=\"#DejaVuSans-32\"/>\n       <use x=\"31.787109\" xlink:href=\"#DejaVuSans-77\"/>\n       <use x=\"118.066406\" xlink:href=\"#DejaVuSans-97\"/>\n       <use x=\"179.345703\" xlink:href=\"#DejaVuSans-99\"/>\n       <use x=\"234.326172\" xlink:href=\"#DejaVuSans-104\"/>\n       <use x=\"297.705078\" xlink:href=\"#DejaVuSans-105\"/>\n       <use x=\"325.488281\" xlink:href=\"#DejaVuSans-110\"/>\n       <use x=\"388.867188\" xlink:href=\"#DejaVuSans-101\"/>\n       <use x=\"450.390625\" xlink:href=\"#DejaVuSans-45\"/>\n       <use x=\"488.349609\" xlink:href=\"#DejaVuSans-111\"/>\n       <use x=\"549.53125\" xlink:href=\"#DejaVuSans-112\"/>\n       <use x=\"613.007812\" xlink:href=\"#DejaVuSans-45\"/>\n       <use x=\"649.091797\" xlink:href=\"#DejaVuSans-105\"/>\n       <use x=\"676.875\" xlink:href=\"#DejaVuSans-110\"/>\n       <use x=\"740.253906\" xlink:href=\"#DejaVuSans-115\"/>\n       <use x=\"792.353516\" xlink:href=\"#DejaVuSans-112\"/>\n       <use x=\"855.830078\" xlink:href=\"#DejaVuSans-99\"/>\n       <use x=\"910.810547\" xlink:href=\"#DejaVuSans-116\"/>\n      </g>\n     </g>\n    </g>\n    <g id=\"ytick_10\">\n     <g id=\"line2d_31\">\n      <path clip-path=\"url(#p4a45dc7ca8)\" d=\"M 124.815313 86.928 \nL 459.615313 86.928 \n\" style=\"fill:none;stroke:#ffffff;stroke-linecap:square;stroke-width:0.8;\"/>\n     </g>\n     <g id=\"line2d_32\">\n      <g>\n       <use style=\"fill:#555555;stroke:#555555;stroke-width:0.8;\" x=\"124.815313\" xlink:href=\"#m5b0e2efe42\" y=\"86.928\"/>\n      </g>\n     </g>\n     <g id=\"text_16\">\n      <!--  Farming-fishing -->\n      <g style=\"fill:#555555;\" transform=\"translate(37.612188 90.727219)scale(0.1 -0.1)\">\n       <defs>\n        <path d=\"M 9.8125 72.90625 \nL 51.703125 72.90625 \nL 51.703125 64.59375 \nL 19.671875 64.59375 \nL 19.671875 43.109375 \nL 48.578125 43.109375 \nL 48.578125 34.8125 \nL 19.671875 34.8125 \nL 19.671875 0 \nL 9.8125 0 \nz\n\" id=\"DejaVuSans-70\"/>\n       </defs>\n       <use xlink:href=\"#DejaVuSans-32\"/>\n       <use x=\"31.787109\" xlink:href=\"#DejaVuSans-70\"/>\n       <use x=\"80.181641\" xlink:href=\"#DejaVuSans-97\"/>\n       <use x=\"141.460938\" xlink:href=\"#DejaVuSans-114\"/>\n       <use x=\"180.824219\" xlink:href=\"#DejaVuSans-109\"/>\n       <use x=\"278.236328\" xlink:href=\"#DejaVuSans-105\"/>\n       <use x=\"306.019531\" xlink:href=\"#DejaVuSans-110\"/>\n       <use x=\"369.398438\" xlink:href=\"#DejaVuSans-103\"/>\n       <use x=\"432.875\" xlink:href=\"#DejaVuSans-45\"/>\n       <use x=\"468.958984\" xlink:href=\"#DejaVuSans-102\"/>\n       <use x=\"504.164062\" xlink:href=\"#DejaVuSans-105\"/>\n       <use x=\"531.947266\" xlink:href=\"#DejaVuSans-115\"/>\n       <use x=\"584.046875\" xlink:href=\"#DejaVuSans-104\"/>\n       <use x=\"647.425781\" xlink:href=\"#DejaVuSans-105\"/>\n       <use x=\"675.208984\" xlink:href=\"#DejaVuSans-110\"/>\n       <use x=\"738.587891\" xlink:href=\"#DejaVuSans-103\"/>\n      </g>\n     </g>\n    </g>\n    <g id=\"ytick_11\">\n     <g id=\"line2d_33\">\n      <path clip-path=\"url(#p4a45dc7ca8)\" d=\"M 124.815313 72.432 \nL 459.615313 72.432 \n\" style=\"fill:none;stroke:#ffffff;stroke-linecap:square;stroke-width:0.8;\"/>\n     </g>\n     <g id=\"line2d_34\">\n      <g>\n       <use style=\"fill:#555555;stroke:#555555;stroke-width:0.8;\" x=\"124.815313\" xlink:href=\"#m5b0e2efe42\" y=\"72.432\"/>\n      </g>\n     </g>\n     <g id=\"text_17\">\n      <!--  Armed-Forces -->\n      <g style=\"fill:#555555;\" transform=\"translate(45.755938 76.231219)scale(0.1 -0.1)\">\n       <use xlink:href=\"#DejaVuSans-32\"/>\n       <use x=\"31.787109\" xlink:href=\"#DejaVuSans-65\"/>\n       <use x=\"100.195312\" xlink:href=\"#DejaVuSans-114\"/>\n       <use x=\"139.558594\" xlink:href=\"#DejaVuSans-109\"/>\n       <use x=\"236.970703\" xlink:href=\"#DejaVuSans-101\"/>\n       <use x=\"298.494141\" xlink:href=\"#DejaVuSans-100\"/>\n       <use x=\"361.970703\" xlink:href=\"#DejaVuSans-45\"/>\n       <use x=\"398.054688\" xlink:href=\"#DejaVuSans-70\"/>\n       <use x=\"451.949219\" xlink:href=\"#DejaVuSans-111\"/>\n       <use x=\"513.130859\" xlink:href=\"#DejaVuSans-114\"/>\n       <use x=\"551.994141\" xlink:href=\"#DejaVuSans-99\"/>\n       <use x=\"606.974609\" xlink:href=\"#DejaVuSans-101\"/>\n       <use x=\"668.498047\" xlink:href=\"#DejaVuSans-115\"/>\n      </g>\n     </g>\n    </g>\n    <g id=\"ytick_12\">\n     <g id=\"line2d_35\">\n      <path clip-path=\"url(#p4a45dc7ca8)\" d=\"M 124.815313 57.936 \nL 459.615313 57.936 \n\" style=\"fill:none;stroke:#ffffff;stroke-linecap:square;stroke-width:0.8;\"/>\n     </g>\n     <g id=\"line2d_36\">\n      <g>\n       <use style=\"fill:#555555;stroke:#555555;stroke-width:0.8;\" x=\"124.815313\" xlink:href=\"#m5b0e2efe42\" y=\"57.936\"/>\n      </g>\n     </g>\n     <g id=\"text_18\">\n      <!--  ? -->\n      <g style=\"fill:#555555;\" transform=\"translate(109.329375 61.735219)scale(0.1 -0.1)\">\n       <defs>\n        <path d=\"M 19.09375 12.40625 \nL 29 12.40625 \nL 29 0 \nL 19.09375 0 \nz\nM 28.71875 19.578125 \nL 19.390625 19.578125 \nL 19.390625 27.09375 \nQ 19.390625 32.03125 20.75 35.203125 \nQ 22.125 38.375 26.515625 42.578125 \nL 30.90625 46.921875 \nQ 33.6875 49.515625 34.9375 51.8125 \nQ 36.1875 54.109375 36.1875 56.5 \nQ 36.1875 60.84375 32.984375 63.53125 \nQ 29.78125 66.21875 24.515625 66.21875 \nQ 20.65625 66.21875 16.28125 64.5 \nQ 11.921875 62.796875 7.171875 59.515625 \nL 7.171875 68.703125 \nQ 11.765625 71.484375 16.46875 72.84375 \nQ 21.1875 74.21875 26.21875 74.21875 \nQ 35.203125 74.21875 40.640625 69.484375 \nQ 46.09375 64.75 46.09375 56.984375 \nQ 46.09375 53.265625 44.328125 49.921875 \nQ 42.578125 46.578125 38.1875 42.390625 \nL 33.890625 38.1875 \nQ 31.59375 35.890625 30.640625 34.59375 \nQ 29.6875 33.296875 29.296875 32.078125 \nQ 29 31.0625 28.859375 29.59375 \nQ 28.71875 28.125 28.71875 25.59375 \nz\n\" id=\"DejaVuSans-63\"/>\n       </defs>\n       <use xlink:href=\"#DejaVuSans-32\"/>\n       <use x=\"31.787109\" xlink:href=\"#DejaVuSans-63\"/>\n      </g>\n     </g>\n    </g>\n    <g id=\"ytick_13\">\n     <g id=\"line2d_37\">\n      <path clip-path=\"url(#p4a45dc7ca8)\" d=\"M 124.815313 43.44 \nL 459.615313 43.44 \n\" style=\"fill:none;stroke:#ffffff;stroke-linecap:square;stroke-width:0.8;\"/>\n     </g>\n     <g id=\"line2d_38\">\n      <g>\n       <use style=\"fill:#555555;stroke:#555555;stroke-width:0.8;\" x=\"124.815313\" xlink:href=\"#m5b0e2efe42\" y=\"43.44\"/>\n      </g>\n     </g>\n     <g id=\"text_19\">\n      <!--  Handlers-cleaners -->\n      <g style=\"fill:#555555;\" transform=\"translate(24.074687 47.239219)scale(0.1 -0.1)\">\n       <defs>\n        <path d=\"M 9.8125 72.90625 \nL 19.671875 72.90625 \nL 19.671875 43.015625 \nL 55.515625 43.015625 \nL 55.515625 72.90625 \nL 65.375 72.90625 \nL 65.375 0 \nL 55.515625 0 \nL 55.515625 34.71875 \nL 19.671875 34.71875 \nL 19.671875 0 \nL 9.8125 0 \nz\n\" id=\"DejaVuSans-72\"/>\n       </defs>\n       <use xlink:href=\"#DejaVuSans-32\"/>\n       <use x=\"31.787109\" xlink:href=\"#DejaVuSans-72\"/>\n       <use x=\"106.982422\" xlink:href=\"#DejaVuSans-97\"/>\n       <use x=\"168.261719\" xlink:href=\"#DejaVuSans-110\"/>\n       <use x=\"231.640625\" xlink:href=\"#DejaVuSans-100\"/>\n       <use x=\"295.117188\" xlink:href=\"#DejaVuSans-108\"/>\n       <use x=\"322.900391\" xlink:href=\"#DejaVuSans-101\"/>\n       <use x=\"384.423828\" xlink:href=\"#DejaVuSans-114\"/>\n       <use x=\"425.537109\" xlink:href=\"#DejaVuSans-115\"/>\n       <use x=\"477.636719\" xlink:href=\"#DejaVuSans-45\"/>\n       <use x=\"513.720703\" xlink:href=\"#DejaVuSans-99\"/>\n       <use x=\"568.701172\" xlink:href=\"#DejaVuSans-108\"/>\n       <use x=\"596.484375\" xlink:href=\"#DejaVuSans-101\"/>\n       <use x=\"658.007812\" xlink:href=\"#DejaVuSans-97\"/>\n       <use x=\"719.287109\" xlink:href=\"#DejaVuSans-110\"/>\n       <use x=\"782.666016\" xlink:href=\"#DejaVuSans-101\"/>\n       <use x=\"844.189453\" xlink:href=\"#DejaVuSans-114\"/>\n       <use x=\"885.302734\" xlink:href=\"#DejaVuSans-115\"/>\n      </g>\n     </g>\n    </g>\n    <g id=\"ytick_14\">\n     <g id=\"line2d_39\">\n      <path clip-path=\"url(#p4a45dc7ca8)\" d=\"M 124.815313 28.944 \nL 459.615313 28.944 \n\" style=\"fill:none;stroke:#ffffff;stroke-linecap:square;stroke-width:0.8;\"/>\n     </g>\n     <g id=\"line2d_40\">\n      <g>\n       <use style=\"fill:#555555;stroke:#555555;stroke-width:0.8;\" x=\"124.815313\" xlink:href=\"#m5b0e2efe42\" y=\"28.944\"/>\n      </g>\n     </g>\n     <g id=\"text_20\">\n      <!--  Other-service -->\n      <g style=\"fill:#555555;\" transform=\"translate(47.45125 32.743219)scale(0.1 -0.1)\">\n       <defs>\n        <path d=\"M 39.40625 66.21875 \nQ 28.65625 66.21875 22.328125 58.203125 \nQ 16.015625 50.203125 16.015625 36.375 \nQ 16.015625 22.609375 22.328125 14.59375 \nQ 28.65625 6.59375 39.40625 6.59375 \nQ 50.140625 6.59375 56.421875 14.59375 \nQ 62.703125 22.609375 62.703125 36.375 \nQ 62.703125 50.203125 56.421875 58.203125 \nQ 50.140625 66.21875 39.40625 66.21875 \nz\nM 39.40625 74.21875 \nQ 54.734375 74.21875 63.90625 63.9375 \nQ 73.09375 53.65625 73.09375 36.375 \nQ 73.09375 19.140625 63.90625 8.859375 \nQ 54.734375 -1.421875 39.40625 -1.421875 \nQ 24.03125 -1.421875 14.8125 8.828125 \nQ 5.609375 19.09375 5.609375 36.375 \nQ 5.609375 53.65625 14.8125 63.9375 \nQ 24.03125 74.21875 39.40625 74.21875 \nz\n\" id=\"DejaVuSans-79\"/>\n       </defs>\n       <use xlink:href=\"#DejaVuSans-32\"/>\n       <use x=\"31.787109\" xlink:href=\"#DejaVuSans-79\"/>\n       <use x=\"110.498047\" xlink:href=\"#DejaVuSans-116\"/>\n       <use x=\"149.707031\" xlink:href=\"#DejaVuSans-104\"/>\n       <use x=\"213.085938\" xlink:href=\"#DejaVuSans-101\"/>\n       <use x=\"274.609375\" xlink:href=\"#DejaVuSans-114\"/>\n       <use x=\"309.347656\" xlink:href=\"#DejaVuSans-45\"/>\n       <use x=\"345.431641\" xlink:href=\"#DejaVuSans-115\"/>\n       <use x=\"397.53125\" xlink:href=\"#DejaVuSans-101\"/>\n       <use x=\"459.054688\" xlink:href=\"#DejaVuSans-114\"/>\n       <use x=\"500.167969\" xlink:href=\"#DejaVuSans-118\"/>\n       <use x=\"559.347656\" xlink:href=\"#DejaVuSans-105\"/>\n       <use x=\"587.130859\" xlink:href=\"#DejaVuSans-99\"/>\n       <use x=\"642.111328\" xlink:href=\"#DejaVuSans-101\"/>\n      </g>\n     </g>\n    </g>\n    <g id=\"ytick_15\">\n     <g id=\"line2d_41\">\n      <path clip-path=\"url(#p4a45dc7ca8)\" d=\"M 124.815313 14.448 \nL 459.615313 14.448 \n\" style=\"fill:none;stroke:#ffffff;stroke-linecap:square;stroke-width:0.8;\"/>\n     </g>\n     <g id=\"line2d_42\">\n      <g>\n       <use style=\"fill:#555555;stroke:#555555;stroke-width:0.8;\" x=\"124.815313\" xlink:href=\"#m5b0e2efe42\" y=\"14.448\"/>\n      </g>\n     </g>\n     <g id=\"text_21\">\n      <!--  Priv-house-serv -->\n      <g style=\"fill:#555555;\" transform=\"translate(37.473125 18.247219)scale(0.1 -0.1)\">\n       <use xlink:href=\"#DejaVuSans-32\"/>\n       <use x=\"31.787109\" xlink:href=\"#DejaVuSans-80\"/>\n       <use x=\"90.339844\" xlink:href=\"#DejaVuSans-114\"/>\n       <use x=\"131.453125\" xlink:href=\"#DejaVuSans-105\"/>\n       <use x=\"159.236328\" xlink:href=\"#DejaVuSans-118\"/>\n       <use x=\"215.791016\" xlink:href=\"#DejaVuSans-45\"/>\n       <use x=\"251.875\" xlink:href=\"#DejaVuSans-104\"/>\n       <use x=\"315.253906\" xlink:href=\"#DejaVuSans-111\"/>\n       <use x=\"376.435547\" xlink:href=\"#DejaVuSans-117\"/>\n       <use x=\"439.814453\" xlink:href=\"#DejaVuSans-115\"/>\n       <use x=\"491.914062\" xlink:href=\"#DejaVuSans-101\"/>\n       <use x=\"553.4375\" xlink:href=\"#DejaVuSans-45\"/>\n       <use x=\"589.521484\" xlink:href=\"#DejaVuSans-115\"/>\n       <use x=\"641.621094\" xlink:href=\"#DejaVuSans-101\"/>\n       <use x=\"703.144531\" xlink:href=\"#DejaVuSans-114\"/>\n       <use x=\"744.257812\" xlink:href=\"#DejaVuSans-118\"/>\n      </g>\n     </g>\n    </g>\n    <g id=\"text_22\">\n     <!-- occupation -->\n     <g style=\"fill:#555555;\" transform=\"translate(16.318125 148.970625)rotate(-90)scale(0.12 -0.12)\">\n      <use xlink:href=\"#DejaVuSans-111\"/>\n      <use x=\"61.181641\" xlink:href=\"#DejaVuSans-99\"/>\n      <use x=\"116.162109\" xlink:href=\"#DejaVuSans-99\"/>\n      <use x=\"171.142578\" xlink:href=\"#DejaVuSans-117\"/>\n      <use x=\"234.521484\" xlink:href=\"#DejaVuSans-112\"/>\n      <use x=\"297.998047\" xlink:href=\"#DejaVuSans-97\"/>\n      <use x=\"359.277344\" xlink:href=\"#DejaVuSans-116\"/>\n      <use x=\"398.486328\" xlink:href=\"#DejaVuSans-105\"/>\n      <use x=\"426.269531\" xlink:href=\"#DejaVuSans-111\"/>\n      <use x=\"487.451172\" xlink:href=\"#DejaVuSans-110\"/>\n     </g>\n    </g>\n   </g>\n   <g id=\"patch_3\">\n    <path clip-path=\"url(#p4a45dc7ca8)\" d=\"M 124.815313 221.016 \nL 443.672455 221.016 \nL 443.672455 213.768 \nL 124.815313 213.768 \nz\n\" style=\"fill:#e24a33;\"/>\n   </g>\n   <g id=\"patch_4\">\n    <path clip-path=\"url(#p4a45dc7ca8)\" d=\"M 124.815313 206.52 \nL 420.628465 206.52 \nL 420.628465 199.272 \nL 124.815313 199.272 \nz\n\" style=\"fill:#e24a33;\"/>\n   </g>\n   <g id=\"patch_5\">\n    <path clip-path=\"url(#p4a45dc7ca8)\" d=\"M 124.815313 192.024 \nL 338.993968 192.024 \nL 338.993968 184.776 \nL 124.815313 184.776 \nz\n\" style=\"fill:#e24a33;\"/>\n   </g>\n   <g id=\"patch_6\">\n    <path clip-path=\"url(#p4a45dc7ca8)\" d=\"M 124.815313 177.528 \nL 325.713903 177.528 \nL 325.713903 170.28 \nL 124.815313 170.28 \nz\n\" style=\"fill:#e24a33;\"/>\n   </g>\n   <g id=\"patch_7\">\n    <path clip-path=\"url(#p4a45dc7ca8)\" d=\"M 124.815313 163.032 \nL 302.233886 163.032 \nL 302.233886 155.784 \nL 124.815313 155.784 \nz\n\" style=\"fill:#e24a33;\"/>\n   </g>\n   <g id=\"patch_8\">\n    <path clip-path=\"url(#p4a45dc7ca8)\" d=\"M 124.815313 148.536 \nL 274.120957 148.536 \nL 274.120957 141.288 \nL 124.815313 141.288 \nz\n\" style=\"fill:#e24a33;\"/>\n   </g>\n   <g id=\"patch_9\">\n    <path clip-path=\"url(#p4a45dc7ca8)\" d=\"M 124.815313 134.04 \nL 256.818219 134.04 \nL 256.818219 126.792 \nL 124.815313 126.792 \nz\n\" style=\"fill:#e24a33;\"/>\n   </g>\n   <g id=\"patch_10\">\n    <path clip-path=\"url(#p4a45dc7ca8)\" d=\"M 124.815313 119.544 \nL 213.409461 119.544 \nL 213.409461 112.296 \nL 124.815313 112.296 \nz\n\" style=\"fill:#e24a33;\"/>\n   </g>\n   <g id=\"patch_11\">\n    <path clip-path=\"url(#p4a45dc7ca8)\" d=\"M 124.815313 105.048 \nL 207.080173 105.048 \nL 207.080173 97.8 \nL 124.815313 97.8 \nz\n\" style=\"fill:#e24a33;\"/>\n   </g>\n   <g id=\"patch_12\">\n    <path clip-path=\"url(#p4a45dc7ca8)\" d=\"M 124.815313 90.552 \nL 201.031968 90.552 \nL 201.031968 83.304 \nL 124.815313 83.304 \nz\n\" style=\"fill:#e24a33;\"/>\n   </g>\n   <g id=\"patch_13\">\n    <path clip-path=\"url(#p4a45dc7ca8)\" d=\"M 124.815313 76.056 \nL 198.012757 76.056 \nL 198.012757 68.808 \nL 124.815313 68.808 \nz\n\" style=\"fill:#e24a33;\"/>\n   </g>\n   <g id=\"patch_14\">\n    <path clip-path=\"url(#p4a45dc7ca8)\" d=\"M 124.815313 61.56 \nL 193.087916 61.56 \nL 193.087916 54.312 \nL 124.815313 54.312 \nz\n\" style=\"fill:#e24a33;\"/>\n   </g>\n   <g id=\"patch_15\">\n    <path clip-path=\"url(#p4a45dc7ca8)\" d=\"M 124.815313 47.064 \nL 166.169197 47.064 \nL 166.169197 39.816 \nL 124.815313 39.816 \nz\n\" style=\"fill:#e24a33;\"/>\n   </g>\n   <g id=\"patch_16\">\n    <path clip-path=\"url(#p4a45dc7ca8)\" d=\"M 124.815313 32.568 \nL 152.206041 32.568 \nL 152.206041 25.32 \nL 124.815313 25.32 \nz\n\" style=\"fill:#e24a33;\"/>\n   </g>\n   <g id=\"patch_17\">\n    <path clip-path=\"url(#p4a45dc7ca8)\" d=\"M 124.815313 18.072 \nL 129.236635 18.072 \nL 129.236635 10.824 \nL 124.815313 10.824 \nz\n\" style=\"fill:#e24a33;\"/>\n   </g>\n   <g id=\"patch_18\">\n    <path d=\"M 124.815313 224.64 \nL 124.815313 7.2 \n\" style=\"fill:none;stroke:#ffffff;stroke-linecap:square;stroke-linejoin:miter;\"/>\n   </g>\n   <g id=\"patch_19\">\n    <path d=\"M 459.615313 224.64 \nL 459.615313 7.2 \n\" style=\"fill:none;stroke:#ffffff;stroke-linecap:square;stroke-linejoin:miter;\"/>\n   </g>\n   <g id=\"patch_20\">\n    <path d=\"M 124.815313 224.64 \nL 459.615313 224.64 \n\" style=\"fill:none;stroke:#ffffff;stroke-linecap:square;stroke-linejoin:miter;\"/>\n   </g>\n   <g id=\"patch_21\">\n    <path d=\"M 124.815313 7.2 \nL 459.615313 7.2 \n\" style=\"fill:none;stroke:#ffffff;stroke-linecap:square;stroke-linejoin:miter;\"/>\n   </g>\n   <g id=\"legend_1\">\n    <g id=\"patch_22\">\n     <path d=\"M 376.42625 30.15625 \nL 452.615312 30.15625 \nQ 454.615312 30.15625 454.615312 28.15625 \nL 454.615312 14.2 \nQ 454.615312 12.2 452.615312 12.2 \nL 376.42625 12.2 \nQ 374.42625 12.2 374.42625 14.2 \nL 374.42625 28.15625 \nQ 374.42625 30.15625 376.42625 30.15625 \nz\n\" style=\"fill:#e5e5e5;opacity:0.8;stroke:#cccccc;stroke-linejoin:miter;stroke-width:0.5;\"/>\n    </g>\n    <g id=\"patch_23\">\n     <path d=\"M 378.42625 23.798437 \nL 398.42625 23.798437 \nL 398.42625 16.798437 \nL 378.42625 16.798437 \nz\n\" style=\"fill:#e24a33;\"/>\n    </g>\n    <g id=\"text_23\">\n     <!-- plus_50k -->\n     <g transform=\"translate(406.42625 23.798437)scale(0.1 -0.1)\">\n      <defs>\n       <path d=\"M 50.984375 -16.609375 \nL 50.984375 -23.578125 \nL -0.984375 -23.578125 \nL -0.984375 -16.609375 \nz\n\" id=\"DejaVuSans-95\"/>\n       <path d=\"M 9.078125 75.984375 \nL 18.109375 75.984375 \nL 18.109375 31.109375 \nL 44.921875 54.6875 \nL 56.390625 54.6875 \nL 27.390625 29.109375 \nL 57.625 0 \nL 45.90625 0 \nL 18.109375 26.703125 \nL 18.109375 0 \nL 9.078125 0 \nz\n\" id=\"DejaVuSans-107\"/>\n      </defs>\n      <use xlink:href=\"#DejaVuSans-112\"/>\n      <use x=\"63.476562\" xlink:href=\"#DejaVuSans-108\"/>\n      <use x=\"91.259766\" xlink:href=\"#DejaVuSans-117\"/>\n      <use x=\"154.638672\" xlink:href=\"#DejaVuSans-115\"/>\n      <use x=\"206.738281\" xlink:href=\"#DejaVuSans-95\"/>\n      <use x=\"256.738281\" xlink:href=\"#DejaVuSans-53\"/>\n      <use x=\"320.361328\" xlink:href=\"#DejaVuSans-48\"/>\n      <use x=\"383.984375\" xlink:href=\"#DejaVuSans-107\"/>\n     </g>\n    </g>\n   </g>\n  </g>\n </g>\n <defs>\n  <clipPath id=\"p4a45dc7ca8\">\n   <rect height=\"217.44\" width=\"334.8\" x=\"124.815313\" y=\"7.2\"/>\n  </clipPath>\n </defs>\n</svg>\n",
      "image/png": "[encoded data removed]"
     },
     "metadata": {}
    },
    {
     "output_type": "display_data",
     "data": {
      "text/plain": "<Figure size 432x288 with 1 Axes>",
      "image/svg+xml": "<?xml version=\"1.0\" encoding=\"utf-8\" standalone=\"no\"?>\n<!DOCTYPE svg PUBLIC \"-//W3C//DTD SVG 1.1//EN\"\n  \"http://www.w3.org/Graphics/SVG/1.1/DTD/svg11.dtd\">\n<!-- Created with matplotlib (https://matplotlib.org/) -->\n<svg height=\"248.518125pt\" version=\"1.1\" viewBox=\"0 0 469.355377 248.518125\" width=\"469.355377pt\" xmlns=\"http://www.w3.org/2000/svg\" xmlns:xlink=\"http://www.w3.org/1999/xlink\">\n <metadata>\n  <rdf:RDF xmlns:cc=\"http://creativecommons.org/ns#\" xmlns:dc=\"http://purl.org/dc/elements/1.1/\" xmlns:rdf=\"http://www.w3.org/1999/02/22-rdf-syntax-ns#\">\n   <cc:Work>\n    <dc:type rdf:resource=\"http://purl.org/dc/dcmitype/StillImage\"/>\n    <dc:date>2021-11-16T14:18:34.424445</dc:date>\n    <dc:format>image/svg+xml</dc:format>\n    <dc:creator>\n     <cc:Agent>\n      <dc:title>Matplotlib v3.3.4, https://matplotlib.org/</dc:title>\n     </cc:Agent>\n    </dc:creator>\n   </cc:Work>\n  </rdf:RDF>\n </metadata>\n <defs>\n  <style type=\"text/css\">*{stroke-linecap:butt;stroke-linejoin:round;}</style>\n </defs>\n <g id=\"figure_1\">\n  <g id=\"patch_1\">\n   <path d=\"M 0 248.518125 \nL 469.355377 248.518125 \nL 469.355377 0 \nL 0 0 \nz\n\" style=\"fill:#ffffff;\"/>\n  </g>\n  <g id=\"axes_1\">\n   <g id=\"patch_2\">\n    <path d=\"M 124.815313 224.64 \nL 459.615313 224.64 \nL 459.615313 7.2 \nL 124.815313 7.2 \nz\n\" style=\"fill:#e5e5e5;\"/>\n   </g>\n   <g id=\"matplotlib.axis_1\">\n    <g id=\"xtick_1\">\n     <g id=\"line2d_1\">\n      <path clip-path=\"url(#pd6250d433d)\" d=\"M 124.815313 224.64 \nL 124.815313 7.2 \n\" style=\"fill:none;stroke:#ffffff;stroke-linecap:square;stroke-width:0.8;\"/>\n     </g>\n     <g id=\"line2d_2\">\n      <defs>\n       <path d=\"M 0 0 \nL 0 3.5 \n\" id=\"m03bdbd5de5\" style=\"stroke:#555555;stroke-width:0.8;\"/>\n      </defs>\n      <g>\n       <use style=\"fill:#555555;stroke:#555555;stroke-width:0.8;\" x=\"124.815313\" xlink:href=\"#m03bdbd5de5\" y=\"224.64\"/>\n      </g>\n     </g>\n     <g id=\"text_1\">\n      <!-- 0.0 -->\n      <g style=\"fill:#555555;\" transform=\"translate(116.86375 239.238437)scale(0.1 -0.1)\">\n       <defs>\n        <path d=\"M 31.78125 66.40625 \nQ 24.171875 66.40625 20.328125 58.90625 \nQ 16.5 51.421875 16.5 36.375 \nQ 16.5 21.390625 20.328125 13.890625 \nQ 24.171875 6.390625 31.78125 6.390625 \nQ 39.453125 6.390625 43.28125 13.890625 \nQ 47.125 21.390625 47.125 36.375 \nQ 47.125 51.421875 43.28125 58.90625 \nQ 39.453125 66.40625 31.78125 66.40625 \nz\nM 31.78125 74.21875 \nQ 44.046875 74.21875 50.515625 64.515625 \nQ 56.984375 54.828125 56.984375 36.375 \nQ 56.984375 17.96875 50.515625 8.265625 \nQ 44.046875 -1.421875 31.78125 -1.421875 \nQ 19.53125 -1.421875 13.0625 8.265625 \nQ 6.59375 17.96875 6.59375 36.375 \nQ 6.59375 54.828125 13.0625 64.515625 \nQ 19.53125 74.21875 31.78125 74.21875 \nz\n\" id=\"DejaVuSans-48\"/>\n        <path d=\"M 10.6875 12.40625 \nL 21 12.40625 \nL 21 0 \nL 10.6875 0 \nz\n\" id=\"DejaVuSans-46\"/>\n       </defs>\n       <use xlink:href=\"#DejaVuSans-48\"/>\n       <use x=\"63.623047\" xlink:href=\"#DejaVuSans-46\"/>\n       <use x=\"95.410156\" xlink:href=\"#DejaVuSans-48\"/>\n      </g>\n     </g>\n    </g>\n    <g id=\"xtick_2\">\n     <g id=\"line2d_3\">\n      <path clip-path=\"url(#pd6250d433d)\" d=\"M 190.693013 224.64 \nL 190.693013 7.2 \n\" style=\"fill:none;stroke:#ffffff;stroke-linecap:square;stroke-width:0.8;\"/>\n     </g>\n     <g id=\"line2d_4\">\n      <g>\n       <use style=\"fill:#555555;stroke:#555555;stroke-width:0.8;\" x=\"190.693013\" xlink:href=\"#m03bdbd5de5\" y=\"224.64\"/>\n      </g>\n     </g>\n     <g id=\"text_2\">\n      <!-- 0.1 -->\n      <g style=\"fill:#555555;\" transform=\"translate(182.74145 239.238437)scale(0.1 -0.1)\">\n       <defs>\n        <path d=\"M 12.40625 8.296875 \nL 28.515625 8.296875 \nL 28.515625 63.921875 \nL 10.984375 60.40625 \nL 10.984375 69.390625 \nL 28.421875 72.90625 \nL 38.28125 72.90625 \nL 38.28125 8.296875 \nL 54.390625 8.296875 \nL 54.390625 0 \nL 12.40625 0 \nz\n\" id=\"DejaVuSans-49\"/>\n       </defs>\n       <use xlink:href=\"#DejaVuSans-48\"/>\n       <use x=\"63.623047\" xlink:href=\"#DejaVuSans-46\"/>\n       <use x=\"95.410156\" xlink:href=\"#DejaVuSans-49\"/>\n      </g>\n     </g>\n    </g>\n    <g id=\"xtick_3\">\n     <g id=\"line2d_5\">\n      <path clip-path=\"url(#pd6250d433d)\" d=\"M 256.570713 224.64 \nL 256.570713 7.2 \n\" style=\"fill:none;stroke:#ffffff;stroke-linecap:square;stroke-width:0.8;\"/>\n     </g>\n     <g id=\"line2d_6\">\n      <g>\n       <use style=\"fill:#555555;stroke:#555555;stroke-width:0.8;\" x=\"256.570713\" xlink:href=\"#m03bdbd5de5\" y=\"224.64\"/>\n      </g>\n     </g>\n     <g id=\"text_3\">\n      <!-- 0.2 -->\n      <g style=\"fill:#555555;\" transform=\"translate(248.619151 239.238437)scale(0.1 -0.1)\">\n       <defs>\n        <path d=\"M 19.1875 8.296875 \nL 53.609375 8.296875 \nL 53.609375 0 \nL 7.328125 0 \nL 7.328125 8.296875 \nQ 12.9375 14.109375 22.625 23.890625 \nQ 32.328125 33.6875 34.8125 36.53125 \nQ 39.546875 41.84375 41.421875 45.53125 \nQ 43.3125 49.21875 43.3125 52.78125 \nQ 43.3125 58.59375 39.234375 62.25 \nQ 35.15625 65.921875 28.609375 65.921875 \nQ 23.96875 65.921875 18.8125 64.3125 \nQ 13.671875 62.703125 7.8125 59.421875 \nL 7.8125 69.390625 \nQ 13.765625 71.78125 18.9375 73 \nQ 24.125 74.21875 28.421875 74.21875 \nQ 39.75 74.21875 46.484375 68.546875 \nQ 53.21875 62.890625 53.21875 53.421875 \nQ 53.21875 48.921875 51.53125 44.890625 \nQ 49.859375 40.875 45.40625 35.40625 \nQ 44.1875 33.984375 37.640625 27.21875 \nQ 31.109375 20.453125 19.1875 8.296875 \nz\n\" id=\"DejaVuSans-50\"/>\n       </defs>\n       <use xlink:href=\"#DejaVuSans-48\"/>\n       <use x=\"63.623047\" xlink:href=\"#DejaVuSans-46\"/>\n       <use x=\"95.410156\" xlink:href=\"#DejaVuSans-50\"/>\n      </g>\n     </g>\n    </g>\n    <g id=\"xtick_4\">\n     <g id=\"line2d_7\">\n      <path clip-path=\"url(#pd6250d433d)\" d=\"M 322.448414 224.64 \nL 322.448414 7.2 \n\" style=\"fill:none;stroke:#ffffff;stroke-linecap:square;stroke-width:0.8;\"/>\n     </g>\n     <g id=\"line2d_8\">\n      <g>\n       <use style=\"fill:#555555;stroke:#555555;stroke-width:0.8;\" x=\"322.448414\" xlink:href=\"#m03bdbd5de5\" y=\"224.64\"/>\n      </g>\n     </g>\n     <g id=\"text_4\">\n      <!-- 0.3 -->\n      <g style=\"fill:#555555;\" transform=\"translate(314.496851 239.238437)scale(0.1 -0.1)\">\n       <defs>\n        <path d=\"M 40.578125 39.3125 \nQ 47.65625 37.796875 51.625 33 \nQ 55.609375 28.21875 55.609375 21.1875 \nQ 55.609375 10.40625 48.1875 4.484375 \nQ 40.765625 -1.421875 27.09375 -1.421875 \nQ 22.515625 -1.421875 17.65625 -0.515625 \nQ 12.796875 0.390625 7.625 2.203125 \nL 7.625 11.71875 \nQ 11.71875 9.328125 16.59375 8.109375 \nQ 21.484375 6.890625 26.8125 6.890625 \nQ 36.078125 6.890625 40.9375 10.546875 \nQ 45.796875 14.203125 45.796875 21.1875 \nQ 45.796875 27.640625 41.28125 31.265625 \nQ 36.765625 34.90625 28.71875 34.90625 \nL 20.21875 34.90625 \nL 20.21875 43.015625 \nL 29.109375 43.015625 \nQ 36.375 43.015625 40.234375 45.921875 \nQ 44.09375 48.828125 44.09375 54.296875 \nQ 44.09375 59.90625 40.109375 62.90625 \nQ 36.140625 65.921875 28.71875 65.921875 \nQ 24.65625 65.921875 20.015625 65.03125 \nQ 15.375 64.15625 9.8125 62.3125 \nL 9.8125 71.09375 \nQ 15.4375 72.65625 20.34375 73.4375 \nQ 25.25 74.21875 29.59375 74.21875 \nQ 40.828125 74.21875 47.359375 69.109375 \nQ 53.90625 64.015625 53.90625 55.328125 \nQ 53.90625 49.265625 50.4375 45.09375 \nQ 46.96875 40.921875 40.578125 39.3125 \nz\n\" id=\"DejaVuSans-51\"/>\n       </defs>\n       <use xlink:href=\"#DejaVuSans-48\"/>\n       <use x=\"63.623047\" xlink:href=\"#DejaVuSans-46\"/>\n       <use x=\"95.410156\" xlink:href=\"#DejaVuSans-51\"/>\n      </g>\n     </g>\n    </g>\n    <g id=\"xtick_5\">\n     <g id=\"line2d_9\">\n      <path clip-path=\"url(#pd6250d433d)\" d=\"M 388.326114 224.64 \nL 388.326114 7.2 \n\" style=\"fill:none;stroke:#ffffff;stroke-linecap:square;stroke-width:0.8;\"/>\n     </g>\n     <g id=\"line2d_10\">\n      <g>\n       <use style=\"fill:#555555;stroke:#555555;stroke-width:0.8;\" x=\"388.326114\" xlink:href=\"#m03bdbd5de5\" y=\"224.64\"/>\n      </g>\n     </g>\n     <g id=\"text_5\">\n      <!-- 0.4 -->\n      <g style=\"fill:#555555;\" transform=\"translate(380.374551 239.238437)scale(0.1 -0.1)\">\n       <defs>\n        <path d=\"M 37.796875 64.3125 \nL 12.890625 25.390625 \nL 37.796875 25.390625 \nz\nM 35.203125 72.90625 \nL 47.609375 72.90625 \nL 47.609375 25.390625 \nL 58.015625 25.390625 \nL 58.015625 17.1875 \nL 47.609375 17.1875 \nL 47.609375 0 \nL 37.796875 0 \nL 37.796875 17.1875 \nL 4.890625 17.1875 \nL 4.890625 26.703125 \nz\n\" id=\"DejaVuSans-52\"/>\n       </defs>\n       <use xlink:href=\"#DejaVuSans-48\"/>\n       <use x=\"63.623047\" xlink:href=\"#DejaVuSans-46\"/>\n       <use x=\"95.410156\" xlink:href=\"#DejaVuSans-52\"/>\n      </g>\n     </g>\n    </g>\n    <g id=\"xtick_6\">\n     <g id=\"line2d_11\">\n      <path clip-path=\"url(#pd6250d433d)\" d=\"M 454.203814 224.64 \nL 454.203814 7.2 \n\" style=\"fill:none;stroke:#ffffff;stroke-linecap:square;stroke-width:0.8;\"/>\n     </g>\n     <g id=\"line2d_12\">\n      <g>\n       <use style=\"fill:#555555;stroke:#555555;stroke-width:0.8;\" x=\"454.203814\" xlink:href=\"#m03bdbd5de5\" y=\"224.64\"/>\n      </g>\n     </g>\n     <g id=\"text_6\">\n      <!-- 0.5 -->\n      <g style=\"fill:#555555;\" transform=\"translate(446.252252 239.238437)scale(0.1 -0.1)\">\n       <defs>\n        <path d=\"M 10.796875 72.90625 \nL 49.515625 72.90625 \nL 49.515625 64.59375 \nL 19.828125 64.59375 \nL 19.828125 46.734375 \nQ 21.96875 47.46875 24.109375 47.828125 \nQ 26.265625 48.1875 28.421875 48.1875 \nQ 40.625 48.1875 47.75 41.5 \nQ 54.890625 34.8125 54.890625 23.390625 \nQ 54.890625 11.625 47.5625 5.09375 \nQ 40.234375 -1.421875 26.90625 -1.421875 \nQ 22.3125 -1.421875 17.546875 -0.640625 \nQ 12.796875 0.140625 7.71875 1.703125 \nL 7.71875 11.625 \nQ 12.109375 9.234375 16.796875 8.0625 \nQ 21.484375 6.890625 26.703125 6.890625 \nQ 35.15625 6.890625 40.078125 11.328125 \nQ 45.015625 15.765625 45.015625 23.390625 \nQ 45.015625 31 40.078125 35.4375 \nQ 35.15625 39.890625 26.703125 39.890625 \nQ 22.75 39.890625 18.8125 39.015625 \nQ 14.890625 38.140625 10.796875 36.28125 \nz\n\" id=\"DejaVuSans-53\"/>\n       </defs>\n       <use xlink:href=\"#DejaVuSans-48\"/>\n       <use x=\"63.623047\" xlink:href=\"#DejaVuSans-46\"/>\n       <use x=\"95.410156\" xlink:href=\"#DejaVuSans-53\"/>\n      </g>\n     </g>\n    </g>\n   </g>\n   <g id=\"matplotlib.axis_2\">\n    <g id=\"ytick_1\">\n     <g id=\"line2d_13\">\n      <path clip-path=\"url(#pd6250d433d)\" d=\"M 124.815313 217.392 \nL 459.615313 217.392 \n\" style=\"fill:none;stroke:#ffffff;stroke-linecap:square;stroke-width:0.8;\"/>\n     </g>\n     <g id=\"line2d_14\">\n      <defs>\n       <path d=\"M 0 0 \nL -3.5 0 \n\" id=\"m462d47940b\" style=\"stroke:#555555;stroke-width:0.8;\"/>\n      </defs>\n      <g>\n       <use style=\"fill:#555555;stroke:#555555;stroke-width:0.8;\" x=\"124.815313\" xlink:href=\"#m462d47940b\" y=\"217.392\"/>\n      </g>\n     </g>\n     <g id=\"text_7\">\n      <!--  Exec-managerial -->\n      <g style=\"fill:#555555;\" transform=\"translate(30.821562 221.191219)scale(0.1 -0.1)\">\n       <defs>\n        <path id=\"DejaVuSans-32\"/>\n        <path d=\"M 9.8125 72.90625 \nL 55.90625 72.90625 \nL 55.90625 64.59375 \nL 19.671875 64.59375 \nL 19.671875 43.015625 \nL 54.390625 43.015625 \nL 54.390625 34.71875 \nL 19.671875 34.71875 \nL 19.671875 8.296875 \nL 56.78125 8.296875 \nL 56.78125 0 \nL 9.8125 0 \nz\n\" id=\"DejaVuSans-69\"/>\n        <path d=\"M 54.890625 54.6875 \nL 35.109375 28.078125 \nL 55.90625 0 \nL 45.3125 0 \nL 29.390625 21.484375 \nL 13.484375 0 \nL 2.875 0 \nL 24.125 28.609375 \nL 4.6875 54.6875 \nL 15.28125 54.6875 \nL 29.78125 35.203125 \nL 44.28125 54.6875 \nz\n\" id=\"DejaVuSans-120\"/>\n        <path d=\"M 56.203125 29.59375 \nL 56.203125 25.203125 \nL 14.890625 25.203125 \nQ 15.484375 15.921875 20.484375 11.0625 \nQ 25.484375 6.203125 34.421875 6.203125 \nQ 39.59375 6.203125 44.453125 7.46875 \nQ 49.3125 8.734375 54.109375 11.28125 \nL 54.109375 2.78125 \nQ 49.265625 0.734375 44.1875 -0.34375 \nQ 39.109375 -1.421875 33.890625 -1.421875 \nQ 20.796875 -1.421875 13.15625 6.1875 \nQ 5.515625 13.8125 5.515625 26.8125 \nQ 5.515625 40.234375 12.765625 48.109375 \nQ 20.015625 56 32.328125 56 \nQ 43.359375 56 49.78125 48.890625 \nQ 56.203125 41.796875 56.203125 29.59375 \nz\nM 47.21875 32.234375 \nQ 47.125 39.59375 43.09375 43.984375 \nQ 39.0625 48.390625 32.421875 48.390625 \nQ 24.90625 48.390625 20.390625 44.140625 \nQ 15.875 39.890625 15.1875 32.171875 \nz\n\" id=\"DejaVuSans-101\"/>\n        <path d=\"M 48.78125 52.59375 \nL 48.78125 44.1875 \nQ 44.96875 46.296875 41.140625 47.34375 \nQ 37.3125 48.390625 33.40625 48.390625 \nQ 24.65625 48.390625 19.8125 42.84375 \nQ 14.984375 37.3125 14.984375 27.296875 \nQ 14.984375 17.28125 19.8125 11.734375 \nQ 24.65625 6.203125 33.40625 6.203125 \nQ 37.3125 6.203125 41.140625 7.25 \nQ 44.96875 8.296875 48.78125 10.40625 \nL 48.78125 2.09375 \nQ 45.015625 0.34375 40.984375 -0.53125 \nQ 36.96875 -1.421875 32.421875 -1.421875 \nQ 20.0625 -1.421875 12.78125 6.34375 \nQ 5.515625 14.109375 5.515625 27.296875 \nQ 5.515625 40.671875 12.859375 48.328125 \nQ 20.21875 56 33.015625 56 \nQ 37.15625 56 41.109375 55.140625 \nQ 45.0625 54.296875 48.78125 52.59375 \nz\n\" id=\"DejaVuSans-99\"/>\n        <path d=\"M 4.890625 31.390625 \nL 31.203125 31.390625 \nL 31.203125 23.390625 \nL 4.890625 23.390625 \nz\n\" id=\"DejaVuSans-45\"/>\n        <path d=\"M 52 44.1875 \nQ 55.375 50.25 60.0625 53.125 \nQ 64.75 56 71.09375 56 \nQ 79.640625 56 84.28125 50.015625 \nQ 88.921875 44.046875 88.921875 33.015625 \nL 88.921875 0 \nL 79.890625 0 \nL 79.890625 32.71875 \nQ 79.890625 40.578125 77.09375 44.375 \nQ 74.3125 48.1875 68.609375 48.1875 \nQ 61.625 48.1875 57.5625 43.546875 \nQ 53.515625 38.921875 53.515625 30.90625 \nL 53.515625 0 \nL 44.484375 0 \nL 44.484375 32.71875 \nQ 44.484375 40.625 41.703125 44.40625 \nQ 38.921875 48.1875 33.109375 48.1875 \nQ 26.21875 48.1875 22.15625 43.53125 \nQ 18.109375 38.875 18.109375 30.90625 \nL 18.109375 0 \nL 9.078125 0 \nL 9.078125 54.6875 \nL 18.109375 54.6875 \nL 18.109375 46.1875 \nQ 21.1875 51.21875 25.484375 53.609375 \nQ 29.78125 56 35.6875 56 \nQ 41.65625 56 45.828125 52.96875 \nQ 50 49.953125 52 44.1875 \nz\n\" id=\"DejaVuSans-109\"/>\n        <path d=\"M 34.28125 27.484375 \nQ 23.390625 27.484375 19.1875 25 \nQ 14.984375 22.515625 14.984375 16.5 \nQ 14.984375 11.71875 18.140625 8.90625 \nQ 21.296875 6.109375 26.703125 6.109375 \nQ 34.1875 6.109375 38.703125 11.40625 \nQ 43.21875 16.703125 43.21875 25.484375 \nL 43.21875 27.484375 \nz\nM 52.203125 31.203125 \nL 52.203125 0 \nL 43.21875 0 \nL 43.21875 8.296875 \nQ 40.140625 3.328125 35.546875 0.953125 \nQ 30.953125 -1.421875 24.3125 -1.421875 \nQ 15.921875 -1.421875 10.953125 3.296875 \nQ 6 8.015625 6 15.921875 \nQ 6 25.140625 12.171875 29.828125 \nQ 18.359375 34.515625 30.609375 34.515625 \nL 43.21875 34.515625 \nL 43.21875 35.40625 \nQ 43.21875 41.609375 39.140625 45 \nQ 35.0625 48.390625 27.6875 48.390625 \nQ 23 48.390625 18.546875 47.265625 \nQ 14.109375 46.140625 10.015625 43.890625 \nL 10.015625 52.203125 \nQ 14.9375 54.109375 19.578125 55.046875 \nQ 24.21875 56 28.609375 56 \nQ 40.484375 56 46.34375 49.84375 \nQ 52.203125 43.703125 52.203125 31.203125 \nz\n\" id=\"DejaVuSans-97\"/>\n        <path d=\"M 54.890625 33.015625 \nL 54.890625 0 \nL 45.90625 0 \nL 45.90625 32.71875 \nQ 45.90625 40.484375 42.875 44.328125 \nQ 39.84375 48.1875 33.796875 48.1875 \nQ 26.515625 48.1875 22.3125 43.546875 \nQ 18.109375 38.921875 18.109375 30.90625 \nL 18.109375 0 \nL 9.078125 0 \nL 9.078125 54.6875 \nL 18.109375 54.6875 \nL 18.109375 46.1875 \nQ 21.34375 51.125 25.703125 53.5625 \nQ 30.078125 56 35.796875 56 \nQ 45.21875 56 50.046875 50.171875 \nQ 54.890625 44.34375 54.890625 33.015625 \nz\n\" id=\"DejaVuSans-110\"/>\n        <path d=\"M 45.40625 27.984375 \nQ 45.40625 37.75 41.375 43.109375 \nQ 37.359375 48.484375 30.078125 48.484375 \nQ 22.859375 48.484375 18.828125 43.109375 \nQ 14.796875 37.75 14.796875 27.984375 \nQ 14.796875 18.265625 18.828125 12.890625 \nQ 22.859375 7.515625 30.078125 7.515625 \nQ 37.359375 7.515625 41.375 12.890625 \nQ 45.40625 18.265625 45.40625 27.984375 \nz\nM 54.390625 6.78125 \nQ 54.390625 -7.171875 48.1875 -13.984375 \nQ 42 -20.796875 29.203125 -20.796875 \nQ 24.46875 -20.796875 20.265625 -20.09375 \nQ 16.0625 -19.390625 12.109375 -17.921875 \nL 12.109375 -9.1875 \nQ 16.0625 -11.328125 19.921875 -12.34375 \nQ 23.78125 -13.375 27.78125 -13.375 \nQ 36.625 -13.375 41.015625 -8.765625 \nQ 45.40625 -4.15625 45.40625 5.171875 \nL 45.40625 9.625 \nQ 42.625 4.78125 38.28125 2.390625 \nQ 33.9375 0 27.875 0 \nQ 17.828125 0 11.671875 7.65625 \nQ 5.515625 15.328125 5.515625 27.984375 \nQ 5.515625 40.671875 11.671875 48.328125 \nQ 17.828125 56 27.875 56 \nQ 33.9375 56 38.28125 53.609375 \nQ 42.625 51.21875 45.40625 46.390625 \nL 45.40625 54.6875 \nL 54.390625 54.6875 \nz\n\" id=\"DejaVuSans-103\"/>\n        <path d=\"M 41.109375 46.296875 \nQ 39.59375 47.171875 37.8125 47.578125 \nQ 36.03125 48 33.890625 48 \nQ 26.265625 48 22.1875 43.046875 \nQ 18.109375 38.09375 18.109375 28.8125 \nL 18.109375 0 \nL 9.078125 0 \nL 9.078125 54.6875 \nL 18.109375 54.6875 \nL 18.109375 46.1875 \nQ 20.953125 51.171875 25.484375 53.578125 \nQ 30.03125 56 36.53125 56 \nQ 37.453125 56 38.578125 55.875 \nQ 39.703125 55.765625 41.0625 55.515625 \nz\n\" id=\"DejaVuSans-114\"/>\n        <path d=\"M 9.421875 54.6875 \nL 18.40625 54.6875 \nL 18.40625 0 \nL 9.421875 0 \nz\nM 9.421875 75.984375 \nL 18.40625 75.984375 \nL 18.40625 64.59375 \nL 9.421875 64.59375 \nz\n\" id=\"DejaVuSans-105\"/>\n        <path d=\"M 9.421875 75.984375 \nL 18.40625 75.984375 \nL 18.40625 0 \nL 9.421875 0 \nz\n\" id=\"DejaVuSans-108\"/>\n       </defs>\n       <use xlink:href=\"#DejaVuSans-32\"/>\n       <use x=\"31.787109\" xlink:href=\"#DejaVuSans-69\"/>\n       <use x=\"94.970703\" xlink:href=\"#DejaVuSans-120\"/>\n       <use x=\"151.025391\" xlink:href=\"#DejaVuSans-101\"/>\n       <use x=\"212.548828\" xlink:href=\"#DejaVuSans-99\"/>\n       <use x=\"267.529297\" xlink:href=\"#DejaVuSans-45\"/>\n       <use x=\"303.613281\" xlink:href=\"#DejaVuSans-109\"/>\n       <use x=\"401.025391\" xlink:href=\"#DejaVuSans-97\"/>\n       <use x=\"462.304688\" xlink:href=\"#DejaVuSans-110\"/>\n       <use x=\"525.683594\" xlink:href=\"#DejaVuSans-97\"/>\n       <use x=\"586.962891\" xlink:href=\"#DejaVuSans-103\"/>\n       <use x=\"650.439453\" xlink:href=\"#DejaVuSans-101\"/>\n       <use x=\"711.962891\" xlink:href=\"#DejaVuSans-114\"/>\n       <use x=\"753.076172\" xlink:href=\"#DejaVuSans-105\"/>\n       <use x=\"780.859375\" xlink:href=\"#DejaVuSans-97\"/>\n       <use x=\"842.138672\" xlink:href=\"#DejaVuSans-108\"/>\n      </g>\n     </g>\n    </g>\n    <g id=\"ytick_2\">\n     <g id=\"line2d_15\">\n      <path clip-path=\"url(#pd6250d433d)\" d=\"M 124.815313 202.896 \nL 459.615313 202.896 \n\" style=\"fill:none;stroke:#ffffff;stroke-linecap:square;stroke-width:0.8;\"/>\n     </g>\n     <g id=\"line2d_16\">\n      <g>\n       <use style=\"fill:#555555;stroke:#555555;stroke-width:0.8;\" x=\"124.815313\" xlink:href=\"#m462d47940b\" y=\"202.896\"/>\n      </g>\n     </g>\n     <g id=\"text_8\">\n      <!--  Prof-specialty -->\n      <g style=\"fill:#555555;\" transform=\"translate(47.466875 206.695219)scale(0.1 -0.1)\">\n       <defs>\n        <path d=\"M 19.671875 64.796875 \nL 19.671875 37.40625 \nL 32.078125 37.40625 \nQ 38.96875 37.40625 42.71875 40.96875 \nQ 46.484375 44.53125 46.484375 51.125 \nQ 46.484375 57.671875 42.71875 61.234375 \nQ 38.96875 64.796875 32.078125 64.796875 \nz\nM 9.8125 72.90625 \nL 32.078125 72.90625 \nQ 44.34375 72.90625 50.609375 67.359375 \nQ 56.890625 61.8125 56.890625 51.125 \nQ 56.890625 40.328125 50.609375 34.8125 \nQ 44.34375 29.296875 32.078125 29.296875 \nL 19.671875 29.296875 \nL 19.671875 0 \nL 9.8125 0 \nz\n\" id=\"DejaVuSans-80\"/>\n        <path d=\"M 30.609375 48.390625 \nQ 23.390625 48.390625 19.1875 42.75 \nQ 14.984375 37.109375 14.984375 27.296875 \nQ 14.984375 17.484375 19.15625 11.84375 \nQ 23.34375 6.203125 30.609375 6.203125 \nQ 37.796875 6.203125 41.984375 11.859375 \nQ 46.1875 17.53125 46.1875 27.296875 \nQ 46.1875 37.015625 41.984375 42.703125 \nQ 37.796875 48.390625 30.609375 48.390625 \nz\nM 30.609375 56 \nQ 42.328125 56 49.015625 48.375 \nQ 55.71875 40.765625 55.71875 27.296875 \nQ 55.71875 13.875 49.015625 6.21875 \nQ 42.328125 -1.421875 30.609375 -1.421875 \nQ 18.84375 -1.421875 12.171875 6.21875 \nQ 5.515625 13.875 5.515625 27.296875 \nQ 5.515625 40.765625 12.171875 48.375 \nQ 18.84375 56 30.609375 56 \nz\n\" id=\"DejaVuSans-111\"/>\n        <path d=\"M 37.109375 75.984375 \nL 37.109375 68.5 \nL 28.515625 68.5 \nQ 23.6875 68.5 21.796875 66.546875 \nQ 19.921875 64.59375 19.921875 59.515625 \nL 19.921875 54.6875 \nL 34.71875 54.6875 \nL 34.71875 47.703125 \nL 19.921875 47.703125 \nL 19.921875 0 \nL 10.890625 0 \nL 10.890625 47.703125 \nL 2.296875 47.703125 \nL 2.296875 54.6875 \nL 10.890625 54.6875 \nL 10.890625 58.5 \nQ 10.890625 67.625 15.140625 71.796875 \nQ 19.390625 75.984375 28.609375 75.984375 \nz\n\" id=\"DejaVuSans-102\"/>\n        <path d=\"M 44.28125 53.078125 \nL 44.28125 44.578125 \nQ 40.484375 46.53125 36.375 47.5 \nQ 32.28125 48.484375 27.875 48.484375 \nQ 21.1875 48.484375 17.84375 46.4375 \nQ 14.5 44.390625 14.5 40.28125 \nQ 14.5 37.15625 16.890625 35.375 \nQ 19.28125 33.59375 26.515625 31.984375 \nL 29.59375 31.296875 \nQ 39.15625 29.25 43.1875 25.515625 \nQ 47.21875 21.78125 47.21875 15.09375 \nQ 47.21875 7.46875 41.1875 3.015625 \nQ 35.15625 -1.421875 24.609375 -1.421875 \nQ 20.21875 -1.421875 15.453125 -0.5625 \nQ 10.6875 0.296875 5.421875 2 \nL 5.421875 11.28125 \nQ 10.40625 8.6875 15.234375 7.390625 \nQ 20.0625 6.109375 24.8125 6.109375 \nQ 31.15625 6.109375 34.5625 8.28125 \nQ 37.984375 10.453125 37.984375 14.40625 \nQ 37.984375 18.0625 35.515625 20.015625 \nQ 33.0625 21.96875 24.703125 23.78125 \nL 21.578125 24.515625 \nQ 13.234375 26.265625 9.515625 29.90625 \nQ 5.8125 33.546875 5.8125 39.890625 \nQ 5.8125 47.609375 11.28125 51.796875 \nQ 16.75 56 26.8125 56 \nQ 31.78125 56 36.171875 55.265625 \nQ 40.578125 54.546875 44.28125 53.078125 \nz\n\" id=\"DejaVuSans-115\"/>\n        <path d=\"M 18.109375 8.203125 \nL 18.109375 -20.796875 \nL 9.078125 -20.796875 \nL 9.078125 54.6875 \nL 18.109375 54.6875 \nL 18.109375 46.390625 \nQ 20.953125 51.265625 25.265625 53.625 \nQ 29.59375 56 35.59375 56 \nQ 45.5625 56 51.78125 48.09375 \nQ 58.015625 40.1875 58.015625 27.296875 \nQ 58.015625 14.40625 51.78125 6.484375 \nQ 45.5625 -1.421875 35.59375 -1.421875 \nQ 29.59375 -1.421875 25.265625 0.953125 \nQ 20.953125 3.328125 18.109375 8.203125 \nz\nM 48.6875 27.296875 \nQ 48.6875 37.203125 44.609375 42.84375 \nQ 40.53125 48.484375 33.40625 48.484375 \nQ 26.265625 48.484375 22.1875 42.84375 \nQ 18.109375 37.203125 18.109375 27.296875 \nQ 18.109375 17.390625 22.1875 11.75 \nQ 26.265625 6.109375 33.40625 6.109375 \nQ 40.53125 6.109375 44.609375 11.75 \nQ 48.6875 17.390625 48.6875 27.296875 \nz\n\" id=\"DejaVuSans-112\"/>\n        <path d=\"M 18.3125 70.21875 \nL 18.3125 54.6875 \nL 36.8125 54.6875 \nL 36.8125 47.703125 \nL 18.3125 47.703125 \nL 18.3125 18.015625 \nQ 18.3125 11.328125 20.140625 9.421875 \nQ 21.96875 7.515625 27.59375 7.515625 \nL 36.8125 7.515625 \nL 36.8125 0 \nL 27.59375 0 \nQ 17.1875 0 13.234375 3.875 \nQ 9.28125 7.765625 9.28125 18.015625 \nL 9.28125 47.703125 \nL 2.6875 47.703125 \nL 2.6875 54.6875 \nL 9.28125 54.6875 \nL 9.28125 70.21875 \nz\n\" id=\"DejaVuSans-116\"/>\n        <path d=\"M 32.171875 -5.078125 \nQ 28.375 -14.84375 24.75 -17.8125 \nQ 21.140625 -20.796875 15.09375 -20.796875 \nL 7.90625 -20.796875 \nL 7.90625 -13.28125 \nL 13.1875 -13.28125 \nQ 16.890625 -13.28125 18.9375 -11.515625 \nQ 21 -9.765625 23.484375 -3.21875 \nL 25.09375 0.875 \nL 2.984375 54.6875 \nL 12.5 54.6875 \nL 29.59375 11.921875 \nL 46.6875 54.6875 \nL 56.203125 54.6875 \nz\n\" id=\"DejaVuSans-121\"/>\n       </defs>\n       <use xlink:href=\"#DejaVuSans-32\"/>\n       <use x=\"31.787109\" xlink:href=\"#DejaVuSans-80\"/>\n       <use x=\"90.339844\" xlink:href=\"#DejaVuSans-114\"/>\n       <use x=\"129.203125\" xlink:href=\"#DejaVuSans-111\"/>\n       <use x=\"190.384766\" xlink:href=\"#DejaVuSans-102\"/>\n       <use x=\"220.089844\" xlink:href=\"#DejaVuSans-45\"/>\n       <use x=\"256.173828\" xlink:href=\"#DejaVuSans-115\"/>\n       <use x=\"308.273438\" xlink:href=\"#DejaVuSans-112\"/>\n       <use x=\"371.75\" xlink:href=\"#DejaVuSans-101\"/>\n       <use x=\"433.273438\" xlink:href=\"#DejaVuSans-99\"/>\n       <use x=\"488.253906\" xlink:href=\"#DejaVuSans-105\"/>\n       <use x=\"516.037109\" xlink:href=\"#DejaVuSans-97\"/>\n       <use x=\"577.316406\" xlink:href=\"#DejaVuSans-108\"/>\n       <use x=\"605.099609\" xlink:href=\"#DejaVuSans-116\"/>\n       <use x=\"644.308594\" xlink:href=\"#DejaVuSans-121\"/>\n      </g>\n     </g>\n    </g>\n    <g id=\"ytick_3\">\n     <g id=\"line2d_17\">\n      <path clip-path=\"url(#pd6250d433d)\" d=\"M 124.815313 188.4 \nL 459.615313 188.4 \n\" style=\"fill:none;stroke:#ffffff;stroke-linecap:square;stroke-width:0.8;\"/>\n     </g>\n     <g id=\"line2d_18\">\n      <g>\n       <use style=\"fill:#555555;stroke:#555555;stroke-width:0.8;\" x=\"124.815313\" xlink:href=\"#m462d47940b\" y=\"188.4\"/>\n      </g>\n     </g>\n     <g id=\"text_9\">\n      <!--  Protective-serv -->\n      <g style=\"fill:#555555;\" transform=\"translate(39.435625 192.199219)scale(0.1 -0.1)\">\n       <defs>\n        <path d=\"M 2.984375 54.6875 \nL 12.5 54.6875 \nL 29.59375 8.796875 \nL 46.6875 54.6875 \nL 56.203125 54.6875 \nL 35.6875 0 \nL 23.484375 0 \nz\n\" id=\"DejaVuSans-118\"/>\n       </defs>\n       <use xlink:href=\"#DejaVuSans-32\"/>\n       <use x=\"31.787109\" xlink:href=\"#DejaVuSans-80\"/>\n       <use x=\"90.339844\" xlink:href=\"#DejaVuSans-114\"/>\n       <use x=\"129.203125\" xlink:href=\"#DejaVuSans-111\"/>\n       <use x=\"190.384766\" xlink:href=\"#DejaVuSans-116\"/>\n       <use x=\"229.59375\" xlink:href=\"#DejaVuSans-101\"/>\n       <use x=\"291.117188\" xlink:href=\"#DejaVuSans-99\"/>\n       <use x=\"346.097656\" xlink:href=\"#DejaVuSans-116\"/>\n       <use x=\"385.306641\" xlink:href=\"#DejaVuSans-105\"/>\n       <use x=\"413.089844\" xlink:href=\"#DejaVuSans-118\"/>\n       <use x=\"472.269531\" xlink:href=\"#DejaVuSans-101\"/>\n       <use x=\"533.792969\" xlink:href=\"#DejaVuSans-45\"/>\n       <use x=\"569.876953\" xlink:href=\"#DejaVuSans-115\"/>\n       <use x=\"621.976562\" xlink:href=\"#DejaVuSans-101\"/>\n       <use x=\"683.5\" xlink:href=\"#DejaVuSans-114\"/>\n       <use x=\"724.613281\" xlink:href=\"#DejaVuSans-118\"/>\n      </g>\n     </g>\n    </g>\n    <g id=\"ytick_4\">\n     <g id=\"line2d_19\">\n      <path clip-path=\"url(#pd6250d433d)\" d=\"M 124.815313 173.904 \nL 459.615313 173.904 \n\" style=\"fill:none;stroke:#ffffff;stroke-linecap:square;stroke-width:0.8;\"/>\n     </g>\n     <g id=\"line2d_20\">\n      <g>\n       <use style=\"fill:#555555;stroke:#555555;stroke-width:0.8;\" x=\"124.815313\" xlink:href=\"#m462d47940b\" y=\"173.904\"/>\n      </g>\n     </g>\n     <g id=\"text_10\">\n      <!--  Tech-support -->\n      <g style=\"fill:#555555;\" transform=\"translate(50.23875 177.703219)scale(0.1 -0.1)\">\n       <defs>\n        <path d=\"M -0.296875 72.90625 \nL 61.375 72.90625 \nL 61.375 64.59375 \nL 35.5 64.59375 \nL 35.5 0 \nL 25.59375 0 \nL 25.59375 64.59375 \nL -0.296875 64.59375 \nz\n\" id=\"DejaVuSans-84\"/>\n        <path d=\"M 54.890625 33.015625 \nL 54.890625 0 \nL 45.90625 0 \nL 45.90625 32.71875 \nQ 45.90625 40.484375 42.875 44.328125 \nQ 39.84375 48.1875 33.796875 48.1875 \nQ 26.515625 48.1875 22.3125 43.546875 \nQ 18.109375 38.921875 18.109375 30.90625 \nL 18.109375 0 \nL 9.078125 0 \nL 9.078125 75.984375 \nL 18.109375 75.984375 \nL 18.109375 46.1875 \nQ 21.34375 51.125 25.703125 53.5625 \nQ 30.078125 56 35.796875 56 \nQ 45.21875 56 50.046875 50.171875 \nQ 54.890625 44.34375 54.890625 33.015625 \nz\n\" id=\"DejaVuSans-104\"/>\n        <path d=\"M 8.5 21.578125 \nL 8.5 54.6875 \nL 17.484375 54.6875 \nL 17.484375 21.921875 \nQ 17.484375 14.15625 20.5 10.265625 \nQ 23.53125 6.390625 29.59375 6.390625 \nQ 36.859375 6.390625 41.078125 11.03125 \nQ 45.3125 15.671875 45.3125 23.6875 \nL 45.3125 54.6875 \nL 54.296875 54.6875 \nL 54.296875 0 \nL 45.3125 0 \nL 45.3125 8.40625 \nQ 42.046875 3.421875 37.71875 1 \nQ 33.40625 -1.421875 27.6875 -1.421875 \nQ 18.265625 -1.421875 13.375 4.4375 \nQ 8.5 10.296875 8.5 21.578125 \nz\nM 31.109375 56 \nz\n\" id=\"DejaVuSans-117\"/>\n       </defs>\n       <use xlink:href=\"#DejaVuSans-32\"/>\n       <use x=\"31.787109\" xlink:href=\"#DejaVuSans-84\"/>\n       <use x=\"75.871094\" xlink:href=\"#DejaVuSans-101\"/>\n       <use x=\"137.394531\" xlink:href=\"#DejaVuSans-99\"/>\n       <use x=\"192.375\" xlink:href=\"#DejaVuSans-104\"/>\n       <use x=\"255.753906\" xlink:href=\"#DejaVuSans-45\"/>\n       <use x=\"291.837891\" xlink:href=\"#DejaVuSans-115\"/>\n       <use x=\"343.9375\" xlink:href=\"#DejaVuSans-117\"/>\n       <use x=\"407.316406\" xlink:href=\"#DejaVuSans-112\"/>\n       <use x=\"470.792969\" xlink:href=\"#DejaVuSans-112\"/>\n       <use x=\"534.269531\" xlink:href=\"#DejaVuSans-111\"/>\n       <use x=\"595.451172\" xlink:href=\"#DejaVuSans-114\"/>\n       <use x=\"636.564453\" xlink:href=\"#DejaVuSans-116\"/>\n      </g>\n     </g>\n    </g>\n    <g id=\"ytick_5\">\n     <g id=\"line2d_21\">\n      <path clip-path=\"url(#pd6250d433d)\" d=\"M 124.815313 159.408 \nL 459.615313 159.408 \n\" style=\"fill:none;stroke:#ffffff;stroke-linecap:square;stroke-width:0.8;\"/>\n     </g>\n     <g id=\"line2d_22\">\n      <g>\n       <use style=\"fill:#555555;stroke:#555555;stroke-width:0.8;\" x=\"124.815313\" xlink:href=\"#m462d47940b\" y=\"159.408\"/>\n      </g>\n     </g>\n     <g id=\"text_11\">\n      <!--  Sales -->\n      <g style=\"fill:#555555;\" transform=\"translate(88.02 163.207219)scale(0.1 -0.1)\">\n       <defs>\n        <path d=\"M 53.515625 70.515625 \nL 53.515625 60.890625 \nQ 47.90625 63.578125 42.921875 64.890625 \nQ 37.9375 66.21875 33.296875 66.21875 \nQ 25.25 66.21875 20.875 63.09375 \nQ 16.5 59.96875 16.5 54.203125 \nQ 16.5 49.359375 19.40625 46.890625 \nQ 22.3125 44.4375 30.421875 42.921875 \nL 36.375 41.703125 \nQ 47.40625 39.59375 52.65625 34.296875 \nQ 57.90625 29 57.90625 20.125 \nQ 57.90625 9.515625 50.796875 4.046875 \nQ 43.703125 -1.421875 29.984375 -1.421875 \nQ 24.8125 -1.421875 18.96875 -0.25 \nQ 13.140625 0.921875 6.890625 3.21875 \nL 6.890625 13.375 \nQ 12.890625 10.015625 18.65625 8.296875 \nQ 24.421875 6.59375 29.984375 6.59375 \nQ 38.421875 6.59375 43.015625 9.90625 \nQ 47.609375 13.234375 47.609375 19.390625 \nQ 47.609375 24.75 44.3125 27.78125 \nQ 41.015625 30.8125 33.5 32.328125 \nL 27.484375 33.5 \nQ 16.453125 35.6875 11.515625 40.375 \nQ 6.59375 45.0625 6.59375 53.421875 \nQ 6.59375 63.09375 13.40625 68.65625 \nQ 20.21875 74.21875 32.171875 74.21875 \nQ 37.3125 74.21875 42.625 73.28125 \nQ 47.953125 72.359375 53.515625 70.515625 \nz\n\" id=\"DejaVuSans-83\"/>\n       </defs>\n       <use xlink:href=\"#DejaVuSans-32\"/>\n       <use x=\"31.787109\" xlink:href=\"#DejaVuSans-83\"/>\n       <use x=\"95.263672\" xlink:href=\"#DejaVuSans-97\"/>\n       <use x=\"156.542969\" xlink:href=\"#DejaVuSans-108\"/>\n       <use x=\"184.326172\" xlink:href=\"#DejaVuSans-101\"/>\n       <use x=\"245.849609\" xlink:href=\"#DejaVuSans-115\"/>\n      </g>\n     </g>\n    </g>\n    <g id=\"ytick_6\">\n     <g id=\"line2d_23\">\n      <path clip-path=\"url(#pd6250d433d)\" d=\"M 124.815313 144.912 \nL 459.615313 144.912 \n\" style=\"fill:none;stroke:#ffffff;stroke-linecap:square;stroke-width:0.8;\"/>\n     </g>\n     <g id=\"line2d_24\">\n      <g>\n       <use style=\"fill:#555555;stroke:#555555;stroke-width:0.8;\" x=\"124.815313\" xlink:href=\"#m462d47940b\" y=\"144.912\"/>\n      </g>\n     </g>\n     <g id=\"text_12\">\n      <!--  Craft-repair -->\n      <g style=\"fill:#555555;\" transform=\"translate(57.137188 148.711219)scale(0.1 -0.1)\">\n       <defs>\n        <path d=\"M 64.40625 67.28125 \nL 64.40625 56.890625 \nQ 59.421875 61.53125 53.78125 63.8125 \nQ 48.140625 66.109375 41.796875 66.109375 \nQ 29.296875 66.109375 22.65625 58.46875 \nQ 16.015625 50.828125 16.015625 36.375 \nQ 16.015625 21.96875 22.65625 14.328125 \nQ 29.296875 6.6875 41.796875 6.6875 \nQ 48.140625 6.6875 53.78125 8.984375 \nQ 59.421875 11.28125 64.40625 15.921875 \nL 64.40625 5.609375 \nQ 59.234375 2.09375 53.4375 0.328125 \nQ 47.65625 -1.421875 41.21875 -1.421875 \nQ 24.65625 -1.421875 15.125 8.703125 \nQ 5.609375 18.84375 5.609375 36.375 \nQ 5.609375 53.953125 15.125 64.078125 \nQ 24.65625 74.21875 41.21875 74.21875 \nQ 47.75 74.21875 53.53125 72.484375 \nQ 59.328125 70.75 64.40625 67.28125 \nz\n\" id=\"DejaVuSans-67\"/>\n       </defs>\n       <use xlink:href=\"#DejaVuSans-32\"/>\n       <use x=\"31.787109\" xlink:href=\"#DejaVuSans-67\"/>\n       <use x=\"101.611328\" xlink:href=\"#DejaVuSans-114\"/>\n       <use x=\"142.724609\" xlink:href=\"#DejaVuSans-97\"/>\n       <use x=\"204.003906\" xlink:href=\"#DejaVuSans-102\"/>\n       <use x=\"237.458984\" xlink:href=\"#DejaVuSans-116\"/>\n       <use x=\"276.667969\" xlink:href=\"#DejaVuSans-45\"/>\n       <use x=\"312.751953\" xlink:href=\"#DejaVuSans-114\"/>\n       <use x=\"351.615234\" xlink:href=\"#DejaVuSans-101\"/>\n       <use x=\"413.138672\" xlink:href=\"#DejaVuSans-112\"/>\n       <use x=\"476.615234\" xlink:href=\"#DejaVuSans-97\"/>\n       <use x=\"537.894531\" xlink:href=\"#DejaVuSans-105\"/>\n       <use x=\"565.677734\" xlink:href=\"#DejaVuSans-114\"/>\n      </g>\n     </g>\n    </g>\n    <g id=\"ytick_7\">\n     <g id=\"line2d_25\">\n      <path clip-path=\"url(#pd6250d433d)\" d=\"M 124.815313 130.416 \nL 459.615313 130.416 \n\" style=\"fill:none;stroke:#ffffff;stroke-linecap:square;stroke-width:0.8;\"/>\n     </g>\n     <g id=\"line2d_26\">\n      <g>\n       <use style=\"fill:#555555;stroke:#555555;stroke-width:0.8;\" x=\"124.815313\" xlink:href=\"#m462d47940b\" y=\"130.416\"/>\n      </g>\n     </g>\n     <g id=\"text_13\">\n      <!--  Transport-moving -->\n      <g style=\"fill:#555555;\" transform=\"translate(26.87 134.215219)scale(0.1 -0.1)\">\n       <use xlink:href=\"#DejaVuSans-32\"/>\n       <use x=\"31.787109\" xlink:href=\"#DejaVuSans-84\"/>\n       <use x=\"78.121094\" xlink:href=\"#DejaVuSans-114\"/>\n       <use x=\"119.234375\" xlink:href=\"#DejaVuSans-97\"/>\n       <use x=\"180.513672\" xlink:href=\"#DejaVuSans-110\"/>\n       <use x=\"243.892578\" xlink:href=\"#DejaVuSans-115\"/>\n       <use x=\"295.992188\" xlink:href=\"#DejaVuSans-112\"/>\n       <use x=\"359.46875\" xlink:href=\"#DejaVuSans-111\"/>\n       <use x=\"420.650391\" xlink:href=\"#DejaVuSans-114\"/>\n       <use x=\"461.763672\" xlink:href=\"#DejaVuSans-116\"/>\n       <use x=\"500.972656\" xlink:href=\"#DejaVuSans-45\"/>\n       <use x=\"537.056641\" xlink:href=\"#DejaVuSans-109\"/>\n       <use x=\"634.46875\" xlink:href=\"#DejaVuSans-111\"/>\n       <use x=\"695.650391\" xlink:href=\"#DejaVuSans-118\"/>\n       <use x=\"754.830078\" xlink:href=\"#DejaVuSans-105\"/>\n       <use x=\"782.613281\" xlink:href=\"#DejaVuSans-110\"/>\n       <use x=\"845.992188\" xlink:href=\"#DejaVuSans-103\"/>\n      </g>\n     </g>\n    </g>\n    <g id=\"ytick_8\">\n     <g id=\"line2d_27\">\n      <path clip-path=\"url(#pd6250d433d)\" d=\"M 124.815313 115.92 \nL 459.615313 115.92 \n\" style=\"fill:none;stroke:#ffffff;stroke-linecap:square;stroke-width:0.8;\"/>\n     </g>\n     <g id=\"line2d_28\">\n      <g>\n       <use style=\"fill:#555555;stroke:#555555;stroke-width:0.8;\" x=\"124.815313\" xlink:href=\"#m462d47940b\" y=\"115.92\"/>\n      </g>\n     </g>\n     <g id=\"text_14\">\n      <!--  Adm-clerical -->\n      <g style=\"fill:#555555;\" transform=\"translate(52.55125 119.719219)scale(0.1 -0.1)\">\n       <defs>\n        <path d=\"M 34.1875 63.1875 \nL 20.796875 26.90625 \nL 47.609375 26.90625 \nz\nM 28.609375 72.90625 \nL 39.796875 72.90625 \nL 67.578125 0 \nL 57.328125 0 \nL 50.6875 18.703125 \nL 17.828125 18.703125 \nL 11.1875 0 \nL 0.78125 0 \nz\n\" id=\"DejaVuSans-65\"/>\n        <path d=\"M 45.40625 46.390625 \nL 45.40625 75.984375 \nL 54.390625 75.984375 \nL 54.390625 0 \nL 45.40625 0 \nL 45.40625 8.203125 \nQ 42.578125 3.328125 38.25 0.953125 \nQ 33.9375 -1.421875 27.875 -1.421875 \nQ 17.96875 -1.421875 11.734375 6.484375 \nQ 5.515625 14.40625 5.515625 27.296875 \nQ 5.515625 40.1875 11.734375 48.09375 \nQ 17.96875 56 27.875 56 \nQ 33.9375 56 38.25 53.625 \nQ 42.578125 51.265625 45.40625 46.390625 \nz\nM 14.796875 27.296875 \nQ 14.796875 17.390625 18.875 11.75 \nQ 22.953125 6.109375 30.078125 6.109375 \nQ 37.203125 6.109375 41.296875 11.75 \nQ 45.40625 17.390625 45.40625 27.296875 \nQ 45.40625 37.203125 41.296875 42.84375 \nQ 37.203125 48.484375 30.078125 48.484375 \nQ 22.953125 48.484375 18.875 42.84375 \nQ 14.796875 37.203125 14.796875 27.296875 \nz\n\" id=\"DejaVuSans-100\"/>\n       </defs>\n       <use xlink:href=\"#DejaVuSans-32\"/>\n       <use x=\"31.787109\" xlink:href=\"#DejaVuSans-65\"/>\n       <use x=\"98.445312\" xlink:href=\"#DejaVuSans-100\"/>\n       <use x=\"161.921875\" xlink:href=\"#DejaVuSans-109\"/>\n       <use x=\"259.333984\" xlink:href=\"#DejaVuSans-45\"/>\n       <use x=\"295.417969\" xlink:href=\"#DejaVuSans-99\"/>\n       <use x=\"350.398438\" xlink:href=\"#DejaVuSans-108\"/>\n       <use x=\"378.181641\" xlink:href=\"#DejaVuSans-101\"/>\n       <use x=\"439.705078\" xlink:href=\"#DejaVuSans-114\"/>\n       <use x=\"480.818359\" xlink:href=\"#DejaVuSans-105\"/>\n       <use x=\"508.601562\" xlink:href=\"#DejaVuSans-99\"/>\n       <use x=\"563.582031\" xlink:href=\"#DejaVuSans-97\"/>\n       <use x=\"624.861328\" xlink:href=\"#DejaVuSans-108\"/>\n      </g>\n     </g>\n    </g>\n    <g id=\"ytick_9\">\n     <g id=\"line2d_29\">\n      <path clip-path=\"url(#pd6250d433d)\" d=\"M 124.815313 101.424 \nL 459.615313 101.424 \n\" style=\"fill:none;stroke:#ffffff;stroke-linecap:square;stroke-width:0.8;\"/>\n     </g>\n     <g id=\"line2d_30\">\n      <g>\n       <use style=\"fill:#555555;stroke:#555555;stroke-width:0.8;\" x=\"124.815313\" xlink:href=\"#m462d47940b\" y=\"101.424\"/>\n      </g>\n     </g>\n     <g id=\"text_15\">\n      <!--  Machine-op-inspct -->\n      <g style=\"fill:#555555;\" transform=\"translate(22.81375 105.223219)scale(0.1 -0.1)\">\n       <defs>\n        <path d=\"M 9.8125 72.90625 \nL 24.515625 72.90625 \nL 43.109375 23.296875 \nL 61.8125 72.90625 \nL 76.515625 72.90625 \nL 76.515625 0 \nL 66.890625 0 \nL 66.890625 64.015625 \nL 48.09375 14.015625 \nL 38.1875 14.015625 \nL 19.390625 64.015625 \nL 19.390625 0 \nL 9.8125 0 \nz\n\" id=\"DejaVuSans-77\"/>\n       </defs>\n       <use xlink:href=\"#DejaVuSans-32\"/>\n       <use x=\"31.787109\" xlink:href=\"#DejaVuSans-77\"/>\n       <use x=\"118.066406\" xlink:href=\"#DejaVuSans-97\"/>\n       <use x=\"179.345703\" xlink:href=\"#DejaVuSans-99\"/>\n       <use x=\"234.326172\" xlink:href=\"#DejaVuSans-104\"/>\n       <use x=\"297.705078\" xlink:href=\"#DejaVuSans-105\"/>\n       <use x=\"325.488281\" xlink:href=\"#DejaVuSans-110\"/>\n       <use x=\"388.867188\" xlink:href=\"#DejaVuSans-101\"/>\n       <use x=\"450.390625\" xlink:href=\"#DejaVuSans-45\"/>\n       <use x=\"488.349609\" xlink:href=\"#DejaVuSans-111\"/>\n       <use x=\"549.53125\" xlink:href=\"#DejaVuSans-112\"/>\n       <use x=\"613.007812\" xlink:href=\"#DejaVuSans-45\"/>\n       <use x=\"649.091797\" xlink:href=\"#DejaVuSans-105\"/>\n       <use x=\"676.875\" xlink:href=\"#DejaVuSans-110\"/>\n       <use x=\"740.253906\" xlink:href=\"#DejaVuSans-115\"/>\n       <use x=\"792.353516\" xlink:href=\"#DejaVuSans-112\"/>\n       <use x=\"855.830078\" xlink:href=\"#DejaVuSans-99\"/>\n       <use x=\"910.810547\" xlink:href=\"#DejaVuSans-116\"/>\n      </g>\n     </g>\n    </g>\n    <g id=\"ytick_10\">\n     <g id=\"line2d_31\">\n      <path clip-path=\"url(#pd6250d433d)\" d=\"M 124.815313 86.928 \nL 459.615313 86.928 \n\" style=\"fill:none;stroke:#ffffff;stroke-linecap:square;stroke-width:0.8;\"/>\n     </g>\n     <g id=\"line2d_32\">\n      <g>\n       <use style=\"fill:#555555;stroke:#555555;stroke-width:0.8;\" x=\"124.815313\" xlink:href=\"#m462d47940b\" y=\"86.928\"/>\n      </g>\n     </g>\n     <g id=\"text_16\">\n      <!--  Farming-fishing -->\n      <g style=\"fill:#555555;\" transform=\"translate(37.612188 90.727219)scale(0.1 -0.1)\">\n       <defs>\n        <path d=\"M 9.8125 72.90625 \nL 51.703125 72.90625 \nL 51.703125 64.59375 \nL 19.671875 64.59375 \nL 19.671875 43.109375 \nL 48.578125 43.109375 \nL 48.578125 34.8125 \nL 19.671875 34.8125 \nL 19.671875 0 \nL 9.8125 0 \nz\n\" id=\"DejaVuSans-70\"/>\n       </defs>\n       <use xlink:href=\"#DejaVuSans-32\"/>\n       <use x=\"31.787109\" xlink:href=\"#DejaVuSans-70\"/>\n       <use x=\"80.181641\" xlink:href=\"#DejaVuSans-97\"/>\n       <use x=\"141.460938\" xlink:href=\"#DejaVuSans-114\"/>\n       <use x=\"180.824219\" xlink:href=\"#DejaVuSans-109\"/>\n       <use x=\"278.236328\" xlink:href=\"#DejaVuSans-105\"/>\n       <use x=\"306.019531\" xlink:href=\"#DejaVuSans-110\"/>\n       <use x=\"369.398438\" xlink:href=\"#DejaVuSans-103\"/>\n       <use x=\"432.875\" xlink:href=\"#DejaVuSans-45\"/>\n       <use x=\"468.958984\" xlink:href=\"#DejaVuSans-102\"/>\n       <use x=\"504.164062\" xlink:href=\"#DejaVuSans-105\"/>\n       <use x=\"531.947266\" xlink:href=\"#DejaVuSans-115\"/>\n       <use x=\"584.046875\" xlink:href=\"#DejaVuSans-104\"/>\n       <use x=\"647.425781\" xlink:href=\"#DejaVuSans-105\"/>\n       <use x=\"675.208984\" xlink:href=\"#DejaVuSans-110\"/>\n       <use x=\"738.587891\" xlink:href=\"#DejaVuSans-103\"/>\n      </g>\n     </g>\n    </g>\n    <g id=\"ytick_11\">\n     <g id=\"line2d_33\">\n      <path clip-path=\"url(#pd6250d433d)\" d=\"M 124.815313 72.432 \nL 459.615313 72.432 \n\" style=\"fill:none;stroke:#ffffff;stroke-linecap:square;stroke-width:0.8;\"/>\n     </g>\n     <g id=\"line2d_34\">\n      <g>\n       <use style=\"fill:#555555;stroke:#555555;stroke-width:0.8;\" x=\"124.815313\" xlink:href=\"#m462d47940b\" y=\"72.432\"/>\n      </g>\n     </g>\n     <g id=\"text_17\">\n      <!--  Armed-Forces -->\n      <g style=\"fill:#555555;\" transform=\"translate(45.755938 76.231219)scale(0.1 -0.1)\">\n       <use xlink:href=\"#DejaVuSans-32\"/>\n       <use x=\"31.787109\" xlink:href=\"#DejaVuSans-65\"/>\n       <use x=\"100.195312\" xlink:href=\"#DejaVuSans-114\"/>\n       <use x=\"139.558594\" xlink:href=\"#DejaVuSans-109\"/>\n       <use x=\"236.970703\" xlink:href=\"#DejaVuSans-101\"/>\n       <use x=\"298.494141\" xlink:href=\"#DejaVuSans-100\"/>\n       <use x=\"361.970703\" xlink:href=\"#DejaVuSans-45\"/>\n       <use x=\"398.054688\" xlink:href=\"#DejaVuSans-70\"/>\n       <use x=\"451.949219\" xlink:href=\"#DejaVuSans-111\"/>\n       <use x=\"513.130859\" xlink:href=\"#DejaVuSans-114\"/>\n       <use x=\"551.994141\" xlink:href=\"#DejaVuSans-99\"/>\n       <use x=\"606.974609\" xlink:href=\"#DejaVuSans-101\"/>\n       <use x=\"668.498047\" xlink:href=\"#DejaVuSans-115\"/>\n      </g>\n     </g>\n    </g>\n    <g id=\"ytick_12\">\n     <g id=\"line2d_35\">\n      <path clip-path=\"url(#pd6250d433d)\" d=\"M 124.815313 57.936 \nL 459.615313 57.936 \n\" style=\"fill:none;stroke:#ffffff;stroke-linecap:square;stroke-width:0.8;\"/>\n     </g>\n     <g id=\"line2d_36\">\n      <g>\n       <use style=\"fill:#555555;stroke:#555555;stroke-width:0.8;\" x=\"124.815313\" xlink:href=\"#m462d47940b\" y=\"57.936\"/>\n      </g>\n     </g>\n     <g id=\"text_18\">\n      <!--  ? -->\n      <g style=\"fill:#555555;\" transform=\"translate(109.329375 61.735219)scale(0.1 -0.1)\">\n       <defs>\n        <path d=\"M 19.09375 12.40625 \nL 29 12.40625 \nL 29 0 \nL 19.09375 0 \nz\nM 28.71875 19.578125 \nL 19.390625 19.578125 \nL 19.390625 27.09375 \nQ 19.390625 32.03125 20.75 35.203125 \nQ 22.125 38.375 26.515625 42.578125 \nL 30.90625 46.921875 \nQ 33.6875 49.515625 34.9375 51.8125 \nQ 36.1875 54.109375 36.1875 56.5 \nQ 36.1875 60.84375 32.984375 63.53125 \nQ 29.78125 66.21875 24.515625 66.21875 \nQ 20.65625 66.21875 16.28125 64.5 \nQ 11.921875 62.796875 7.171875 59.515625 \nL 7.171875 68.703125 \nQ 11.765625 71.484375 16.46875 72.84375 \nQ 21.1875 74.21875 26.21875 74.21875 \nQ 35.203125 74.21875 40.640625 69.484375 \nQ 46.09375 64.75 46.09375 56.984375 \nQ 46.09375 53.265625 44.328125 49.921875 \nQ 42.578125 46.578125 38.1875 42.390625 \nL 33.890625 38.1875 \nQ 31.59375 35.890625 30.640625 34.59375 \nQ 29.6875 33.296875 29.296875 32.078125 \nQ 29 31.0625 28.859375 29.59375 \nQ 28.71875 28.125 28.71875 25.59375 \nz\n\" id=\"DejaVuSans-63\"/>\n       </defs>\n       <use xlink:href=\"#DejaVuSans-32\"/>\n       <use x=\"31.787109\" xlink:href=\"#DejaVuSans-63\"/>\n      </g>\n     </g>\n    </g>\n    <g id=\"ytick_13\">\n     <g id=\"line2d_37\">\n      <path clip-path=\"url(#pd6250d433d)\" d=\"M 124.815313 43.44 \nL 459.615313 43.44 \n\" style=\"fill:none;stroke:#ffffff;stroke-linecap:square;stroke-width:0.8;\"/>\n     </g>\n     <g id=\"line2d_38\">\n      <g>\n       <use style=\"fill:#555555;stroke:#555555;stroke-width:0.8;\" x=\"124.815313\" xlink:href=\"#m462d47940b\" y=\"43.44\"/>\n      </g>\n     </g>\n     <g id=\"text_19\">\n      <!--  Handlers-cleaners -->\n      <g style=\"fill:#555555;\" transform=\"translate(24.074687 47.239219)scale(0.1 -0.1)\">\n       <defs>\n        <path d=\"M 9.8125 72.90625 \nL 19.671875 72.90625 \nL 19.671875 43.015625 \nL 55.515625 43.015625 \nL 55.515625 72.90625 \nL 65.375 72.90625 \nL 65.375 0 \nL 55.515625 0 \nL 55.515625 34.71875 \nL 19.671875 34.71875 \nL 19.671875 0 \nL 9.8125 0 \nz\n\" id=\"DejaVuSans-72\"/>\n       </defs>\n       <use xlink:href=\"#DejaVuSans-32\"/>\n       <use x=\"31.787109\" xlink:href=\"#DejaVuSans-72\"/>\n       <use x=\"106.982422\" xlink:href=\"#DejaVuSans-97\"/>\n       <use x=\"168.261719\" xlink:href=\"#DejaVuSans-110\"/>\n       <use x=\"231.640625\" xlink:href=\"#DejaVuSans-100\"/>\n       <use x=\"295.117188\" xlink:href=\"#DejaVuSans-108\"/>\n       <use x=\"322.900391\" xlink:href=\"#DejaVuSans-101\"/>\n       <use x=\"384.423828\" xlink:href=\"#DejaVuSans-114\"/>\n       <use x=\"425.537109\" xlink:href=\"#DejaVuSans-115\"/>\n       <use x=\"477.636719\" xlink:href=\"#DejaVuSans-45\"/>\n       <use x=\"513.720703\" xlink:href=\"#DejaVuSans-99\"/>\n       <use x=\"568.701172\" xlink:href=\"#DejaVuSans-108\"/>\n       <use x=\"596.484375\" xlink:href=\"#DejaVuSans-101\"/>\n       <use x=\"658.007812\" xlink:href=\"#DejaVuSans-97\"/>\n       <use x=\"719.287109\" xlink:href=\"#DejaVuSans-110\"/>\n       <use x=\"782.666016\" xlink:href=\"#DejaVuSans-101\"/>\n       <use x=\"844.189453\" xlink:href=\"#DejaVuSans-114\"/>\n       <use x=\"885.302734\" xlink:href=\"#DejaVuSans-115\"/>\n      </g>\n     </g>\n    </g>\n    <g id=\"ytick_14\">\n     <g id=\"line2d_39\">\n      <path clip-path=\"url(#pd6250d433d)\" d=\"M 124.815313 28.944 \nL 459.615313 28.944 \n\" style=\"fill:none;stroke:#ffffff;stroke-linecap:square;stroke-width:0.8;\"/>\n     </g>\n     <g id=\"line2d_40\">\n      <g>\n       <use style=\"fill:#555555;stroke:#555555;stroke-width:0.8;\" x=\"124.815313\" xlink:href=\"#m462d47940b\" y=\"28.944\"/>\n      </g>\n     </g>\n     <g id=\"text_20\">\n      <!--  Other-service -->\n      <g style=\"fill:#555555;\" transform=\"translate(47.45125 32.743219)scale(0.1 -0.1)\">\n       <defs>\n        <path d=\"M 39.40625 66.21875 \nQ 28.65625 66.21875 22.328125 58.203125 \nQ 16.015625 50.203125 16.015625 36.375 \nQ 16.015625 22.609375 22.328125 14.59375 \nQ 28.65625 6.59375 39.40625 6.59375 \nQ 50.140625 6.59375 56.421875 14.59375 \nQ 62.703125 22.609375 62.703125 36.375 \nQ 62.703125 50.203125 56.421875 58.203125 \nQ 50.140625 66.21875 39.40625 66.21875 \nz\nM 39.40625 74.21875 \nQ 54.734375 74.21875 63.90625 63.9375 \nQ 73.09375 53.65625 73.09375 36.375 \nQ 73.09375 19.140625 63.90625 8.859375 \nQ 54.734375 -1.421875 39.40625 -1.421875 \nQ 24.03125 -1.421875 14.8125 8.828125 \nQ 5.609375 19.09375 5.609375 36.375 \nQ 5.609375 53.65625 14.8125 63.9375 \nQ 24.03125 74.21875 39.40625 74.21875 \nz\n\" id=\"DejaVuSans-79\"/>\n       </defs>\n       <use xlink:href=\"#DejaVuSans-32\"/>\n       <use x=\"31.787109\" xlink:href=\"#DejaVuSans-79\"/>\n       <use x=\"110.498047\" xlink:href=\"#DejaVuSans-116\"/>\n       <use x=\"149.707031\" xlink:href=\"#DejaVuSans-104\"/>\n       <use x=\"213.085938\" xlink:href=\"#DejaVuSans-101\"/>\n       <use x=\"274.609375\" xlink:href=\"#DejaVuSans-114\"/>\n       <use x=\"309.347656\" xlink:href=\"#DejaVuSans-45\"/>\n       <use x=\"345.431641\" xlink:href=\"#DejaVuSans-115\"/>\n       <use x=\"397.53125\" xlink:href=\"#DejaVuSans-101\"/>\n       <use x=\"459.054688\" xlink:href=\"#DejaVuSans-114\"/>\n       <use x=\"500.167969\" xlink:href=\"#DejaVuSans-118\"/>\n       <use x=\"559.347656\" xlink:href=\"#DejaVuSans-105\"/>\n       <use x=\"587.130859\" xlink:href=\"#DejaVuSans-99\"/>\n       <use x=\"642.111328\" xlink:href=\"#DejaVuSans-101\"/>\n      </g>\n     </g>\n    </g>\n    <g id=\"ytick_15\">\n     <g id=\"line2d_41\">\n      <path clip-path=\"url(#pd6250d433d)\" d=\"M 124.815313 14.448 \nL 459.615313 14.448 \n\" style=\"fill:none;stroke:#ffffff;stroke-linecap:square;stroke-width:0.8;\"/>\n     </g>\n     <g id=\"line2d_42\">\n      <g>\n       <use style=\"fill:#555555;stroke:#555555;stroke-width:0.8;\" x=\"124.815313\" xlink:href=\"#m462d47940b\" y=\"14.448\"/>\n      </g>\n     </g>\n     <g id=\"text_21\">\n      <!--  Priv-house-serv -->\n      <g style=\"fill:#555555;\" transform=\"translate(37.473125 18.247219)scale(0.1 -0.1)\">\n       <use xlink:href=\"#DejaVuSans-32\"/>\n       <use x=\"31.787109\" xlink:href=\"#DejaVuSans-80\"/>\n       <use x=\"90.339844\" xlink:href=\"#DejaVuSans-114\"/>\n       <use x=\"131.453125\" xlink:href=\"#DejaVuSans-105\"/>\n       <use x=\"159.236328\" xlink:href=\"#DejaVuSans-118\"/>\n       <use x=\"215.791016\" xlink:href=\"#DejaVuSans-45\"/>\n       <use x=\"251.875\" xlink:href=\"#DejaVuSans-104\"/>\n       <use x=\"315.253906\" xlink:href=\"#DejaVuSans-111\"/>\n       <use x=\"376.435547\" xlink:href=\"#DejaVuSans-117\"/>\n       <use x=\"439.814453\" xlink:href=\"#DejaVuSans-115\"/>\n       <use x=\"491.914062\" xlink:href=\"#DejaVuSans-101\"/>\n       <use x=\"553.4375\" xlink:href=\"#DejaVuSans-45\"/>\n       <use x=\"589.521484\" xlink:href=\"#DejaVuSans-115\"/>\n       <use x=\"641.621094\" xlink:href=\"#DejaVuSans-101\"/>\n       <use x=\"703.144531\" xlink:href=\"#DejaVuSans-114\"/>\n       <use x=\"744.257812\" xlink:href=\"#DejaVuSans-118\"/>\n      </g>\n     </g>\n    </g>\n    <g id=\"text_22\">\n     <!-- occupation -->\n     <g style=\"fill:#555555;\" transform=\"translate(16.318125 148.970625)rotate(-90)scale(0.12 -0.12)\">\n      <use xlink:href=\"#DejaVuSans-111\"/>\n      <use x=\"61.181641\" xlink:href=\"#DejaVuSans-99\"/>\n      <use x=\"116.162109\" xlink:href=\"#DejaVuSans-99\"/>\n      <use x=\"171.142578\" xlink:href=\"#DejaVuSans-117\"/>\n      <use x=\"234.521484\" xlink:href=\"#DejaVuSans-112\"/>\n      <use x=\"297.998047\" xlink:href=\"#DejaVuSans-97\"/>\n      <use x=\"359.277344\" xlink:href=\"#DejaVuSans-116\"/>\n      <use x=\"398.486328\" xlink:href=\"#DejaVuSans-105\"/>\n      <use x=\"426.269531\" xlink:href=\"#DejaVuSans-111\"/>\n      <use x=\"487.451172\" xlink:href=\"#DejaVuSans-110\"/>\n     </g>\n    </g>\n   </g>\n   <g id=\"patch_3\">\n    <path clip-path=\"url(#pd6250d433d)\" d=\"M 124.815313 221.016 \nL 443.672455 221.016 \nL 443.672455 213.768 \nL 124.815313 213.768 \nz\n\" style=\"fill:#e24a33;\"/>\n   </g>\n   <g id=\"patch_4\">\n    <path clip-path=\"url(#pd6250d433d)\" d=\"M 124.815313 206.52 \nL 420.628465 206.52 \nL 420.628465 199.272 \nL 124.815313 199.272 \nz\n\" style=\"fill:#e24a33;\"/>\n   </g>\n   <g id=\"patch_5\">\n    <path clip-path=\"url(#pd6250d433d)\" d=\"M 124.815313 192.024 \nL 338.993968 192.024 \nL 338.993968 184.776 \nL 124.815313 184.776 \nz\n\" style=\"fill:#e24a33;\"/>\n   </g>\n   <g id=\"patch_6\">\n    <path clip-path=\"url(#pd6250d433d)\" d=\"M 124.815313 177.528 \nL 325.713903 177.528 \nL 325.713903 170.28 \nL 124.815313 170.28 \nz\n\" style=\"fill:#e24a33;\"/>\n   </g>\n   <g id=\"patch_7\">\n    <path clip-path=\"url(#pd6250d433d)\" d=\"M 124.815313 163.032 \nL 302.233886 163.032 \nL 302.233886 155.784 \nL 124.815313 155.784 \nz\n\" style=\"fill:#e24a33;\"/>\n   </g>\n   <g id=\"patch_8\">\n    <path clip-path=\"url(#pd6250d433d)\" d=\"M 124.815313 148.536 \nL 274.120957 148.536 \nL 274.120957 141.288 \nL 124.815313 141.288 \nz\n\" style=\"fill:#e24a33;\"/>\n   </g>\n   <g id=\"patch_9\">\n    <path clip-path=\"url(#pd6250d433d)\" d=\"M 124.815313 134.04 \nL 256.818219 134.04 \nL 256.818219 126.792 \nL 124.815313 126.792 \nz\n\" style=\"fill:#e24a33;\"/>\n   </g>\n   <g id=\"patch_10\">\n    <path clip-path=\"url(#pd6250d433d)\" d=\"M 124.815313 119.544 \nL 213.409461 119.544 \nL 213.409461 112.296 \nL 124.815313 112.296 \nz\n\" style=\"fill:#e24a33;\"/>\n   </g>\n   <g id=\"patch_11\">\n    <path clip-path=\"url(#pd6250d433d)\" d=\"M 124.815313 105.048 \nL 207.080173 105.048 \nL 207.080173 97.8 \nL 124.815313 97.8 \nz\n\" style=\"fill:#e24a33;\"/>\n   </g>\n   <g id=\"patch_12\">\n    <path clip-path=\"url(#pd6250d433d)\" d=\"M 124.815313 90.552 \nL 201.031968 90.552 \nL 201.031968 83.304 \nL 124.815313 83.304 \nz\n\" style=\"fill:#e24a33;\"/>\n   </g>\n   <g id=\"patch_13\">\n    <path clip-path=\"url(#pd6250d433d)\" d=\"M 124.815313 76.056 \nL 198.012757 76.056 \nL 198.012757 68.808 \nL 124.815313 68.808 \nz\n\" style=\"fill:#e24a33;\"/>\n   </g>\n   <g id=\"patch_14\">\n    <path clip-path=\"url(#pd6250d433d)\" d=\"M 124.815313 61.56 \nL 193.087916 61.56 \nL 193.087916 54.312 \nL 124.815313 54.312 \nz\n\" style=\"fill:#e24a33;\"/>\n   </g>\n   <g id=\"patch_15\">\n    <path clip-path=\"url(#pd6250d433d)\" d=\"M 124.815313 47.064 \nL 166.169197 47.064 \nL 166.169197 39.816 \nL 124.815313 39.816 \nz\n\" style=\"fill:#e24a33;\"/>\n   </g>\n   <g id=\"patch_16\">\n    <path clip-path=\"url(#pd6250d433d)\" d=\"M 124.815313 32.568 \nL 152.206041 32.568 \nL 152.206041 25.32 \nL 124.815313 25.32 \nz\n\" style=\"fill:#e24a33;\"/>\n   </g>\n   <g id=\"patch_17\">\n    <path clip-path=\"url(#pd6250d433d)\" d=\"M 124.815313 18.072 \nL 129.236635 18.072 \nL 129.236635 10.824 \nL 124.815313 10.824 \nz\n\" style=\"fill:#e24a33;\"/>\n   </g>\n   <g id=\"patch_18\">\n    <path d=\"M 124.815313 224.64 \nL 124.815313 7.2 \n\" style=\"fill:none;stroke:#ffffff;stroke-linecap:square;stroke-linejoin:miter;\"/>\n   </g>\n   <g id=\"patch_19\">\n    <path d=\"M 459.615313 224.64 \nL 459.615313 7.2 \n\" style=\"fill:none;stroke:#ffffff;stroke-linecap:square;stroke-linejoin:miter;\"/>\n   </g>\n   <g id=\"patch_20\">\n    <path d=\"M 124.815313 224.64 \nL 459.615313 224.64 \n\" style=\"fill:none;stroke:#ffffff;stroke-linecap:square;stroke-linejoin:miter;\"/>\n   </g>\n   <g id=\"patch_21\">\n    <path d=\"M 124.815313 7.2 \nL 459.615313 7.2 \n\" style=\"fill:none;stroke:#ffffff;stroke-linecap:square;stroke-linejoin:miter;\"/>\n   </g>\n   <g id=\"legend_1\">\n    <g id=\"patch_22\">\n     <path d=\"M 376.42625 30.15625 \nL 452.615312 30.15625 \nQ 454.615312 30.15625 454.615312 28.15625 \nL 454.615312 14.2 \nQ 454.615312 12.2 452.615312 12.2 \nL 376.42625 12.2 \nQ 374.42625 12.2 374.42625 14.2 \nL 374.42625 28.15625 \nQ 374.42625 30.15625 376.42625 30.15625 \nz\n\" style=\"fill:#e5e5e5;opacity:0.8;stroke:#cccccc;stroke-linejoin:miter;stroke-width:0.5;\"/>\n    </g>\n    <g id=\"patch_23\">\n     <path d=\"M 378.42625 23.798437 \nL 398.42625 23.798437 \nL 398.42625 16.798437 \nL 378.42625 16.798437 \nz\n\" style=\"fill:#e24a33;\"/>\n    </g>\n    <g id=\"text_23\">\n     <!-- plus_50k -->\n     <g transform=\"translate(406.42625 23.798437)scale(0.1 -0.1)\">\n      <defs>\n       <path d=\"M 50.984375 -16.609375 \nL 50.984375 -23.578125 \nL -0.984375 -23.578125 \nL -0.984375 -16.609375 \nz\n\" id=\"DejaVuSans-95\"/>\n       <path d=\"M 9.078125 75.984375 \nL 18.109375 75.984375 \nL 18.109375 31.109375 \nL 44.921875 54.6875 \nL 56.390625 54.6875 \nL 27.390625 29.109375 \nL 57.625 0 \nL 45.90625 0 \nL 18.109375 26.703125 \nL 18.109375 0 \nL 9.078125 0 \nz\n\" id=\"DejaVuSans-107\"/>\n      </defs>\n      <use xlink:href=\"#DejaVuSans-112\"/>\n      <use x=\"63.476562\" xlink:href=\"#DejaVuSans-108\"/>\n      <use x=\"91.259766\" xlink:href=\"#DejaVuSans-117\"/>\n      <use x=\"154.638672\" xlink:href=\"#DejaVuSans-115\"/>\n      <use x=\"206.738281\" xlink:href=\"#DejaVuSans-95\"/>\n      <use x=\"256.738281\" xlink:href=\"#DejaVuSans-53\"/>\n      <use x=\"320.361328\" xlink:href=\"#DejaVuSans-48\"/>\n      <use x=\"383.984375\" xlink:href=\"#DejaVuSans-107\"/>\n     </g>\n    </g>\n   </g>\n  </g>\n </g>\n <defs>\n  <clipPath id=\"pd6250d433d\">\n   <rect height=\"217.44\" width=\"334.8\" x=\"124.815313\" y=\"7.2\"/>\n  </clipPath>\n </defs>\n</svg>\n",
      "image/png": "[encoded data removed]"
     },
     "metadata": {}
    }
   ],
   "source": [
    "import matplotlib.pyplot as plt\n",
    "\n",
    "# i like ggplot style\n",
    "plt.style.use('ggplot')\n",
    "\n",
    "# get simple plot on the pandas data\n",
    "myplot = df_pandas.plot(kind='barh', x='occupation', y='plus_50k')\n",
    "\n",
    "# display the plot (note - display() is a databricks function - \n",
    "# more info on plotting in Databricks is here: https://docs.databricks.com/user-guide/visualizations/matplotlib-and-ggplot.html)\n",
    "display(myplot.figure)"
   ]
  },
  {
   "cell_type": "markdown",
   "metadata": {},
   "source": [
    "You can also easily get summary stats on a Spark DataFrame like below. [Here](https://databricks.com/blog/2015/06/02/statistical-and-mathematical-functions-with-dataframes-in-spark.html) is a nice blog post that has more examples.<br><br>So this is an example of why you might want to move from Spark SQL into DataFrames API as being able to just call describe() on the Spark DF is easier then trying to do the equivilant in Spark SQL."
   ]
  },
  {
   "cell_type": "code",
   "execution_count": 41,
   "metadata": {
    "tags": []
   },
   "outputs": [
    {
     "output_type": "stream",
     "name": "stdout",
     "text": "+-------+------------------+-----------------+\n|summary|               age|    education_num|\n+-------+------------------+-----------------+\n|  count|             32561|            32561|\n|   mean| 38.58164675532078| 10.0806793403151|\n| stddev|13.640432553581356|2.572720332067397|\n|    min|              17.0|              1.0|\n|    max|              90.0|             16.0|\n+-------+------------------+-----------------+\n\n"
    }
   ],
   "source": [
    "# describe df\n",
    "df_adult.select(df_adult['age'],df_adult['education_num']).describe().show()"
   ]
  },
  {
   "cell_type": "markdown",
   "metadata": {},
   "source": [
    "### ML Pipeline - Logistic Regression vs Random Forest\n",
    "\n",
    "Below we will create two [Spark ML Pipelines](https://spark.apache.org/docs/latest/ml-pipeline.html) - one that fits a logistic regression and one that fits a random forest. We will then compare the performance of each.\n",
    "\n",
    "**Note**: A lot of the code below is adapted from [this example](https://docs.databricks.com/spark/latest/mllib/binary-classification-mllib-pipelines.html)."
   ]
  },
  {
   "cell_type": "code",
   "execution_count": 44,
   "metadata": {},
   "outputs": [],
   "source": [
    "from pyspark.ml import Pipeline\n",
    "from pyspark.ml.feature import OneHotEncoder, StringIndexer, VectorAssembler\n",
    "\n",
    "categoricalColumns = [\"workclass\", \"education\", \"marital_status\", \"occupation\", \"relationship\", \"race\", \"sex\", \"native_country\"]\n",
    "stages = [] # stages in our Pipeline\n",
    "\n",
    "for categoricalCol in categoricalColumns:\n",
    "    # Category Indexing with StringIndexer\n",
    "    stringIndexer = StringIndexer(inputCol=categoricalCol, outputCol=categoricalCol + \"Index\")\n",
    "    # Use OneHotEncoder to convert categorical variables into binary SparseVectors\n",
    "    # encoder = OneHotEncoderEstimator(inputCol=categoricalCol + \"Index\", outputCol=categoricalCol + \"classVec\")\n",
    "    encoder = OneHotEncoder(inputCols=[stringIndexer.getOutputCol()], outputCols=[categoricalCol + \"classVec\"])\n",
    "    # Add stages.  These are not run here, but will run all at once later on.\n",
    "    stages += [stringIndexer, encoder]"
   ]
  },
  {
   "cell_type": "code",
   "execution_count": 46,
   "metadata": {},
   "outputs": [],
   "source": [
    "# Convert label into label indices using the StringIndexer\n",
    "label_stringIdx = StringIndexer(inputCol=\"income\", outputCol=\"label\")\n",
    "stages += [label_stringIdx]"
   ]
  },
  {
   "cell_type": "code",
   "execution_count": 48,
   "metadata": {},
   "outputs": [],
   "source": [
    "# Transform all features into a vector using VectorAssembler\n",
    "numericCols = [\"age\", \"fnlwgt\", \"education_num\", \"capital_gain\", \"capital_loss\", \"hours_per_week\"]\n",
    "assemblerInputs = [c + \"classVec\" for c in categoricalColumns] + numericCols\n",
    "assembler = VectorAssembler(inputCols=assemblerInputs, outputCol=\"features\")\n",
    "stages += [assembler]"
   ]
  },
  {
   "cell_type": "code",
   "execution_count": 50,
   "metadata": {},
   "outputs": [
    {
     "output_type": "display_data",
     "data": {
      "text/plain": "DataFrame[label: double, features: vector, age: double, workclass: string, fnlwgt: double, education: string, education_num: double, marital_status: string, occupation: string, relationship: string, race: string, sex: string, capital_gain: double, capital_loss: double, hours_per_week: double, native_country: string, income: string]"
     },
     "metadata": {}
    }
   ],
   "source": [
    "# Create a Pipeline.\n",
    "pipeline = Pipeline(stages=stages)\n",
    "# Run the feature transformations.\n",
    "#  - fit() computes feature statistics as needed.\n",
    "#  - transform() actually transforms the features.\n",
    "pipelineModel = pipeline.fit(df_adult)\n",
    "dataset = pipelineModel.transform(df_adult)\n",
    "# Keep relevant columns\n",
    "selectedcols = [\"label\", \"features\"] + cols\n",
    "dataset = dataset.select(selectedcols)\n",
    "display(dataset)"
   ]
  },
  {
   "cell_type": "code",
   "execution_count": 51,
   "metadata": {
    "tags": []
   },
   "outputs": [
    {
     "output_type": "stream",
     "name": "stdout",
     "text": "22832\n9729\n"
    }
   ],
   "source": [
    "### Randomly split data into training and test sets. set seed for reproducibility\n",
    "(trainingData, testData) = dataset.randomSplit([0.7, 0.3], seed=100)\n",
    "print(trainingData.count())\n",
    "print(testData.count())"
   ]
  },
  {
   "cell_type": "code",
   "execution_count": 52,
   "metadata": {
    "tags": []
   },
   "outputs": [
    {
     "output_type": "stream",
     "name": "stdout",
     "text": "Positive rate in the training data is 0.23988262088297127\n"
    }
   ],
   "source": [
    "from pyspark.sql.functions import avg\n",
    "\n",
    "# get the rate of the positive outcome from the training data to use as a threshold in the model\n",
    "training_data_positive_rate = trainingData.select(avg(trainingData['label'])).collect()[0][0] \n",
    "\n",
    "print(\"Positive rate in the training data is {}\".format(training_data_positive_rate))"
   ]
  },
  {
   "cell_type": "markdown",
   "metadata": {},
   "source": [
    "#### Logistic Regression - Train"
   ]
  },
  {
   "cell_type": "code",
   "execution_count": 53,
   "metadata": {
    "tags": []
   },
   "outputs": [
    {
     "output_type": "stream",
     "name": "stdout",
     "text": "Best threshold based on model performance on training data is 0.33643403980086295\n"
    }
   ],
   "source": [
    "from pyspark.ml.classification import LogisticRegression\n",
    "\n",
    "# Create initial LogisticRegression model\n",
    "lr = LogisticRegression(labelCol=\"label\", featuresCol=\"features\", maxIter=10)\n",
    "\n",
    "# set threshold for the probability above which to predict a 1\n",
    "lr.setThreshold(training_data_positive_rate)\n",
    "# lr.setThreshold(0.5) # could use this if knew you had balanced data\n",
    "\n",
    "# Train model with Training Data\n",
    "lrModel = lr.fit(trainingData)\n",
    "\n",
    "# get training summary used for eval metrics and other params\n",
    "lrTrainingSummary = lrModel.summary\n",
    "\n",
    "# Find the best model threshold if you would like to use that instead of the empirical positve rate\n",
    "fMeasure = lrTrainingSummary.fMeasureByThreshold\n",
    "maxFMeasure = fMeasure.groupBy().max('F-Measure').select('max(F-Measure)').head()\n",
    "lrBestThreshold = fMeasure.where(fMeasure['F-Measure'] == maxFMeasure['max(F-Measure)']) \\\n",
    "    .select('threshold').head()['threshold']\n",
    "  \n",
    "print(\"Best threshold based on model performance on training data is {}\".format(lrBestThreshold))"
   ]
  },
  {
   "cell_type": "markdown",
   "metadata": {},
   "source": [
    "#### GBM - Train"
   ]
  },
  {
   "cell_type": "markdown",
   "metadata": {},
   "source": [
    "#### <span style=\"color:darkblue\">Question 3</span>\n",
    "1. Train a GBTClassifier on the training data, call the trained model 'gbModel'"
   ]
  },
  {
   "cell_type": "code",
   "execution_count": 104,
   "metadata": {
    "tags": []
   },
   "outputs": [],
   "source": [
    "### Question 3.1 Answer ###\n",
    "from pyspark.ml.classification import GBTClassifier\n",
    "\n",
    "# Create initial GBT model\n",
    "gb = GBTClassifier(labelCol=\"label\", featuresCol=\"features\", maxIter=10)\n",
    "gbModel = gb.fit(trainingData)"
   ]
  },
  {
   "cell_type": "code",
   "execution_count": 62,
   "metadata": {},
   "outputs": [
    {
     "output_type": "execute_result",
     "data": {
      "text/plain": "SparseVector(100, {0: 0.0, 1: 0.0205, 2: 0.0014, 5: 0.0014, 6: 0.0038, 10: 0.0126, 11: 0.0013, 12: 0.0003, 14: 0.0008, 15: 0.0007, 16: 0.0008, 17: 0.002, 23: 0.2699, 29: 0.0169, 31: 0.0634, 33: 0.0034, 34: 0.019, 37: 0.0008, 39: 0.0141, 40: 0.0154, 43: 0.0005, 44: 0.001, 45: 0.001, 47: 0.0095, 48: 0.0015, 49: 0.0005, 52: 0.0134, 54: 0.0002, 55: 0.001, 61: 0.0006, 67: 0.0008, 71: 0.0017, 72: 0.0007, 76: 0.0002, 89: 0.0006, 94: 0.1714, 95: 0.007, 96: 0.1423, 97: 0.0987, 98: 0.029, 99: 0.0699})"
     },
     "metadata": {},
     "execution_count": 62
    }
   ],
   "source": [
    "gbModel.featureImportances"
   ]
  },
  {
   "cell_type": "markdown",
   "metadata": {},
   "source": [
    "#### Logistic Regression - Predict"
   ]
  },
  {
   "cell_type": "code",
   "execution_count": 67,
   "metadata": {
    "tags": []
   },
   "outputs": [
    {
     "output_type": "stream",
     "name": "stdout",
     "text": "+-----+----------+--------------------+\n|label|prediction|         probability|\n+-----+----------+--------------------+\n|  0.0|       1.0|[0.16646708724834...|\n|  0.0|       1.0|[0.70012031106346...|\n|  0.0|       1.0|[0.53453682932966...|\n|  0.0|       1.0|[0.67559303222185...|\n|  0.0|       1.0|[0.62237992652147...|\n+-----+----------+--------------------+\nonly showing top 5 rows\n\n"
    },
    {
     "output_type": "display_data",
     "data": {
      "text/plain": "None"
     },
     "metadata": {}
    }
   ],
   "source": [
    "# make predictions on test data\n",
    "lrPredictions = lrModel.transform(testData)\n",
    "\n",
    "# display predictions\n",
    "display(lrPredictions.select(\"label\", \"prediction\", \"probability\").show(5))\n",
    "#display(lrPredictions)"
   ]
  },
  {
   "cell_type": "markdown",
   "metadata": {},
   "source": [
    "### GBM - Predict"
   ]
  },
  {
   "cell_type": "markdown",
   "metadata": {},
   "source": [
    "#### <span style=\"color:darkblue\">Question 4</span>\n",
    "1. Get predictions on the test data for your GBTClassifier. Call the predictions df 'gbPredictions'."
   ]
  },
  {
   "cell_type": "code",
   "execution_count": 68,
   "metadata": {
    "tags": []
   },
   "outputs": [
    {
     "output_type": "stream",
     "name": "stdout",
     "text": "+-----+--------------------+----+---------+--------+---------+-------------+-------------------+---------------+------------+------+-----+------------+------------+--------------+--------------+------+--------------------+--------------------+----------+\n|label|            features| age|workclass|  fnlwgt|education|education_num|     marital_status|     occupation|relationship|  race|  sex|capital_gain|capital_loss|hours_per_week|native_country|income|       rawPrediction|         probability|prediction|\n+-----+--------------------+----+---------+--------+---------+-------------+-------------------+---------------+------------+------+-----+------------+------------+--------------+--------------+------+--------------------+--------------------+----------+\n|  0.0|(100,[0,8,23,29,4...|36.0|  Private|370767.0|  HS-grad|          9.0| Married-civ-spouse| Prof-specialty|     Husband| White| Male|         0.0|      2377.0|          60.0| United-States| <=50K|[-0.5128461723571...|[0.26392008486317...|       1.0|\n|  0.0|(100,[0,8,23,29,4...|32.0|  Private|131224.0|  HS-grad|          9.0| Married-civ-spouse| Prof-specialty|     Husband| White| Male|         0.0|         0.0|          40.0| United-States| <=50K|[0.47855223042991...|[0.72254169556955...|       0.0|\n|  0.0|(100,[0,8,23,29,4...|33.0|  Private|279173.0|  HS-grad|          9.0| Married-civ-spouse| Prof-specialty|     Husband| White| Male|         0.0|         0.0|          60.0| United-States| <=50K|[0.42910971094775...|[0.70228850635635...|       0.0|\n|  0.0|(100,[0,8,23,29,4...|39.0|  Private| 50700.0|  HS-grad|          9.0| Married-civ-spouse| Prof-specialty|     Husband| White| Male|         0.0|         0.0|          40.0| United-States| <=50K|[0.28122550520123...|[0.63701946690412...|       0.0|\n|  0.0|(100,[0,8,23,29,4...|39.0|  Private|181705.0|  HS-grad|          9.0| Married-civ-spouse| Prof-specialty|     Husband| White| Male|         0.0|         0.0|          45.0| United-States| <=50K|[0.28190814336349...|[0.63733509473776...|       0.0|\n+-----+--------------------+----+---------+--------+---------+-------------+-------------------+---------------+------------+------+-----+------------+------------+--------------+--------------+------+--------------------+--------------------+----------+\nonly showing top 5 rows\n\n"
    },
    {
     "output_type": "display_data",
     "data": {
      "text/plain": "None"
     },
     "metadata": {}
    }
   ],
   "source": [
    "### Question 4.1 Answer ###\n",
    "\n",
    "# make predictions on test data\n",
    "gbPredictions = gbModel.transform(testData)\n",
    "\n",
    "display(gbPredictions.show(5))"
   ]
  },
  {
   "cell_type": "markdown",
   "metadata": {},
   "source": [
    "#### Logistic Regression - Evaluate"
   ]
  },
  {
   "cell_type": "markdown",
   "metadata": {},
   "source": [
    "#### <span style=\"color:darkblue\">Question 5</span>\n",
    "\n",
    "1. Complete the print_performance_metrics() function below to also include measures of F1, Precision, Recall, False Positive Rate and True Positive Rate."
   ]
  },
  {
   "cell_type": "code",
   "execution_count": 100,
   "metadata": {
    "tags": []
   },
   "outputs": [
    {
     "output_type": "stream",
     "name": "stdout",
     "text": "auc = 0.9010633018702178\naupr = 0.7604961593583991\nArea under PR = 0.5469752720761771\nArea under ROC = 0.818047959721691\nAccuracy = 0.8095384931647651\nDenseMatrix([[5903., 1462.],\n             [ 391., 1973.]])\nF1 = <bound method MulticlassMetrics.fMeasure of <pyspark.mllib.evaluation.MulticlassMetrics object at 0x7f0f051c2550>>\nPrecision = <bound method MulticlassMetrics.precision of <pyspark.mllib.evaluation.MulticlassMetrics object at 0x7f0f051c2550>>\nRecall = <bound method MulticlassMetrics.recall of <pyspark.mllib.evaluation.MulticlassMetrics object at 0x7f0f051c2550>>\nFPR = <bound method MulticlassMetrics.falsePositiveRate of <pyspark.mllib.evaluation.MulticlassMetrics object at 0x7f0f051c2550>>\nTPR = <bound method MulticlassMetrics.truePositiveRate of <pyspark.mllib.evaluation.MulticlassMetrics object at 0x7f0f051c2550>>\n"
    }
   ],
   "source": [
    "from pyspark.ml.evaluation import BinaryClassificationEvaluator\n",
    "from pyspark.mllib.evaluation import BinaryClassificationMetrics, MulticlassMetrics\n",
    "\n",
    "def print_performance_metrics(predictions):\n",
    "  # Evaluate model\n",
    "  evaluator = BinaryClassificationEvaluator(rawPredictionCol=\"rawPrediction\")\n",
    "  auc = evaluator.evaluate(predictions, {evaluator.metricName: \"areaUnderROC\"})\n",
    "  aupr = evaluator.evaluate(predictions, {evaluator.metricName: \"areaUnderPR\"})\n",
    "  print(\"auc = {}\".format(auc))\n",
    "  print(\"aupr = {}\".format(aupr))\n",
    "\n",
    "  # get rdd of predictions and labels for mllib eval metrics\n",
    "  predictionAndLabels = predictions.select(\"prediction\",\"label\").rdd\n",
    "\n",
    "  # Instantiate metrics objects\n",
    "  binary_metrics = BinaryClassificationMetrics(predictionAndLabels)\n",
    "  multi_metrics = MulticlassMetrics(predictionAndLabels)\n",
    "\n",
    "  # Area under precision-recall curve\n",
    "  print(\"Area under PR = {}\".format(binary_metrics.areaUnderPR))\n",
    "  # Area under ROC curve\n",
    "  print(\"Area under ROC = {}\".format(binary_metrics.areaUnderROC))\n",
    "  # Accuracy\n",
    "  print(\"Accuracy = {}\".format(multi_metrics.accuracy))\n",
    "  # Confusion Matrix\n",
    "  print(multi_metrics.confusionMatrix())\n",
    "  \n",
    "  ### Question 5.1 Answer ###\n",
    "  \n",
    "  labels = predictions.select(\"label\").rdd\n",
    "  # F1\n",
    "  print(\"F1 = {}\".format(multi_metrics.fMeasure))\n",
    "  # Precision\n",
    "  print(\"Precision = {}\".format(multi_metrics.precision))\n",
    "  # Recall\n",
    "  print(\"Recall = {}\".format(multi_metrics.recall))\n",
    "  # FPR\n",
    "  print(\"FPR = {}\".format(multi_metrics.falsePositiveRate))\n",
    "  # TPR\n",
    "  print(\"TPR = {}\".format(multi_metrics.truePositiveRate))\n",
    "  \n",
    "  \n",
    "print_performance_metrics(lrPredictions)"
   ]
  },
  {
   "cell_type": "markdown",
   "metadata": {},
   "source": [
    "#### GBM - Evaluate"
   ]
  },
  {
   "cell_type": "code",
   "execution_count": 96,
   "metadata": {
    "tags": []
   },
   "outputs": [
    {
     "output_type": "stream",
     "name": "stdout",
     "text": "auc = 0.9035356668194444\naupr = 0.7705854626222547\nArea under PR = 0.6403484093263857\nArea under ROC = 0.7418879078919709\nAccuracy = 0.8464384828862165\nDenseMatrix([[6962.,  403.],\n             [1091., 1273.]])\nF1 = <bound method MulticlassMetrics.fMeasure of <pyspark.mllib.evaluation.MulticlassMetrics object at 0x7f0f05754eb8>>\nPrecision = <bound method MulticlassMetrics.precision of <pyspark.mllib.evaluation.MulticlassMetrics object at 0x7f0f05754eb8>>\nRecall = <bound method MulticlassMetrics.recall of <pyspark.mllib.evaluation.MulticlassMetrics object at 0x7f0f05754eb8>>\nFPR = <bound method MulticlassMetrics.falsePositiveRate of <pyspark.mllib.evaluation.MulticlassMetrics object at 0x7f0f05754eb8>>\nTPR = <bound method MulticlassMetrics.truePositiveRate of <pyspark.mllib.evaluation.MulticlassMetrics object at 0x7f0f05754eb8>>\n"
    }
   ],
   "source": [
    "print_performance_metrics(gbPredictions)"
   ]
  },
  {
   "cell_type": "markdown",
   "metadata": {},
   "source": [
    "## Cross Validation"
   ]
  },
  {
   "cell_type": "markdown",
   "metadata": {},
   "source": [
    "For each model you can run the below comand to see its params and a brief explanation of each."
   ]
  },
  {
   "cell_type": "code",
   "execution_count": 97,
   "metadata": {
    "tags": []
   },
   "outputs": [
    {
     "output_type": "stream",
     "name": "stdout",
     "text": "aggregationDepth: suggested depth for treeAggregate (>= 2). (default: 2)\nelasticNetParam: the ElasticNet mixing parameter, in range [0, 1]. For alpha = 0, the penalty is an L2 penalty. For alpha = 1, it is an L1 penalty. (default: 0.0)\nfamily: The name of family which is a description of the label distribution to be used in the model. Supported options: auto, binomial, multinomial (default: auto)\nfeaturesCol: features column name. (default: features, current: features)\nfitIntercept: whether to fit an intercept term. (default: True)\nlabelCol: label column name. (default: label, current: label)\nlowerBoundsOnCoefficients: The lower bounds on coefficients if fitting under bound constrained optimization. The bound matrix must be compatible with the shape (1, number of features) for binomial regression, or (number of classes, number of features) for multinomial regression. (undefined)\nlowerBoundsOnIntercepts: The lower bounds on intercepts if fitting under bound constrained optimization. The bounds vector size must beequal with 1 for binomial regression, or the number oflasses for multinomial regression. (undefined)\nmaxBlockSizeInMB: maximum memory in MB for stacking input data into blocks. Data is stacked within partitions. If more than remaining data size in a partition then it is adjusted to the data size. Default 0.0 represents choosing optimal value, depends on specific algorithm. Must be >= 0. (default: 0.0)\nmaxIter: max number of iterations (>= 0). (default: 100, current: 10)\npredictionCol: prediction column name. (default: prediction)\nprobabilityCol: Column name for predicted class conditional probabilities. Note: Not all models output well-calibrated probability estimates! These probabilities should be treated as confidences, not precise probabilities. (default: probability)\nrawPredictionCol: raw prediction (a.k.a. confidence) column name. (default: rawPrediction)\nregParam: regularization parameter (>= 0). (default: 0.0)\nstandardization: whether to standardize the training features before fitting the model. (default: True)\nthreshold: Threshold in binary classification prediction, in range [0, 1]. If threshold and thresholds are both set, they must match.e.g. if threshold is p, then thresholds must be equal to [1-p, p]. (default: 0.5, current: 0.23988262088297127)\nthresholds: Thresholds in multi-class classification to adjust the probability of predicting each class. Array must have length equal to the number of classes, with values > 0, excepting that at most one value may be 0. The class with largest value p/t is predicted, where p is the original probability of that class and t is the class's threshold. (undefined)\ntol: the convergence tolerance for iterative algorithms (>= 0). (default: 1e-06)\nupperBoundsOnCoefficients: The upper bounds on coefficients if fitting under bound constrained optimization. The bound matrix must be compatible with the shape (1, number of features) for binomial regression, or (number of classes, number of features) for multinomial regression. (undefined)\nupperBoundsOnIntercepts: The upper bounds on intercepts if fitting under bound constrained optimization. The bound vector size must be equal with 1 for binomial regression, or the number of classes for multinomial regression. (undefined)\nweightCol: weight column name. If this is not set or empty, we treat all instance weights as 1.0. (undefined)\n"
    }
   ],
   "source": [
    "print(lr.explainParams())"
   ]
  },
  {
   "cell_type": "code",
   "execution_count": 59,
   "metadata": {},
   "outputs": [
    {
     "data": {
      "text/html": [
       "<style scoped>\n",
       "  .ansiout {\n",
       "    display: block;\n",
       "    unicode-bidi: embed;\n",
       "    white-space: pre-wrap;\n",
       "    word-wrap: break-word;\n",
       "    word-break: break-all;\n",
       "    font-family: \"Source Code Pro\", \"Menlo\", monospace;;\n",
       "    font-size: 13px;\n",
       "    color: #555;\n",
       "    margin-left: 4px;\n",
       "    line-height: 19px;\n",
       "  }\n",
       "</style>\n",
       "<div class=\"ansiout\">cacheNodeIds: If false, the algorithm will pass trees to executors to match instances with nodes. If true, the algorithm will cache node IDs for each instance. Caching can speed up training of deeper trees. Users can set how often should the cache be checkpointed or disable it by setting checkpointInterval. (default: False)\n",
       "checkpointInterval: set checkpoint interval (&gt;= 1) or disable checkpoint (-1). E.g. 10 means that the cache will get checkpointed every 10 iterations. Note: this setting will be ignored if the checkpoint directory is not set in the SparkContext. (default: 10)\n",
       "featuresCol: features column name. (default: features, current: features)\n",
       "labelCol: label column name. (default: label, current: label)\n",
       "lossType: Loss function which GBT tries to minimize (case-insensitive). Supported options: logistic (default: logistic)\n",
       "maxBins: Max number of bins for discretizing continuous features.  Must be &gt;=2 and &gt;= number of categories for any categorical feature. (default: 32)\n",
       "maxDepth: Maximum depth of the tree. (&gt;= 0) E.g., depth 0 means 1 leaf node; depth 1 means 1 internal node + 2 leaf nodes. (default: 5)\n",
       "maxIter: max number of iterations (&gt;= 0). (default: 20, current: 10)\n",
       "maxMemoryInMB: Maximum memory in MB allocated to histogram aggregation. If too small, then 1 node will be split per iteration, and its aggregates may exceed this size. (default: 256)\n",
       "minInfoGain: Minimum information gain for a split to be considered at a tree node. (default: 0.0)\n",
       "minInstancesPerNode: Minimum number of instances each child must have after split. If a split causes the left or right child to have fewer than minInstancesPerNode, the split will be discarded as invalid. Should be &gt;= 1. (default: 1)\n",
       "predictionCol: prediction column name. (default: prediction)\n",
       "seed: random seed. (default: 4524766999323601864)\n",
       "stepSize: Step size (a.k.a. learning rate) in interval (0, 1] for shrinking the contribution of each estimator. (default: 0.1)\n",
       "subsamplingRate: Fraction of the training data used for learning each decision tree, in range (0, 1]. (default: 1.0)\n",
       "</div>"
      ]
     },
     "metadata": {},
     "output_type": "display_data"
    }
   ],
   "source": [
    "print(gb.explainParams())"
   ]
  },
  {
   "cell_type": "markdown",
   "metadata": {},
   "source": [
    "#### Logisitic Regression - Param Grid"
   ]
  },
  {
   "cell_type": "code",
   "execution_count": 105,
   "metadata": {},
   "outputs": [],
   "source": [
    "from pyspark.ml.tuning import ParamGridBuilder, CrossValidator\n",
    "\n",
    "# Create ParamGrid for Cross Validation\n",
    "lrParamGrid = (ParamGridBuilder()\n",
    "             .addGrid(lr.regParam, [0.01, 0.5, 2.0])\n",
    "             .addGrid(lr.elasticNetParam, [0.0, 0.5, 1.0])\n",
    "             .addGrid(lr.maxIter, [2, 5])\n",
    "             .build())"
   ]
  },
  {
   "cell_type": "markdown",
   "metadata": {},
   "source": [
    "#### GBM - Param Grid"
   ]
  },
  {
   "cell_type": "markdown",
   "metadata": {},
   "source": [
    "#### <span style=\"color:darkblue\">Question 6</span>\n",
    "\n",
    "1. Build out a param grid for the gb model, call it 'gbParamGrid'."
   ]
  },
  {
   "cell_type": "code",
   "execution_count": 106,
   "metadata": {},
   "outputs": [],
   "source": [
    "### Question 6.1 Answer ###\n",
    "\n",
    "# Create ParamGrid for Cross Validation\n",
    "gbParamGrid = (ParamGridBuilder()\n",
    "             .addGrid(gb.maxDepth, [3,4,5,6,7,8])\n",
    "             .addGrid(gb.stepSize, [0.1, 0.5, 1.0])\n",
    "             .addGrid(gb.maxIter, [2, 5])\n",
    "             .build())"
   ]
  },
  {
   "cell_type": "markdown",
   "metadata": {},
   "source": [
    "#### Logistic Regression - Perform Cross Validation"
   ]
  },
  {
   "cell_type": "code",
   "execution_count": 107,
   "metadata": {},
   "outputs": [],
   "source": [
    "# set up an evaluator\n",
    "evaluator = BinaryClassificationEvaluator(rawPredictionCol=\"rawPrediction\")\n",
    "\n",
    "# Create CrossValidator\n",
    "lrCv = CrossValidator(estimator=lr, estimatorParamMaps=lrParamGrid, evaluator=evaluator, numFolds=2)\n",
    "\n",
    "# Run cross validations\n",
    "lrCvModel = lrCv.fit(trainingData)\n",
    "# this will likely take a fair amount of time because of the amount of models that we're creating and testing"
   ]
  },
  {
   "cell_type": "code",
   "execution_count": 108,
   "metadata": {
    "tags": []
   },
   "outputs": [
    {
     "output_type": "stream",
     "name": "stdout",
     "text": "0.01\n0.5\n5\n"
    }
   ],
   "source": [
    "# below approach to getting at the best params from the best cv model taken from:\n",
    "# https://stackoverflow.com/a/46353730/1919374\n",
    "\n",
    "# look at best params from the CV\n",
    "print(lrCvModel.bestModel._java_obj.getRegParam())\n",
    "print(lrCvModel.bestModel._java_obj.getElasticNetParam())\n",
    "print(lrCvModel.bestModel._java_obj.getMaxIter())"
   ]
  },
  {
   "cell_type": "markdown",
   "metadata": {},
   "source": [
    "#### GBM - Perform Cross Validation"
   ]
  },
  {
   "cell_type": "markdown",
   "metadata": {},
   "source": [
    "#### <span style=\"color:darkblue\">Question 7</span>\n",
    "1. Perform cross validation of params on your 'gb' model.\n",
    "1. Print out the best params you found."
   ]
  },
  {
   "cell_type": "code",
   "execution_count": 109,
   "metadata": {},
   "outputs": [],
   "source": [
    "### Question 7.1 Answer ###\n",
    "\n",
    "# Create CrossValidator\n",
    "gbCv = CrossValidator(estimator=gb, estimatorParamMaps=gbParamGrid, evaluator=evaluator, numFolds=2)\n",
    "\n",
    "# Run cross validations\n",
    "gbCvModel = gbCv.fit(trainingData)\n",
    "\n",
    "\n",
    "# set up an evaluator\n",
    "evaluator = BinaryClassificationEvaluator(rawPredictionCol=\"rawPrediction\")"
   ]
  },
  {
   "cell_type": "code",
   "execution_count": 114,
   "metadata": {
    "tags": []
   },
   "outputs": [
    {
     "output_type": "stream",
     "name": "stdout",
     "text": "<py4j.java_gateway.JavaMember object at 0x7f0f04cc76a0>\n<py4j.java_gateway.JavaMember object at 0x7f0f04cc7f28>\n<py4j.java_gateway.JavaMember object at 0x7f0f04cc7be0>\n"
    }
   ],
   "source": [
    "### Question 7.2 Answer ###\n",
    "\n",
    "# look at best params from the CV\n",
    "print(gbCvModel.bestModel._java_obj.maxDepth)\n",
    "print(gbCvModel.bestModel._java_obj.stepSize)\n",
    "print(gbCvModel.bestModel._java_obj.maxIter)\n"
   ]
  },
  {
   "cell_type": "markdown",
   "metadata": {},
   "source": [
    "#### Logistic Regression - CV Model Predict"
   ]
  },
  {
   "cell_type": "code",
   "execution_count": 123,
   "metadata": {},
   "outputs": [
    {
     "output_type": "display_data",
     "data": {
      "text/plain": "DataFrame[label: double, features: vector, age: double, workclass: string, fnlwgt: double, education: string, education_num: double, marital_status: string, occupation: string, relationship: string, race: string, sex: string, capital_gain: double, capital_loss: double, hours_per_week: double, native_country: string, income: string, rawPrediction: vector, probability: vector, prediction: double]"
     },
     "metadata": {}
    }
   ],
   "source": [
    "# Use test set to measure the accuracy of our model on new data\n",
    "lrCvPredictions = lrCvModel.transform(testData)\n",
    "\n",
    "display(lrCvPredictions)"
   ]
  },
  {
   "cell_type": "markdown",
   "metadata": {},
   "source": [
    "#### GBM - CV Model Predict"
   ]
  },
  {
   "cell_type": "code",
   "execution_count": 125,
   "metadata": {},
   "outputs": [
    {
     "output_type": "display_data",
     "data": {
      "text/plain": "DataFrame[label: double, features: vector, age: double, workclass: string, fnlwgt: double, education: string, education_num: double, marital_status: string, occupation: string, relationship: string, race: string, sex: string, capital_gain: double, capital_loss: double, hours_per_week: double, native_country: string, income: string, rawPrediction: vector, probability: vector, prediction: double]"
     },
     "metadata": {}
    }
   ],
   "source": [
    "gbCvPredictions = gbCvModel.transform(testData)\n",
    "\n",
    "display(gbCvPredictions)"
   ]
  },
  {
   "cell_type": "markdown",
   "metadata": {},
   "source": [
    "#### Logistic Regression - CV Model Evaluate"
   ]
  },
  {
   "cell_type": "code",
   "execution_count": 126,
   "metadata": {
    "tags": []
   },
   "outputs": [
    {
     "output_type": "stream",
     "name": "stdout",
     "text": "auc = 0.8973480919380222\naupr = 0.7434534492205122\nArea under PR = 0.5263073114774779\nArea under ROC = 0.8170953646172562\nAccuracy = 0.7930928152944804\nDenseMatrix([[5674., 1691.],\n             [ 322., 2042.]])\nF1 = <bound method MulticlassMetrics.fMeasure of <pyspark.mllib.evaluation.MulticlassMetrics object at 0x7f0f05163978>>\nPrecision = <bound method MulticlassMetrics.precision of <pyspark.mllib.evaluation.MulticlassMetrics object at 0x7f0f05163978>>\nRecall = <bound method MulticlassMetrics.recall of <pyspark.mllib.evaluation.MulticlassMetrics object at 0x7f0f05163978>>\nFPR = <bound method MulticlassMetrics.falsePositiveRate of <pyspark.mllib.evaluation.MulticlassMetrics object at 0x7f0f05163978>>\nTPR = <bound method MulticlassMetrics.truePositiveRate of <pyspark.mllib.evaluation.MulticlassMetrics object at 0x7f0f05163978>>\n"
    }
   ],
   "source": [
    "print_performance_metrics(lrCvPredictions)"
   ]
  },
  {
   "cell_type": "markdown",
   "metadata": {},
   "source": [
    "#### GBM - CV Model Evaluate"
   ]
  },
  {
   "cell_type": "code",
   "execution_count": 79,
   "metadata": {},
   "outputs": [
    {
     "data": {
      "text/html": [
       "<style scoped>\n",
       "  .ansiout {\n",
       "    display: block;\n",
       "    unicode-bidi: embed;\n",
       "    white-space: pre-wrap;\n",
       "    word-wrap: break-word;\n",
       "    word-break: break-all;\n",
       "    font-family: \"Source Code Pro\", \"Menlo\", monospace;;\n",
       "    font-size: 13px;\n",
       "    color: #555;\n",
       "    margin-left: 4px;\n",
       "    line-height: 19px;\n",
       "  }\n",
       "</style>\n",
       "<div class=\"ansiout\">auc = 0.8989499756467929\n",
       "aupr = 0.7665167913162426\n",
       "Area under PR = 0.6435054710769732\n",
       "Area under ROC = 0.7508083832335329\n",
       "Accuracy = 0.8484006993726216\n",
       "DenseMatrix([[ 6919.,   429.],\n",
       "             [ 1045.,  1330.]])\n",
       "F1 = 0.8401553392826959\n",
       "Precision = 0.8412623026104288\n",
       "Recall = 0.8484006993726216\n",
       "FPR = 0.34678393290555576\n",
       "TPR = 0.8484006993726216\n",
       "</div>"
      ]
     },
     "metadata": {},
     "output_type": "display_data"
    }
   ],
   "source": [
    "print_performance_metrics(gbCvPredictions)"
   ]
  },
  {
   "cell_type": "markdown",
   "metadata": {},
   "source": [
    "#### Logistic Regression - Model Explore"
   ]
  },
  {
   "cell_type": "code",
   "execution_count": 127,
   "metadata": {
    "tags": []
   },
   "outputs": [
    {
     "output_type": "stream",
     "name": "stdout",
     "text": "Model Intercept:  -6.366757982652404\n"
    }
   ],
   "source": [
    "print('Model Intercept: ', lrCvModel.bestModel.intercept)"
   ]
  },
  {
   "cell_type": "code",
   "execution_count": 128,
   "metadata": {},
   "outputs": [
    {
     "output_type": "display_data",
     "data": {
      "text/plain": "DataFrame[Feature Weight: double]"
     },
     "metadata": {}
    }
   ],
   "source": [
    "lrWeights = lrCvModel.bestModel.coefficients\n",
    "lrWeights = [(float(w),) for w in lrWeights]  # convert numpy type to float, and to tuple\n",
    "lrWeightsDF = sqlContext.createDataFrame(lrWeights, [\"Feature Weight\"])\n",
    "display(lrWeightsDF)"
   ]
  },
  {
   "cell_type": "markdown",
   "metadata": {},
   "source": [
    "### Feature Importance"
   ]
  },
  {
   "cell_type": "markdown",
   "metadata": {},
   "source": [
    "#### <span style=\"color:darkblue\">Question 8</span>\n",
    "1. Print out a table of feature_name and feature_coefficient from the Logistic Regression model.\n",
    "<br><br>\n",
    "Hint: Adapt the code from here: https://stackoverflow.com/questions/42935914/how-to-map-features-from-the-output-of-a-vectorassembler-back-to-the-column-name"
   ]
  },
  {
   "cell_type": "code",
   "execution_count": 85,
   "metadata": {},
   "outputs": [
    {
     "data": {
      "text/html": [
       "<style scoped>\n",
       "  .ansiout {\n",
       "    display: block;\n",
       "    unicode-bidi: embed;\n",
       "    white-space: pre-wrap;\n",
       "    word-wrap: break-word;\n",
       "    word-break: break-all;\n",
       "    font-family: \"Source Code Pro\", \"Menlo\", monospace;;\n",
       "    font-size: 13px;\n",
       "    color: #555;\n",
       "    margin-left: 4px;\n",
       "    line-height: 19px;\n",
       "  }\n",
       "</style>\n",
       "<div class=\"ansiout\">                                         feature_name  feature_coefficient\n",
       "20                       educationclassVec_ Doctorate         1.225138e+00\n",
       "17                     educationclassVec_ Prof-school         1.209750e+00\n",
       "11                         educationclassVec_ Masters         8.010314e-01\n",
       "47                         relationshipclassVec_ Wife         7.589803e-01\n",
       "31                occupationclassVec_ Exec-managerial         6.645506e-01\n",
       "23         marital_statusclassVec_ Married-civ-spouse         6.435125e-01\n",
       "43                      relationshipclassVec_ Husband         5.382321e-01\n",
       "10                       educationclassVec_ Bachelors         4.405790e-01\n",
       "5                     workclassclassVec_ Self-emp-inc         4.322838e-01\n",
       "29                 occupationclassVec_ Prof-specialty         4.096262e-01\n",
       "6                      workclassclassVec_ Federal-gov         4.075811e-01\n",
       "86                   native_countryclassVec_ Cambodia         3.444299e-01\n",
       "40                   occupationclassVec_ Tech-support         3.171813e-01\n",
       "80                     native_countryclassVec_ France         2.480820e-01\n",
       "41                occupationclassVec_ Protective-serv         2.035538e-01\n",
       "52                                  sexclassVec_ Male         1.749580e-01\n",
       "33                          occupationclassVec_ Sales         9.499070e-02\n",
       "71                      native_countryclassVec_ Japan         8.105796e-02\n",
       "93                   native_countryclassVec_ Scotland         3.767879e-02\n",
       "96                                      education_num         2.483800e-02\n",
       "57                    native_countryclassVec_ Germany         8.191203e-03\n",
       "99                                     hours_per_week         4.374664e-03\n",
       "94                                                age         4.156973e-03\n",
       "76                       native_countryclassVec_ Iran         2.611785e-03\n",
       "98                                       capital_loss         4.456794e-04\n",
       "97                                       capital_gain         4.797946e-05\n",
       "95                                             fnlwgt        -7.498115e-07\n",
       "58                     native_countryclassVec_ Canada        -8.477189e-03\n",
       "14                      educationclassVec_ Assoc-acdm        -4.723760e-02\n",
       "67                      native_countryclassVec_ Italy        -5.696215e-02\n",
       "..                                                ...                  ...\n",
       "75                      native_countryclassVec_ Haiti        -6.112316e-01\n",
       "51                   raceclassVec_ Amer-Indian-Eskimo        -6.145560e-01\n",
       "91                   native_countryclassVec_ Honduras        -6.189448e-01\n",
       "60                native_countryclassVec_ El-Salvador        -6.228860e-01\n",
       "13                            educationclassVec_ 11th        -6.362003e-01\n",
       "15                            educationclassVec_ 10th        -6.577699e-01\n",
       "34                  occupationclassVec_ Other-service        -6.732046e-01\n",
       "38              occupationclassVec_ Handlers-cleaners        -6.782282e-01\n",
       "42                occupationclassVec_ Priv-house-serv        -7.377453e-01\n",
       "39                occupationclassVec_ Farming-fishing        -7.430430e-01\n",
       "45                    relationshipclassVec_ Own-child        -7.451284e-01\n",
       "65                      native_countryclassVec_ South        -7.465534e-01\n",
       "88                   native_countryclassVec_ Thailand        -7.724215e-01\n",
       "24              marital_statusclassVec_ Never-married        -7.775786e-01\n",
       "82                    native_countryclassVec_ Ecuador        -7.953933e-01\n",
       "21                         educationclassVec_ 5th-6th        -7.968925e-01\n",
       "18                             educationclassVec_ 9th        -8.060890e-01\n",
       "22                         educationclassVec_ 1st-4th        -8.210516e-01\n",
       "54                     native_countryclassVec_ Mexico        -8.322623e-01\n",
       "81                     native_countryclassVec_ Greece        -8.397554e-01\n",
       "79                       native_countryclassVec_ Peru        -8.441932e-01\n",
       "68         native_countryclassVec_ Dominican-Republic        -8.646429e-01\n",
       "16                         educationclassVec_ 7th-8th        -9.051719e-01\n",
       "69                    native_countryclassVec_ Vietnam        -9.330670e-01\n",
       "90  native_countryclassVec_ Outlying-US(Guam-USVI-...        -9.644833e-01\n",
       "78                  native_countryclassVec_ Nicaragua        -9.708063e-01\n",
       "66                      native_countryclassVec_ China        -9.719412e-01\n",
       "92                    native_countryclassVec_ Hungary        -1.034384e+00\n",
       "73                   native_countryclassVec_ Columbia        -1.140475e+00\n",
       "7                      workclassclassVec_ Without-pay        -1.159749e+00\n",
       "\n",
       "[100 rows x 2 columns]\n",
       "</div>"
      ]
     },
     "metadata": {},
     "output_type": "display_data"
    }
   ],
   "source": [
    "### Question 8.1 Answer ###\n",
    "\n",
    "# from: https://stackoverflow.com/questions/42935914/how-to-map-features-from-the-output-of-a-vectorassembler-back-to-the-column-name\n",
    "\n",
    "# fill in here"
   ]
  },
  {
   "cell_type": "code",
   "execution_count": 86,
   "metadata": {},
   "outputs": [
    {
     "data": {
      "text/html": [
       "<style scoped>\n",
       "  .ansiout {\n",
       "    display: block;\n",
       "    unicode-bidi: embed;\n",
       "    white-space: pre-wrap;\n",
       "    word-wrap: break-word;\n",
       "    word-break: break-all;\n",
       "    font-family: \"Source Code Pro\", \"Menlo\", monospace;;\n",
       "    font-size: 13px;\n",
       "    color: #555;\n",
       "    margin-left: 4px;\n",
       "    line-height: 19px;\n",
       "  }\n",
       "</style>\n",
       "<div class=\"ansiout\">                                     feature_name  feature_importance\n",
       "23     marital_statusclassVec_ Married-civ-spouse            0.220375\n",
       "97                                   capital_gain            0.216766\n",
       "99                                 hours_per_week            0.119805\n",
       "96                                  education_num            0.101838\n",
       "98                                   capital_loss            0.090327\n",
       "31            occupationclassVec_ Exec-managerial            0.086040\n",
       "94                                            age            0.045379\n",
       "1             workclassclassVec_ Self-emp-not-inc            0.027550\n",
       "29             occupationclassVec_ Prof-specialty            0.022404\n",
       "47                     relationshipclassVec_ Wife            0.018354\n",
       "40               occupationclassVec_ Tech-support            0.016017\n",
       "52                              sexclassVec_ Male            0.005164\n",
       "33                      occupationclassVec_ Sales            0.003766\n",
       "39            occupationclassVec_ Farming-fishing            0.003693\n",
       "10                   educationclassVec_ Bachelors            0.003019\n",
       "14                  educationclassVec_ Assoc-acdm            0.002312\n",
       "37           occupationclassVec_ Transport-moving            0.002270\n",
       "5                 workclassclassVec_ Self-emp-inc            0.001967\n",
       "21                     educationclassVec_ 5th-6th            0.001824\n",
       "43                  relationshipclassVec_ Husband            0.001445\n",
       "49                            raceclassVec_ Black            0.001373\n",
       "38          occupationclassVec_ Handlers-cleaners            0.001325\n",
       "61                  native_countryclassVec_ India            0.001160\n",
       "12                   educationclassVec_ Assoc-voc            0.001126\n",
       "95                                         fnlwgt            0.001024\n",
       "16                     educationclassVec_ 7th-8th            0.000994\n",
       "26              marital_statusclassVec_ Separated            0.000901\n",
       "11                     educationclassVec_ Masters            0.000759\n",
       "59            native_countryclassVec_ Puerto-Rico            0.000519\n",
       "57                native_countryclassVec_ Germany            0.000285\n",
       "..                                            ...                 ...\n",
       "36                          occupationclassVec_ ?            0.000000\n",
       "30               occupationclassVec_ Craft-repair            0.000000\n",
       "28  marital_statusclassVec_ Married-spouse-absent            0.000000\n",
       "27                marital_statusclassVec_ Widowed            0.000000\n",
       "25               marital_statusclassVec_ Divorced            0.000000\n",
       "41            occupationclassVec_ Protective-serv            0.000000\n",
       "42            occupationclassVec_ Priv-house-serv            0.000000\n",
       "24          marital_statusclassVec_ Never-married            0.000000\n",
       "44            relationshipclassVec_ Not-in-family            0.000000\n",
       "45                relationshipclassVec_ Own-child            0.000000\n",
       "46                relationshipclassVec_ Unmarried            0.000000\n",
       "22                     educationclassVec_ 1st-4th            0.000000\n",
       "48                            raceclassVec_ White            0.000000\n",
       "19                        educationclassVec_ 12th            0.000000\n",
       "65                  native_countryclassVec_ South            0.000000\n",
       "51               raceclassVec_ Amer-Indian-Eskimo            0.000000\n",
       "18                         educationclassVec_ 9th            0.000000\n",
       "53          native_countryclassVec_ United-States            0.000000\n",
       "17                 educationclassVec_ Prof-school            0.000000\n",
       "55                      native_countryclassVec_ ?            0.000000\n",
       "56            native_countryclassVec_ Philippines            0.000000\n",
       "15                        educationclassVec_ 10th            0.000000\n",
       "58                 native_countryclassVec_ Canada            0.000000\n",
       "13                        educationclassVec_ 11th            0.000000\n",
       "60            native_countryclassVec_ El-Salvador            0.000000\n",
       "9                 educationclassVec_ Some-college            0.000000\n",
       "62                   native_countryclassVec_ Cuba            0.000000\n",
       "63                native_countryclassVec_ England            0.000000\n",
       "64                native_countryclassVec_ Jamaica            0.000000\n",
       "50               raceclassVec_ Asian-Pac-Islander            0.000000\n",
       "\n",
       "[100 rows x 2 columns]\n",
       "</div>"
      ]
     },
     "metadata": {},
     "output_type": "display_data"
    }
   ],
   "source": [
    "gbCvFeatureImportance = pd.DataFrame([(name, gbCvModel.bestModel.featureImportances[idx]) for idx, name in attrs],columns=['feature_name','feature_importance'])\n",
    "\n",
    "print(gbCvFeatureImportance.sort_values(by=['feature_importance'],ascending =False))"
   ]
  },
  {
   "cell_type": "markdown",
   "metadata": {},
   "source": [
    "#### <span style=\"color:darkblue\">Question 9</span>\n",
    "1. Build and train a RandomForestClassifier and print out a table of feature importances from it."
   ]
  },
  {
   "cell_type": "code",
   "execution_count": 88,
   "metadata": {},
   "outputs": [
    {
     "data": {
      "text/html": [
       "<style scoped>\n",
       "  .ansiout {\n",
       "    display: block;\n",
       "    unicode-bidi: embed;\n",
       "    white-space: pre-wrap;\n",
       "    word-wrap: break-word;\n",
       "    word-break: break-all;\n",
       "    font-family: \"Source Code Pro\", \"Menlo\", monospace;;\n",
       "    font-size: 13px;\n",
       "    color: #555;\n",
       "    margin-left: 4px;\n",
       "    line-height: 19px;\n",
       "  }\n",
       "</style>\n",
       "<div class=\"ansiout\">                                         feature_name  feature_importance\n",
       "43                      relationshipclassVec_ Husband            0.162466\n",
       "23         marital_statusclassVec_ Married-civ-spouse            0.130222\n",
       "94                                                age            0.117549\n",
       "24              marital_statusclassVec_ Never-married            0.091650\n",
       "97                                       capital_gain            0.082070\n",
       "96                                      education_num            0.069659\n",
       "99                                     hours_per_week            0.067999\n",
       "44                relationshipclassVec_ Not-in-family            0.034909\n",
       "31                occupationclassVec_ Exec-managerial            0.022731\n",
       "17                     educationclassVec_ Prof-school            0.022483\n",
       "52                                  sexclassVec_ Male            0.021403\n",
       "98                                       capital_loss            0.019937\n",
       "10                       educationclassVec_ Bachelors            0.017821\n",
       "29                 occupationclassVec_ Prof-specialty            0.015052\n",
       "11                         educationclassVec_ Masters            0.013807\n",
       "45                    relationshipclassVec_ Own-child            0.013467\n",
       "46                    relationshipclassVec_ Unmarried            0.012889\n",
       "47                         relationshipclassVec_ Wife            0.009872\n",
       "48                                raceclassVec_ White            0.008749\n",
       "25                   marital_statusclassVec_ Divorced            0.008365\n",
       "34                  occupationclassVec_ Other-service            0.008066\n",
       "20                       educationclassVec_ Doctorate            0.007454\n",
       "8                          educationclassVec_ HS-grad            0.007267\n",
       "5                     workclassclassVec_ Self-emp-inc            0.005913\n",
       "16                         educationclassVec_ 7th-8th            0.002630\n",
       "54                     native_countryclassVec_ Mexico            0.002104\n",
       "32                   occupationclassVec_ Adm-clerical            0.002041\n",
       "38              occupationclassVec_ Handlers-cleaners            0.001876\n",
       "0                          workclassclassVec_ Private            0.001874\n",
       "27                    marital_statusclassVec_ Widowed            0.001791\n",
       "..                                                ...                 ...\n",
       "28      marital_statusclassVec_ Married-spouse-absent            0.000006\n",
       "56                native_countryclassVec_ Philippines            0.000003\n",
       "70                  native_countryclassVec_ Guatemala            0.000002\n",
       "92                    native_countryclassVec_ Hungary            0.000000\n",
       "87                       native_countryclassVec_ Laos            0.000000\n",
       "89                 native_countryclassVec_ Yugoslavia            0.000000\n",
       "90  native_countryclassVec_ Outlying-US(Guam-USVI-...            0.000000\n",
       "59                native_countryclassVec_ Puerto-Rico            0.000000\n",
       "22                         educationclassVec_ 1st-4th            0.000000\n",
       "93                   native_countryclassVec_ Scotland            0.000000\n",
       "85            native_countryclassVec_ Trinadad&amp;Tobago            0.000000\n",
       "58                     native_countryclassVec_ Canada            0.000000\n",
       "14                      educationclassVec_ Assoc-acdm            0.000000\n",
       "7                      workclassclassVec_ Without-pay            0.000000\n",
       "86                   native_countryclassVec_ Cambodia            0.000000\n",
       "42                occupationclassVec_ Priv-house-serv            0.000000\n",
       "60                native_countryclassVec_ El-Salvador            0.000000\n",
       "68         native_countryclassVec_ Dominican-Republic            0.000000\n",
       "82                    native_countryclassVec_ Ecuador            0.000000\n",
       "62                       native_countryclassVec_ Cuba            0.000000\n",
       "80                     native_countryclassVec_ France            0.000000\n",
       "79                       native_countryclassVec_ Peru            0.000000\n",
       "78                  native_countryclassVec_ Nicaragua            0.000000\n",
       "77                   native_countryclassVec_ Portugal            0.000000\n",
       "18                             educationclassVec_ 9th            0.000000\n",
       "40                   occupationclassVec_ Tech-support            0.000000\n",
       "73                   native_countryclassVec_ Columbia            0.000000\n",
       "72                     native_countryclassVec_ Poland            0.000000\n",
       "71                      native_countryclassVec_ Japan            0.000000\n",
       "83                    native_countryclassVec_ Ireland            0.000000\n",
       "\n",
       "[100 rows x 2 columns]\n",
       "</div>"
      ]
     },
     "metadata": {},
     "output_type": "display_data"
    }
   ],
   "source": [
    "### Question 9.1 Answer ###\n",
    "\n",
    "from pyspark.ml.classification import # fill in here\n",
    "\n",
    "rf = # fill in here\n",
    "\n",
    "rfModel = # fill in here\n",
    "\n",
    "rfFeatureImportance = # fill in here\n",
    "\n",
    "print(# fill in here)"
   ]
  }
 ],
 "metadata": {
  "kernelspec": {
   "display_name": "SpringBoard",
   "language": "python",
   "name": "springboard"
  },
  "language_info": {
   "codemirror_mode": {
    "name": "ipython",
    "version": 3
   },
   "file_extension": ".py",
   "mimetype": "text/x-python",
   "name": "python",
   "nbconvert_exporter": "python",
   "pygments_lexer": "ipython3",
   "version": "3.6.9-final"
  },
  "name": "Spark DF, SQL, ML Exercise",
  "notebookId": 4191519594163685
 },
 "nbformat": 4,
 "nbformat_minor": 1
}