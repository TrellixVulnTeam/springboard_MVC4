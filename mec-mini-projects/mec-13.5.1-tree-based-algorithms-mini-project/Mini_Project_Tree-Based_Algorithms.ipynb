{
 "cells": [
  {
   "cell_type": "markdown",
   "metadata": {},
   "source": [
    "# Mini Project: Tree-Based Algorithms"
   ]
  },
  {
   "cell_type": "markdown",
   "metadata": {},
   "source": [
    "## The \"German Credit\" Dataset"
   ]
  },
  {
   "cell_type": "markdown",
   "metadata": {},
   "source": [
    "### Dataset Details"
   ]
  },
  {
   "cell_type": "markdown",
   "metadata": {},
   "source": [
    "This dataset has two classes (these would be considered labels in Machine Learning terms) to describe the worthiness of a personal loan: \"Good\" or \"Bad\". There are predictors related to attributes, such as: checking account status, duration, credit history, purpose of the loan, amount of the loan, savings accounts or bonds, employment duration, installment rate in percentage of disposable income, personal information, other debtors/guarantors, residence duration, property, age, other installment plans, housing, number of existing credits, job information, number of people being liable to provide maintenance for, telephone, and foreign worker status.\n",
    "\n",
    "Many of these predictors are discrete and have been expanded into several 0/1 indicator variables (a.k.a. they have been one-hot-encoded).\n",
    "\n",
    "This dataset has been kindly provided by Professor Dr. Hans Hofmann of the University of Hamburg, and can also be found on the UCI Machine Learning Repository."
   ]
  },
  {
   "cell_type": "markdown",
   "metadata": {},
   "source": [
    "\n",
    "\n",
    "\n"
   ]
  },
  {
   "cell_type": "markdown",
   "metadata": {},
   "source": [
    "## Decision Trees"
   ]
  },
  {
   "cell_type": "markdown",
   "metadata": {},
   "source": [
    " As we have learned in the previous lectures, Decision Trees as a family of algorithms (irrespective to the particular implementation) are powerful algorithms that can produce models with a predictive accuracy higher than that produced by linear models, such as Linear or Logistic Regression. Primarily, this is due to the fact the DT's can model nonlinear relationships, and also have a number of tuning paramters, that allow for the practicioner to achieve the best possible model. An added bonus is the ability to visualize the trained Decision Tree model, which allows for some insight into how the model has produced the predictions that it has. One caveat here, to keep in mind, is that sometimes, due to the size of the dataset (both in the sense of the number of records, as well as the number of features), the visualization might prove to be very large and complex, increasing the difficulty of interpretation."
   ]
  },
  {
   "cell_type": "markdown",
   "metadata": {},
   "source": [
    "To give you a very good example of how Decision Trees can be visualized and interpreted, we would strongly recommend that, before continuing on with solving the problems in this Mini Project, you take the time to read this fanstastic, detailed and informative blog post: http://explained.ai/decision-tree-viz/index.html"
   ]
  },
  {
   "cell_type": "markdown",
   "metadata": {},
   "source": [
    "## Building Your First Decision Tree Model"
   ]
  },
  {
   "cell_type": "markdown",
   "metadata": {},
   "source": [
    "So, now it's time to jump straight into the heart of the matter. Your first task, is to build a Decision Tree model, using the aforementioned \"German Credit\" dataset, which contains 1,000 records, and 62 columns (one of them presents the labels, and the other 61 present the potential features for the model.)"
   ]
  },
  {
   "cell_type": "markdown",
   "metadata": {},
   "source": [
    "For this task, you will be using the scikit-learn library, which comes already pre-installed with the Anaconda Python distribution. In case you're not using that, you can easily install it using pip."
   ]
  },
  {
   "cell_type": "markdown",
   "metadata": {},
   "source": [
    "Before embarking on creating your first model, we would strongly encourage you to read the short tutorial for Decision Trees in scikit-learn (http://scikit-learn.org/stable/modules/tree.html), and then dive a bit deeper into the documentation of the algorithm itself (http://scikit-learn.org/stable/modules/generated/sklearn.tree.DecisionTreeClassifier.html). "
   ]
  },
  {
   "cell_type": "markdown",
   "metadata": {},
   "source": [
    "Also, since you want to be able to present the results of your model, we suggest you take a look at the tutorial for accuracy metrics for classification models (http://scikit-learn.org/stable/modules/model_evaluation.html#classification-report) as well as the more detailed documentation (http://scikit-learn.org/stable/modules/generated/sklearn.metrics.classification_report.html).\n",
    "\n",
    "Finally, an *amazing* resource that explains the various classification model accuracy metrics, as well as the relationships between them, can be found on Wikipedia: https://en.wikipedia.org/wiki/Confusion_matrix"
   ]
  },
  {
   "cell_type": "markdown",
   "metadata": {},
   "source": [
    "(Note: as you've already learned in the Logistic Regression mini project, a standard practice in Machine Learning for achieving the best possible result when training a model is to use hyperparameter tuning, through Grid Search and k-fold Cross Validation. We strongly encourage you to use it here as well, not just because it's standard practice, but also becuase it's not going to be computationally to intensive, due to the size of the dataset that you're working with. Our suggestion here is that you split the data into 70% training, and 30% testing. Then, do the hyperparameter tuning and Cross Validation on the training set, and afterwards to a final test on the testing set.)"
   ]
  },
  {
   "cell_type": "markdown",
   "metadata": {},
   "source": [
    "### Now we pass the torch onto you! You can start building your first Decision Tree model! :)"
   ]
  },
  {
   "cell_type": "code",
   "execution_count": 80,
   "metadata": {},
   "outputs": [],
   "source": [
    "import pandas as pd\n",
    "from sklearn.tree import DecisionTreeClassifier\n",
    "from sklearn.metrics import classification_report\n",
    "from sklearn.model_selection import train_test_split\n",
    "from sklearn.model_selection import GridSearchCV\n",
    "import sklearn.metrics\n",
    "from sklearn.metrics import accuracy_score"
   ]
  },
  {
   "cell_type": "code",
   "execution_count": 3,
   "metadata": {},
   "outputs": [],
   "source": [
    "# Your code here! :)\n",
    "\n",
    "df = pd.read_csv('GermanCredit.csv.zip')"
   ]
  },
  {
   "cell_type": "code",
   "execution_count": 4,
   "metadata": {
    "scrolled": true
   },
   "outputs": [
    {
     "name": "stdout",
     "output_type": "stream",
     "text": [
      "     Duration  Amount  InstallmentRatePercentage  ResidenceDuration  Age  \\\n",
      "0           6    1169                          4                  4   67   \n",
      "1          48    5951                          2                  2   22   \n",
      "2          12    2096                          2                  3   49   \n",
      "3          42    7882                          2                  4   45   \n",
      "4          24    4870                          3                  4   53   \n",
      "..        ...     ...                        ...                ...  ...   \n",
      "995        12    1736                          3                  4   31   \n",
      "996        30    3857                          4                  4   40   \n",
      "997        12     804                          4                  4   38   \n",
      "998        45    1845                          4                  4   23   \n",
      "999        45    4576                          3                  4   27   \n",
      "\n",
      "     NumberExistingCredits  NumberPeopleMaintenance  Telephone  ForeignWorker  \\\n",
      "0                        2                        1          0              1   \n",
      "1                        1                        1          1              1   \n",
      "2                        1                        2          1              1   \n",
      "3                        1                        2          1              1   \n",
      "4                        2                        2          1              1   \n",
      "..                     ...                      ...        ...            ...   \n",
      "995                      1                        1          1              1   \n",
      "996                      1                        1          0              1   \n",
      "997                      1                        1          1              1   \n",
      "998                      1                        1          0              1   \n",
      "999                      1                        1          1              1   \n",
      "\n",
      "    Class  CheckingAccountStatus.lt.0  CheckingAccountStatus.0.to.200  \\\n",
      "0    Good                           1                               0   \n",
      "1     Bad                           0                               1   \n",
      "2    Good                           0                               0   \n",
      "3    Good                           1                               0   \n",
      "4     Bad                           1                               0   \n",
      "..    ...                         ...                             ...   \n",
      "995  Good                           0                               0   \n",
      "996  Good                           1                               0   \n",
      "997  Good                           0                               0   \n",
      "998   Bad                           1                               0   \n",
      "999  Good                           0                               1   \n",
      "\n",
      "     CheckingAccountStatus.gt.200  CheckingAccountStatus.none  \\\n",
      "0                               0                           0   \n",
      "1                               0                           0   \n",
      "2                               0                           1   \n",
      "3                               0                           0   \n",
      "4                               0                           0   \n",
      "..                            ...                         ...   \n",
      "995                             0                           1   \n",
      "996                             0                           0   \n",
      "997                             0                           1   \n",
      "998                             0                           0   \n",
      "999                             0                           0   \n",
      "\n",
      "     CreditHistory.NoCredit.AllPaid  CreditHistory.ThisBank.AllPaid  \\\n",
      "0                                 0                               0   \n",
      "1                                 0                               0   \n",
      "2                                 0                               0   \n",
      "3                                 0                               0   \n",
      "4                                 0                               0   \n",
      "..                              ...                             ...   \n",
      "995                               0                               0   \n",
      "996                               0                               0   \n",
      "997                               0                               0   \n",
      "998                               0                               0   \n",
      "999                               0                               0   \n",
      "\n",
      "     CreditHistory.PaidDuly  CreditHistory.Delay  CreditHistory.Critical  \\\n",
      "0                         0                    0                       1   \n",
      "1                         1                    0                       0   \n",
      "2                         0                    0                       1   \n",
      "3                         1                    0                       0   \n",
      "4                         0                    1                       0   \n",
      "..                      ...                  ...                     ...   \n",
      "995                       1                    0                       0   \n",
      "996                       1                    0                       0   \n",
      "997                       1                    0                       0   \n",
      "998                       1                    0                       0   \n",
      "999                       0                    0                       1   \n",
      "\n",
      "     Purpose.NewCar  Purpose.UsedCar  Purpose.Furniture.Equipment  \\\n",
      "0                 0                0                            0   \n",
      "1                 0                0                            0   \n",
      "2                 0                0                            0   \n",
      "3                 0                0                            1   \n",
      "4                 1                0                            0   \n",
      "..              ...              ...                          ...   \n",
      "995               0                0                            1   \n",
      "996               0                1                            0   \n",
      "997               0                0                            0   \n",
      "998               0                0                            0   \n",
      "999               0                1                            0   \n",
      "\n",
      "     Purpose.Radio.Television  Purpose.DomesticAppliance  Purpose.Repairs  \\\n",
      "0                           1                          0                0   \n",
      "1                           1                          0                0   \n",
      "2                           0                          0                0   \n",
      "3                           0                          0                0   \n",
      "4                           0                          0                0   \n",
      "..                        ...                        ...              ...   \n",
      "995                         0                          0                0   \n",
      "996                         0                          0                0   \n",
      "997                         1                          0                0   \n",
      "998                         1                          0                0   \n",
      "999                         0                          0                0   \n",
      "\n",
      "     Purpose.Education  Purpose.Vacation  Purpose.Retraining  \\\n",
      "0                    0                 0                   0   \n",
      "1                    0                 0                   0   \n",
      "2                    1                 0                   0   \n",
      "3                    0                 0                   0   \n",
      "4                    0                 0                   0   \n",
      "..                 ...               ...                 ...   \n",
      "995                  0                 0                   0   \n",
      "996                  0                 0                   0   \n",
      "997                  0                 0                   0   \n",
      "998                  0                 0                   0   \n",
      "999                  0                 0                   0   \n",
      "\n",
      "     Purpose.Business  Purpose.Other  SavingsAccountBonds.lt.100  \\\n",
      "0                   0              0                           0   \n",
      "1                   0              0                           1   \n",
      "2                   0              0                           1   \n",
      "3                   0              0                           1   \n",
      "4                   0              0                           1   \n",
      "..                ...            ...                         ...   \n",
      "995                 0              0                           1   \n",
      "996                 0              0                           1   \n",
      "997                 0              0                           1   \n",
      "998                 0              0                           1   \n",
      "999                 0              0                           0   \n",
      "\n",
      "     SavingsAccountBonds.100.to.500  SavingsAccountBonds.500.to.1000  \\\n",
      "0                                 0                                0   \n",
      "1                                 0                                0   \n",
      "2                                 0                                0   \n",
      "3                                 0                                0   \n",
      "4                                 0                                0   \n",
      "..                              ...                              ...   \n",
      "995                               0                                0   \n",
      "996                               0                                0   \n",
      "997                               0                                0   \n",
      "998                               0                                0   \n",
      "999                               1                                0   \n",
      "\n",
      "     SavingsAccountBonds.gt.1000  SavingsAccountBonds.Unknown  \\\n",
      "0                              0                            1   \n",
      "1                              0                            0   \n",
      "2                              0                            0   \n",
      "3                              0                            0   \n",
      "4                              0                            0   \n",
      "..                           ...                          ...   \n",
      "995                            0                            0   \n",
      "996                            0                            0   \n",
      "997                            0                            0   \n",
      "998                            0                            0   \n",
      "999                            0                            0   \n",
      "\n",
      "     EmploymentDuration.lt.1  EmploymentDuration.1.to.4  \\\n",
      "0                          0                          0   \n",
      "1                          0                          1   \n",
      "2                          0                          0   \n",
      "3                          0                          0   \n",
      "4                          0                          1   \n",
      "..                       ...                        ...   \n",
      "995                        0                          0   \n",
      "996                        0                          1   \n",
      "997                        0                          0   \n",
      "998                        0                          1   \n",
      "999                        0                          0   \n",
      "\n",
      "     EmploymentDuration.4.to.7  EmploymentDuration.gt.7  \\\n",
      "0                            0                        1   \n",
      "1                            0                        0   \n",
      "2                            1                        0   \n",
      "3                            1                        0   \n",
      "4                            0                        0   \n",
      "..                         ...                      ...   \n",
      "995                          1                        0   \n",
      "996                          0                        0   \n",
      "997                          0                        1   \n",
      "998                          0                        0   \n",
      "999                          0                        0   \n",
      "\n",
      "     EmploymentDuration.Unemployed  Personal.Male.Divorced.Seperated  \\\n",
      "0                                0                                 0   \n",
      "1                                0                                 0   \n",
      "2                                0                                 0   \n",
      "3                                0                                 0   \n",
      "4                                0                                 0   \n",
      "..                             ...                               ...   \n",
      "995                              0                                 0   \n",
      "996                              0                                 1   \n",
      "997                              0                                 0   \n",
      "998                              0                                 0   \n",
      "999                              1                                 0   \n",
      "\n",
      "     Personal.Female.NotSingle  Personal.Male.Single  \\\n",
      "0                            0                     1   \n",
      "1                            1                     0   \n",
      "2                            0                     1   \n",
      "3                            0                     1   \n",
      "4                            0                     1   \n",
      "..                         ...                   ...   \n",
      "995                          1                     0   \n",
      "996                          0                     0   \n",
      "997                          0                     1   \n",
      "998                          0                     1   \n",
      "999                          0                     1   \n",
      "\n",
      "     Personal.Male.Married.Widowed  Personal.Female.Single  \\\n",
      "0                                0                       0   \n",
      "1                                0                       0   \n",
      "2                                0                       0   \n",
      "3                                0                       0   \n",
      "4                                0                       0   \n",
      "..                             ...                     ...   \n",
      "995                              0                       0   \n",
      "996                              0                       0   \n",
      "997                              0                       0   \n",
      "998                              0                       0   \n",
      "999                              0                       0   \n",
      "\n",
      "     OtherDebtorsGuarantors.None  OtherDebtorsGuarantors.CoApplicant  \\\n",
      "0                              1                                   0   \n",
      "1                              1                                   0   \n",
      "2                              1                                   0   \n",
      "3                              0                                   0   \n",
      "4                              1                                   0   \n",
      "..                           ...                                 ...   \n",
      "995                            1                                   0   \n",
      "996                            1                                   0   \n",
      "997                            1                                   0   \n",
      "998                            1                                   0   \n",
      "999                            1                                   0   \n",
      "\n",
      "     OtherDebtorsGuarantors.Guarantor  Property.RealEstate  \\\n",
      "0                                   0                    1   \n",
      "1                                   0                    1   \n",
      "2                                   0                    1   \n",
      "3                                   1                    0   \n",
      "4                                   0                    0   \n",
      "..                                ...                  ...   \n",
      "995                                 0                    1   \n",
      "996                                 0                    0   \n",
      "997                                 0                    0   \n",
      "998                                 0                    0   \n",
      "999                                 0                    0   \n",
      "\n",
      "     Property.Insurance  Property.CarOther  Property.Unknown  \\\n",
      "0                     0                  0                 0   \n",
      "1                     0                  0                 0   \n",
      "2                     0                  0                 0   \n",
      "3                     1                  0                 0   \n",
      "4                     0                  0                 1   \n",
      "..                  ...                ...               ...   \n",
      "995                   0                  0                 0   \n",
      "996                   1                  0                 0   \n",
      "997                   0                  1                 0   \n",
      "998                   0                  0                 1   \n",
      "999                   0                  1                 0   \n",
      "\n",
      "     OtherInstallmentPlans.Bank  OtherInstallmentPlans.Stores  \\\n",
      "0                             0                             0   \n",
      "1                             0                             0   \n",
      "2                             0                             0   \n",
      "3                             0                             0   \n",
      "4                             0                             0   \n",
      "..                          ...                           ...   \n",
      "995                           0                             0   \n",
      "996                           0                             0   \n",
      "997                           0                             0   \n",
      "998                           0                             0   \n",
      "999                           0                             0   \n",
      "\n",
      "     OtherInstallmentPlans.None  Housing.Rent  Housing.Own  Housing.ForFree  \\\n",
      "0                             1             0            1                0   \n",
      "1                             1             0            1                0   \n",
      "2                             1             0            1                0   \n",
      "3                             1             0            0                1   \n",
      "4                             1             0            0                1   \n",
      "..                          ...           ...          ...              ...   \n",
      "995                           1             0            1                0   \n",
      "996                           1             0            1                0   \n",
      "997                           1             0            1                0   \n",
      "998                           1             0            0                1   \n",
      "999                           1             0            1                0   \n",
      "\n",
      "     Job.UnemployedUnskilled  Job.UnskilledResident  Job.SkilledEmployee  \\\n",
      "0                          0                      0                    1   \n",
      "1                          0                      0                    1   \n",
      "2                          0                      1                    0   \n",
      "3                          0                      0                    1   \n",
      "4                          0                      0                    1   \n",
      "..                       ...                    ...                  ...   \n",
      "995                        0                      1                    0   \n",
      "996                        0                      0                    0   \n",
      "997                        0                      0                    1   \n",
      "998                        0                      0                    1   \n",
      "999                        0                      0                    1   \n",
      "\n",
      "     Job.Management.SelfEmp.HighlyQualified  \n",
      "0                                         0  \n",
      "1                                         0  \n",
      "2                                         0  \n",
      "3                                         0  \n",
      "4                                         0  \n",
      "..                                      ...  \n",
      "995                                       0  \n",
      "996                                       1  \n",
      "997                                       0  \n",
      "998                                       0  \n",
      "999                                       0  \n",
      "\n",
      "[1000 rows x 62 columns]\n"
     ]
    }
   ],
   "source": [
    "with pd.option_context('display.max_columns', None):  # more options can be specified also\n",
    "    print(df)"
   ]
  },
  {
   "cell_type": "code",
   "execution_count": 14,
   "metadata": {},
   "outputs": [],
   "source": [
    "def function_class(x):\n",
    "    if x == \"Bad\":\n",
    "        return 0\n",
    "    else:\n",
    "        return 1\n",
    "\n",
    "\n",
    "df['new_class'] = df['Class'].apply(function_class)"
   ]
  },
  {
   "cell_type": "code",
   "execution_count": 5,
   "metadata": {},
   "outputs": [],
   "source": [
    "X = df.drop(['Class'], axis=1).values\n",
    "y = df['Class'].values"
   ]
  },
  {
   "cell_type": "code",
   "execution_count": 15,
   "metadata": {},
   "outputs": [],
   "source": [
    "X = df.drop(['Class', 'new_class'], axis=1).values\n",
    "y = df['new_class'].values\n"
   ]
  },
  {
   "cell_type": "code",
   "execution_count": 16,
   "metadata": {},
   "outputs": [],
   "source": [
    "X_train, X_test, y_train, y_test  = train_test_split(X,y) "
   ]
  },
  {
   "cell_type": "code",
   "execution_count": 15,
   "metadata": {
    "scrolled": true
   },
   "outputs": [
    {
     "data": {
      "text/plain": [
       "DecisionTreeClassifier()"
      ]
     },
     "execution_count": 15,
     "metadata": {},
     "output_type": "execute_result"
    }
   ],
   "source": [
    "DecisionTreeClassifier()"
   ]
  },
  {
   "cell_type": "code",
   "execution_count": 7,
   "metadata": {},
   "outputs": [
    {
     "name": "stdout",
     "output_type": "stream",
     "text": [
      "{'criterion': 'entropy', 'max_depth': 3, 'min_samples_leaf': 1, 'min_samples_split': 7}\n",
      "              precision    recall  f1-score   support\n",
      "\n",
      "         Bad       0.54      0.10      0.17        68\n",
      "        Good       0.74      0.97      0.84       182\n",
      "\n",
      "    accuracy                           0.73       250\n",
      "   macro avg       0.64      0.53      0.51       250\n",
      "weighted avg       0.69      0.73      0.66       250\n",
      "\n"
     ]
    }
   ],
   "source": [
    "# with Good or Bad\n",
    "\n",
    "param_grid = {'criterion': ['gini', 'entropy'],\n",
    "             'max_depth': range(1,10),\n",
    "             'min_samples_split': range(2,10),\n",
    "             'min_samples_leaf': range(1,5)}\n",
    "\n",
    "clf = DecisionTreeClassifier()\n",
    "clf = GridSearchCV(clf, param_grid=param_grid, verbose=0, cv=5)\n",
    "clf.fit(X_train, y_train)\n",
    "\n",
    "print(clf.best_params_) \n",
    "grid_predictions = clf.predict(X_test) \n",
    "   \n",
    "# print classification report \n",
    "print(classification_report(y_test, grid_predictions)) "
   ]
  },
  {
   "cell_type": "code",
   "execution_count": 115,
   "metadata": {},
   "outputs": [
    {
     "name": "stdout",
     "output_type": "stream",
     "text": [
      "GridSearchCV(cv=5, estimator=RandomForestClassifier(),\n",
      "             param_grid={'bootstrap': [True, False],\n",
      "                         'criterion': ['gini', 'entropy']}): 0.696\n"
     ]
    }
   ],
   "source": [
    "score = accuracy_score(clf.predict(X_test) , y_test)\n",
    "print(f'{clf}: {score}')"
   ]
  },
  {
   "cell_type": "code",
   "execution_count": 118,
   "metadata": {},
   "outputs": [
    {
     "name": "stdout",
     "output_type": "stream",
     "text": [
      "{'criterion': 'gini', 'max_depth': 2, 'min_samples_leaf': 1, 'min_samples_split': 2}\n",
      "              precision    recall  f1-score   support\n",
      "\n",
      "           0       0.67      0.20      0.31        91\n",
      "           1       0.67      0.94      0.79       159\n",
      "\n",
      "    accuracy                           0.67       250\n",
      "   macro avg       0.67      0.57      0.55       250\n",
      "weighted avg       0.67      0.67      0.61       250\n",
      "\n"
     ]
    }
   ],
   "source": [
    "# With 1 or 0\n",
    "param_grid = {'criterion': ['gini', 'entropy'],\n",
    "             'max_depth': range(1,10),\n",
    "             'min_samples_split': range(2,10),\n",
    "             'min_samples_leaf': range(1,5)}\n",
    "\n",
    "clf = DecisionTreeClassifier()\n",
    "clf = GridSearchCV(clf, param_grid=param_grid, verbose=0, cv=5)\n",
    "clf.fit(X_train, y_train)\n",
    "\n",
    "print(clf.best_params_) \n",
    "grid_predictions = clf.predict(X_test) \n",
    "   \n",
    "# print classification report \n",
    "print(classification_report(y_test, grid_predictions)) "
   ]
  },
  {
   "cell_type": "code",
   "execution_count": 8,
   "metadata": {},
   "outputs": [],
   "source": [
    "import autosklearn.classification"
   ]
  },
  {
   "cell_type": "code",
   "execution_count": null,
   "metadata": {},
   "outputs": [],
   "source": [
    "autosklearn.classification.AutoSklearnClassifier()"
   ]
  },
  {
   "cell_type": "code",
   "execution_count": 12,
   "metadata": {},
   "outputs": [
    {
     "name": "stdout",
     "output_type": "stream",
     "text": [
      "[WARNING] [2021-08-10 21:30:32,956:Client-AutoML(1):ddbc105e-fa5c-11eb-b9e8-3052cb825aaf] Unknown dtype for X: int64, assuming it takes 8 bit/number\n",
      "Accuracy score 0.768\n"
     ]
    }
   ],
   "source": [
    "automl = autosklearn.classification.AutoSklearnClassifier(time_left_for_this_task=600)\n",
    "automl.fit(X_train, y_train)\n",
    "y_hat = automl.predict(X_test)\n",
    "print(\"Accuracy score\", sklearn.metrics.accuracy_score(y_test, y_hat))"
   ]
  },
  {
   "cell_type": "code",
   "execution_count": 8,
   "metadata": {
    "scrolled": true
   },
   "outputs": [
    {
     "name": "stdout",
     "output_type": "stream",
     "text": [
      "<class 'pandas.core.frame.DataFrame'>\n",
      "RangeIndex: 1000 entries, 0 to 999\n",
      "Data columns (total 62 columns):\n",
      " #   Column                                  Non-Null Count  Dtype \n",
      "---  ------                                  --------------  ----- \n",
      " 0   Duration                                1000 non-null   int64 \n",
      " 1   Amount                                  1000 non-null   int64 \n",
      " 2   InstallmentRatePercentage               1000 non-null   int64 \n",
      " 3   ResidenceDuration                       1000 non-null   int64 \n",
      " 4   Age                                     1000 non-null   int64 \n",
      " 5   NumberExistingCredits                   1000 non-null   int64 \n",
      " 6   NumberPeopleMaintenance                 1000 non-null   int64 \n",
      " 7   Telephone                               1000 non-null   int64 \n",
      " 8   ForeignWorker                           1000 non-null   int64 \n",
      " 9   Class                                   1000 non-null   object\n",
      " 10  CheckingAccountStatus.lt.0              1000 non-null   int64 \n",
      " 11  CheckingAccountStatus.0.to.200          1000 non-null   int64 \n",
      " 12  CheckingAccountStatus.gt.200            1000 non-null   int64 \n",
      " 13  CheckingAccountStatus.none              1000 non-null   int64 \n",
      " 14  CreditHistory.NoCredit.AllPaid          1000 non-null   int64 \n",
      " 15  CreditHistory.ThisBank.AllPaid          1000 non-null   int64 \n",
      " 16  CreditHistory.PaidDuly                  1000 non-null   int64 \n",
      " 17  CreditHistory.Delay                     1000 non-null   int64 \n",
      " 18  CreditHistory.Critical                  1000 non-null   int64 \n",
      " 19  Purpose.NewCar                          1000 non-null   int64 \n",
      " 20  Purpose.UsedCar                         1000 non-null   int64 \n",
      " 21  Purpose.Furniture.Equipment             1000 non-null   int64 \n",
      " 22  Purpose.Radio.Television                1000 non-null   int64 \n",
      " 23  Purpose.DomesticAppliance               1000 non-null   int64 \n",
      " 24  Purpose.Repairs                         1000 non-null   int64 \n",
      " 25  Purpose.Education                       1000 non-null   int64 \n",
      " 26  Purpose.Vacation                        1000 non-null   int64 \n",
      " 27  Purpose.Retraining                      1000 non-null   int64 \n",
      " 28  Purpose.Business                        1000 non-null   int64 \n",
      " 29  Purpose.Other                           1000 non-null   int64 \n",
      " 30  SavingsAccountBonds.lt.100              1000 non-null   int64 \n",
      " 31  SavingsAccountBonds.100.to.500          1000 non-null   int64 \n",
      " 32  SavingsAccountBonds.500.to.1000         1000 non-null   int64 \n",
      " 33  SavingsAccountBonds.gt.1000             1000 non-null   int64 \n",
      " 34  SavingsAccountBonds.Unknown             1000 non-null   int64 \n",
      " 35  EmploymentDuration.lt.1                 1000 non-null   int64 \n",
      " 36  EmploymentDuration.1.to.4               1000 non-null   int64 \n",
      " 37  EmploymentDuration.4.to.7               1000 non-null   int64 \n",
      " 38  EmploymentDuration.gt.7                 1000 non-null   int64 \n",
      " 39  EmploymentDuration.Unemployed           1000 non-null   int64 \n",
      " 40  Personal.Male.Divorced.Seperated        1000 non-null   int64 \n",
      " 41  Personal.Female.NotSingle               1000 non-null   int64 \n",
      " 42  Personal.Male.Single                    1000 non-null   int64 \n",
      " 43  Personal.Male.Married.Widowed           1000 non-null   int64 \n",
      " 44  Personal.Female.Single                  1000 non-null   int64 \n",
      " 45  OtherDebtorsGuarantors.None             1000 non-null   int64 \n",
      " 46  OtherDebtorsGuarantors.CoApplicant      1000 non-null   int64 \n",
      " 47  OtherDebtorsGuarantors.Guarantor        1000 non-null   int64 \n",
      " 48  Property.RealEstate                     1000 non-null   int64 \n",
      " 49  Property.Insurance                      1000 non-null   int64 \n",
      " 50  Property.CarOther                       1000 non-null   int64 \n",
      " 51  Property.Unknown                        1000 non-null   int64 \n",
      " 52  OtherInstallmentPlans.Bank              1000 non-null   int64 \n",
      " 53  OtherInstallmentPlans.Stores            1000 non-null   int64 \n",
      " 54  OtherInstallmentPlans.None              1000 non-null   int64 \n",
      " 55  Housing.Rent                            1000 non-null   int64 \n",
      " 56  Housing.Own                             1000 non-null   int64 \n",
      " 57  Housing.ForFree                         1000 non-null   int64 \n",
      " 58  Job.UnemployedUnskilled                 1000 non-null   int64 \n",
      " 59  Job.UnskilledResident                   1000 non-null   int64 \n",
      " 60  Job.SkilledEmployee                     1000 non-null   int64 \n",
      " 61  Job.Management.SelfEmp.HighlyQualified  1000 non-null   int64 \n",
      "dtypes: int64(61), object(1)\n",
      "memory usage: 484.5+ KB\n"
     ]
    }
   ],
   "source": [
    "df.info()"
   ]
  },
  {
   "cell_type": "markdown",
   "metadata": {},
   "source": [
    "### After you've built the best model you can, now it's time to visualize it!"
   ]
  },
  {
   "cell_type": "markdown",
   "metadata": {},
   "source": [
    "Rememeber that amazing blog post from a few paragraphs ago, that demonstrated how to visualize and interpret the results of your Decision Tree model. We've seen that this can perform very well, but let's see how it does on the \"German Credit\" dataset that we're working on, due to it being a bit larger than the one used by the blog authors."
   ]
  },
  {
   "cell_type": "markdown",
   "metadata": {},
   "source": [
    "First, we're going to need to install their package. If you're using Anaconda, this can be done easily by running:"
   ]
  },
  {
   "cell_type": "code",
   "execution_count": null,
   "metadata": {},
   "outputs": [],
   "source": [
    "! pip install dtreeviz"
   ]
  },
  {
   "cell_type": "markdown",
   "metadata": {},
   "source": [
    "If for any reason this way of installing doesn't work for you straight out of the box, please refer to the more detailed documentation here: https://github.com/parrt/dtreeviz"
   ]
  },
  {
   "cell_type": "code",
   "execution_count": 9,
   "metadata": {},
   "outputs": [],
   "source": [
    "from dtreeviz.trees import *"
   ]
  },
  {
   "cell_type": "code",
   "execution_count": 20,
   "metadata": {},
   "outputs": [
    {
     "name": "stdout",
     "output_type": "stream",
     "text": [
      "None\n"
     ]
    }
   ],
   "source": [
    "import os\n",
    "import subprocess\n",
    "proc = subprocess.Popen(['dot','-V'])\n",
    "print( os.getenv('Path') )"
   ]
  },
  {
   "cell_type": "markdown",
   "metadata": {},
   "source": [
    "Now you're ready to visualize your Decision Tree model! Please feel free to use the blog post for guidance and inspiration!"
   ]
  },
  {
   "cell_type": "code",
   "execution_count": 119,
   "metadata": {},
   "outputs": [],
   "source": [
    "# Your code here! :)\n",
    "\n",
    "viz = dtreeviz(clf.best_estimator_,\n",
    "               X,\n",
    "               y,\n",
    "               target_name='Class',\n",
    "               feature_names=df.columns)\n",
    "              \n",
    "viz.view()  "
   ]
  },
  {
   "cell_type": "markdown",
   "metadata": {},
   "source": [
    "## Random Forests"
   ]
  },
  {
   "cell_type": "markdown",
   "metadata": {},
   "source": [
    "As discussed in the lecture videos, Decision Tree algorithms also have certain undesireable properties. Mainly the have low bias, which is good, but tend to have high variance - which is *not* so good (more about this problem here: https://en.wikipedia.org/wiki/Bias%E2%80%93variance_tradeoff)."
   ]
  },
  {
   "cell_type": "markdown",
   "metadata": {},
   "source": [
    "Noticing these problems, the late Professor Leo Breiman, in 2001, developed the Random Forests algorithm, which mitigates these problems, while at the same time providing even higher predictive accuracy than the majority of Decision Tree algorithm implementations. While the curriculum contains two excellent lectures on Random Forests, if you're interested, you can dive into the original paper here: https://link.springer.com/content/pdf/10.1023%2FA%3A1010933404324.pdf."
   ]
  },
  {
   "cell_type": "markdown",
   "metadata": {},
   "source": [
    "In the next part of this assignment, your are going to use the same \"German Credit\" dataset to train, tune, and measure the performance of a Random Forests model. You will also see certain functionalities that this model, even though it's a bit of a \"black box\", provides for some degree of interpretability."
   ]
  },
  {
   "cell_type": "markdown",
   "metadata": {},
   "source": [
    "First, let's build a Random Forests model, using the same best practices that you've used for your Decision Trees model. You can reuse the things you've already imported there, so no need to do any re-imports, new train/test splits, or loading up the data again."
   ]
  },
  {
   "cell_type": "code",
   "execution_count": 23,
   "metadata": {},
   "outputs": [],
   "source": [
    "from sklearn.ensemble import RandomForestClassifier"
   ]
  },
  {
   "cell_type": "code",
   "execution_count": 114,
   "metadata": {},
   "outputs": [
    {
     "name": "stdout",
     "output_type": "stream",
     "text": [
      "{'bootstrap': True, 'criterion': 'entropy'}\n",
      "              precision    recall  f1-score   support\n",
      "\n",
      "           0       0.67      0.32      0.43        91\n",
      "           1       0.70      0.91      0.79       159\n",
      "\n",
      "    accuracy                           0.70       250\n",
      "   macro avg       0.69      0.62      0.61       250\n",
      "weighted avg       0.69      0.70      0.66       250\n",
      "\n"
     ]
    }
   ],
   "source": [
    "# Your code here! :)\n",
    "\n",
    "# param_grid = {'criterion': ['gini', 'entropy'],\n",
    "#              'bootstrap': [True, False],\n",
    "#              'n_estimators': range(50,500,100), \n",
    "#              'max_depth': range(1,10),\n",
    "#              'min_samples_split': range(2,10),\n",
    "#              'min_samples_leaf': range(1,5)}\n",
    "\n",
    "param_grid = {'criterion': ['gini', 'entropy'],\n",
    "             'bootstrap': [True, False]}\n",
    "\n",
    "\n",
    "clf = RandomForestClassifier()\n",
    "clf = GridSearchCV(clf, param_grid=param_grid, verbose=0, cv=5)\n",
    "clf.fit(X_train, y_train)\n",
    "\n",
    "print(clf.best_params_) \n",
    "grid_predictions = clf.predict(X_test) \n",
    "   \n",
    "# print classification report \n",
    "print(classification_report(y_test, grid_predictions)) "
   ]
  },
  {
   "cell_type": "markdown",
   "metadata": {},
   "source": [
    "As mentioned, there are certain ways to \"peek\" into a model created by the Random Forests algorithm. The first, and most popular one, is the Feature Importance calculation functionality. This allows the ML practitioner to see an ordering of the importance of the features that have contributed the most to the predictive accuracy of the model. \n",
    "\n",
    "You can see how to use this in the scikit-learn documentation (http://scikit-learn.org/stable/modules/generated/sklearn.ensemble.RandomForestClassifier.html#sklearn.ensemble.RandomForestClassifier.feature_importances_). Now, if you tried this, you would just get an ordered table of not directly interpretable numeric values. Thus, it's much more useful to show the feature importance in a visual way. You can see an example of how that's done here: http://scikit-learn.org/stable/auto_examples/ensemble/plot_forest_importances.html#sphx-glr-auto-examples-ensemble-plot-forest-importances-py\n",
    "\n",
    "Now you try! Let's visualize the importance of features from your Random Forests model!"
   ]
  },
  {
   "cell_type": "code",
   "execution_count": 35,
   "metadata": {},
   "outputs": [
    {
     "name": "stdout",
     "output_type": "stream",
     "text": [
      "Elapsed time to compute the importances: 0.027 seconds\n"
     ]
    }
   ],
   "source": [
    "# Your code here\n",
    "\n",
    "import time\n",
    "import numpy as np\n",
    "\n",
    "forest = clf.best_estimator_\n",
    "start_time = time.time()\n",
    "importances = forest.feature_importances_\n",
    "std = np.std([\n",
    "    tree.feature_importances_ for tree in forest.estimators_], axis=0)\n",
    "elapsed_time = time.time() - start_time\n",
    "\n",
    "print(f\"Elapsed time to compute the importances: \"\n",
    "      f\"{elapsed_time:.3f} seconds\")"
   ]
  },
  {
   "cell_type": "code",
   "execution_count": 47,
   "metadata": {},
   "outputs": [],
   "source": [
    "feature_names = df.drop(['Class', 'new_class'], axis=1).columns"
   ]
  },
  {
   "cell_type": "code",
   "execution_count": 57,
   "metadata": {
    "scrolled": true
   },
   "outputs": [
    {
     "data": {
      "text/plain": [
       "Amount                        0.096651\n",
       "Age                           0.084535\n",
       "Duration                      0.078690\n",
       "CheckingAccountStatus.none    0.053835\n",
       "CheckingAccountStatus.lt.0    0.044629\n",
       "InstallmentRatePercentage     0.038886\n",
       "ResidenceDuration             0.032601\n",
       "CreditHistory.Critical        0.022424\n",
       "SavingsAccountBonds.lt.100    0.019295\n",
       "NumberExistingCredits         0.018517\n",
       "dtype: float64"
      ]
     },
     "execution_count": 57,
     "metadata": {},
     "output_type": "execute_result"
    }
   ],
   "source": [
    "forest_importances.sort_values(ascending=False)[0:10]"
   ]
  },
  {
   "cell_type": "code",
   "execution_count": 64,
   "metadata": {},
   "outputs": [
    {
     "data": {
      "image/png": "[encoded data removed]",
      "text/plain": [
       "<Figure size 432x288 with 1 Axes>"
      ]
     },
     "metadata": {
      "needs_background": "light"
     },
     "output_type": "display_data"
    }
   ],
   "source": [
    "# what is going on with passing in yerr as std.  How do the kwargs work?\n",
    " \n",
    "fig, ax = plt.subplots()\n",
    "forest_importances.plot.bar(yerr=std, ax=ax)\n",
    "#forest_importances.sort_values(ascending=False)[0:10].plot.bar(ax=ax)\n",
    "ax.set_title(\"Feature importances using MDI\")\n",
    "ax.set_ylabel(\"Mean decrease in impurity\")\n",
    "fig.tight_layout()\n",
    "# fig.set_size_inches(50, 25)"
   ]
  },
  {
   "cell_type": "code",
   "execution_count": 62,
   "metadata": {},
   "outputs": [
    {
     "data": {
      "image/png": "[encoded data removed]",
      "text/plain": [
       "<Figure size 432x288 with 1 Axes>"
      ]
     },
     "metadata": {
      "needs_background": "light"
     },
     "output_type": "display_data"
    }
   ],
   "source": [
    "forest_importances = pd.Series(importances, index=feature_names)\n",
    "\n",
    "fig, ax = plt.subplots()\n",
    "# forest_importances.sort_values(ascending=False)[0:10].plot.bar(yerr=std, ax=ax)\n",
    "# forest_importances.plot.bar(yerr=std, ax=ax)\n",
    "forest_importances.sort_values(ascending=False)[0:10].plot.bar(ax=ax)\n",
    "ax.set_title(\"Feature importances using MDI\")\n",
    "ax.set_ylabel(\"Mean decrease in impurity\")\n",
    "fig.tight_layout()\n",
    "# fig.set_size_inches(50, 25)"
   ]
  },
  {
   "cell_type": "markdown",
   "metadata": {},
   "source": [
    "A final method for gaining some insight into the inner working of your Random Forests models is a so-called Partial Dependence Plot. The Partial Dependence Plot (PDP or PD plot) shows the marginal effect of a feature on the predicted outcome of a previously fit model. The prediction function is fixed at a few values of the chosen features and averaged over the other features. A partial dependence plot can show if the relationship between the target and a feature is linear, monotonic or more complex. \n",
    "\n",
    "In scikit-learn, PDPs are implemented and available for certain algorithms, but at this point (version 0.20.0) they are not yet implemented for Random Forests. Thankfully, there is an add-on package called **PDPbox** (https://pdpbox.readthedocs.io/en/latest/) which adds this functionality to Random Forests. The package is easy to install through pip."
   ]
  },
  {
   "cell_type": "markdown",
   "metadata": {},
   "source": [
    "While we encourage you to read the documentation for the package (and reading package documentation in general is a good habit to develop), the authors of the package have also written an excellent blog post on how to use it, showing examples on different algorithms from scikit-learn (the Random Forests example is towards the end of the blog post): https://briangriner.github.io/Partial_Dependence_Plots_presentation-BrianGriner-PrincetonPublicLibrary-4.14.18-updated-4.22.18.html"
   ]
  },
  {
   "cell_type": "code",
   "execution_count": null,
   "metadata": {},
   "outputs": [],
   "source": [
    "!pip install pdpbox"
   ]
  },
  {
   "cell_type": "markdown",
   "metadata": {},
   "source": [
    "So, armed with this new knowledge, feel free to pick a few features, and make a couple of Partial Dependence Plots of your own!"
   ]
  },
  {
   "cell_type": "code",
   "execution_count": 112,
   "metadata": {},
   "outputs": [
    {
     "data": {
      "image/png": "[encoded data removed]",
      "text/plain": [
       "<Figure size 1080x648 with 3 Axes>"
      ]
     },
     "metadata": {
      "needs_background": "light"
     },
     "output_type": "display_data"
    }
   ],
   "source": [
    "# Your code here!\n",
    "\n",
    "from pdpbox import info_plots\n",
    "\n",
    "\n",
    "df_target = df['new_class']\n",
    "fig, axes, summary_df = info_plots.target_plot(\n",
    "    df=df, feature='Amount', feature_name='Amount', target='new_class')"
   ]
  },
  {
   "cell_type": "markdown",
   "metadata": {},
   "source": [
    "## (Optional) Advanced Boosting-Based Algorithms"
   ]
  },
  {
   "cell_type": "markdown",
   "metadata": {},
   "source": [
    "As explained in the video lectures, the next generation of algorithms after Random Forests (that use Bagging, a.k.a. Bootstrap Aggregation) were developed using Boosting, and the first one of these were Gradient Boosted Machines, which are implemented in scikit-learn (http://scikit-learn.org/stable/modules/ensemble.html#gradient-tree-boosting)."
   ]
  },
  {
   "cell_type": "markdown",
   "metadata": {},
   "source": [
    "Still, in recent years, a number of variations on GBMs have been developed by different research amd industry groups, all of them bringing improvements, both in speed, accuracy and functionality to the original Gradient Boosting algorithms.\n",
    "\n",
    "In no order of preference, these are:\n",
    "1. **XGBoost**: https://xgboost.readthedocs.io/en/latest/\n",
    "2. **CatBoost**: https://tech.yandex.com/catboost/\n",
    "3. **LightGBM**: https://lightgbm.readthedocs.io/en/latest/"
   ]
  },
  {
   "cell_type": "markdown",
   "metadata": {},
   "source": [
    "If you're using the Anaconda distribution, these are all very easy to install:"
   ]
  },
  {
   "cell_type": "markdown",
   "metadata": {},
   "source": [
    "Your task in this optional section of the mini project is to read the documentation of these three libraries, and apply all of them to the \"German Credit\" dataset, just like you did in the case of Decision Trees and Random Forests."
   ]
  },
  {
   "cell_type": "markdown",
   "metadata": {},
   "source": [
    "The final deliverable of this section should be a table (can be a pandas DataFrame) which shows the accuracy of all the five algorthms taught in this mini project in one place."
   ]
  },
  {
   "cell_type": "markdown",
   "metadata": {},
   "source": [
    "Happy modeling! :)"
   ]
  },
  {
   "cell_type": "code",
   "execution_count": 94,
   "metadata": {
    "scrolled": true
   },
   "outputs": [
    {
     "name": "stdout",
     "output_type": "stream",
     "text": [
      "[13:15:30] WARNING: ../src/learner.cc:1095: Starting in XGBoost 1.3.0, the default evaluation metric used with the objective 'binary:logistic' was changed from 'error' to 'logloss'. Explicitly set eval_metric if you'd like to restore the old behavior.\n",
      "XGBClassifier(base_score=0.5, booster='gbtree', colsample_bylevel=1,\n",
      "              colsample_bynode=1, colsample_bytree=1, gamma=0, gpu_id=-1,\n",
      "              importance_type='gain', interaction_constraints='',\n",
      "              learning_rate=0.300000012, max_delta_step=0, max_depth=3,\n",
      "              min_child_weight=1, missing=nan, monotone_constraints='()',\n",
      "              n_estimators=100, n_jobs=4, num_parallel_tree=1, random_state=0,\n",
      "              reg_alpha=0, reg_lambda=1, scale_pos_weight=1, subsample=1,\n",
      "              tree_method='exact', validate_parameters=1, verbosity=None): 0.704\n"
     ]
    },
    {
     "name": "stderr",
     "output_type": "stream",
     "text": [
      "/home/tai/Desktop/Projects/SpringBoard/env/lib/python3.6/site-packages/xgboost/sklearn.py:1146: UserWarning: The use of label encoder in XGBClassifier is deprecated and will be removed in a future release. To remove this warning, do the following: 1) Pass option use_label_encoder=False when constructing XGBClassifier object; and 2) Encode your labels (y) as integers starting with 0, i.e. 0, 1, 2, ..., [num_class - 1].\n",
      "  warnings.warn(label_encoder_deprecation_msg, UserWarning)\n"
     ]
    }
   ],
   "source": [
    "from xgboost import XGBClassifier\n",
    "xgb = XGBClassifier(\n",
    "    n_estimators=100,\n",
    "    reg_lambda=1,\n",
    "    gamma=0,\n",
    "    max_depth=3\n",
    ")\n",
    "xgb.fit(X_train, y_train)\n",
    "score = accuracy_score(xgb.predict(X_test), y_test)\n",
    "print(f'{xgb}: {score}')"
   ]
  },
  {
   "cell_type": "code",
   "execution_count": 93,
   "metadata": {},
   "outputs": [
    {
     "name": "stdout",
     "output_type": "stream",
     "text": [
      "0:\tlearn: 0.6807355\ttotal: 58.5ms\tremaining: 5.79s\n",
      "1:\tlearn: 0.6737389\ttotal: 63.6ms\tremaining: 3.11s\n",
      "2:\tlearn: 0.6620476\ttotal: 70.3ms\tremaining: 2.27s\n",
      "3:\tlearn: 0.6515131\ttotal: 75.1ms\tremaining: 1.8s\n",
      "4:\tlearn: 0.6421207\ttotal: 80.7ms\tremaining: 1.53s\n",
      "5:\tlearn: 0.6332051\ttotal: 84.5ms\tremaining: 1.32s\n",
      "6:\tlearn: 0.6266602\ttotal: 88.3ms\tremaining: 1.17s\n",
      "7:\tlearn: 0.6187958\ttotal: 92ms\tremaining: 1.06s\n",
      "8:\tlearn: 0.6130672\ttotal: 96.9ms\tremaining: 980ms\n",
      "9:\tlearn: 0.6078230\ttotal: 100ms\tremaining: 904ms\n",
      "10:\tlearn: 0.6038564\ttotal: 104ms\tremaining: 843ms\n",
      "11:\tlearn: 0.5970766\ttotal: 108ms\tremaining: 795ms\n",
      "12:\tlearn: 0.5928970\ttotal: 113ms\tremaining: 756ms\n",
      "13:\tlearn: 0.5881977\ttotal: 118ms\tremaining: 727ms\n",
      "14:\tlearn: 0.5831226\ttotal: 120ms\tremaining: 683ms\n",
      "15:\tlearn: 0.5775865\ttotal: 122ms\tremaining: 642ms\n",
      "16:\tlearn: 0.5730305\ttotal: 124ms\tremaining: 606ms\n",
      "17:\tlearn: 0.5694337\ttotal: 126ms\tremaining: 572ms\n",
      "18:\tlearn: 0.5640369\ttotal: 127ms\tremaining: 542ms\n",
      "19:\tlearn: 0.5592903\ttotal: 128ms\tremaining: 514ms\n",
      "20:\tlearn: 0.5554606\ttotal: 133ms\tremaining: 500ms\n",
      "21:\tlearn: 0.5523206\ttotal: 134ms\tremaining: 476ms\n",
      "22:\tlearn: 0.5482796\ttotal: 136ms\tremaining: 454ms\n",
      "23:\tlearn: 0.5452563\ttotal: 138ms\tremaining: 436ms\n",
      "24:\tlearn: 0.5426374\ttotal: 139ms\tremaining: 416ms\n",
      "25:\tlearn: 0.5404820\ttotal: 139ms\tremaining: 397ms\n",
      "26:\tlearn: 0.5382055\ttotal: 140ms\tremaining: 379ms\n",
      "27:\tlearn: 0.5345974\ttotal: 141ms\tremaining: 363ms\n",
      "28:\tlearn: 0.5317471\ttotal: 142ms\tremaining: 348ms\n",
      "29:\tlearn: 0.5284367\ttotal: 143ms\tremaining: 334ms\n",
      "30:\tlearn: 0.5264203\ttotal: 144ms\tremaining: 320ms\n",
      "31:\tlearn: 0.5239480\ttotal: 145ms\tremaining: 308ms\n",
      "32:\tlearn: 0.5225230\ttotal: 146ms\tremaining: 296ms\n",
      "33:\tlearn: 0.5192067\ttotal: 146ms\tremaining: 284ms\n",
      "34:\tlearn: 0.5169265\ttotal: 147ms\tremaining: 273ms\n",
      "35:\tlearn: 0.5154072\ttotal: 148ms\tremaining: 263ms\n",
      "36:\tlearn: 0.5131608\ttotal: 149ms\tremaining: 253ms\n",
      "37:\tlearn: 0.5115011\ttotal: 149ms\tremaining: 244ms\n",
      "38:\tlearn: 0.5105307\ttotal: 150ms\tremaining: 235ms\n",
      "39:\tlearn: 0.5088323\ttotal: 151ms\tremaining: 226ms\n",
      "40:\tlearn: 0.5077630\ttotal: 152ms\tremaining: 218ms\n",
      "41:\tlearn: 0.5057507\ttotal: 152ms\tremaining: 210ms\n",
      "42:\tlearn: 0.5038991\ttotal: 153ms\tremaining: 203ms\n",
      "43:\tlearn: 0.5022425\ttotal: 154ms\tremaining: 196ms\n",
      "44:\tlearn: 0.5006332\ttotal: 155ms\tremaining: 189ms\n",
      "45:\tlearn: 0.4990103\ttotal: 156ms\tremaining: 183ms\n",
      "46:\tlearn: 0.4978492\ttotal: 156ms\tremaining: 176ms\n",
      "47:\tlearn: 0.4966929\ttotal: 157ms\tremaining: 170ms\n",
      "48:\tlearn: 0.4952754\ttotal: 158ms\tremaining: 164ms\n",
      "49:\tlearn: 0.4945968\ttotal: 158ms\tremaining: 158ms\n",
      "50:\tlearn: 0.4940625\ttotal: 159ms\tremaining: 153ms\n",
      "51:\tlearn: 0.4926586\ttotal: 160ms\tremaining: 147ms\n",
      "52:\tlearn: 0.4915943\ttotal: 160ms\tremaining: 142ms\n",
      "53:\tlearn: 0.4905892\ttotal: 161ms\tremaining: 137ms\n",
      "54:\tlearn: 0.4901500\ttotal: 162ms\tremaining: 132ms\n",
      "55:\tlearn: 0.4888031\ttotal: 163ms\tremaining: 128ms\n",
      "56:\tlearn: 0.4873725\ttotal: 163ms\tremaining: 123ms\n",
      "57:\tlearn: 0.4858528\ttotal: 164ms\tremaining: 119ms\n",
      "58:\tlearn: 0.4852459\ttotal: 165ms\tremaining: 114ms\n",
      "59:\tlearn: 0.4841452\ttotal: 165ms\tremaining: 110ms\n",
      "60:\tlearn: 0.4833983\ttotal: 166ms\tremaining: 106ms\n",
      "61:\tlearn: 0.4813795\ttotal: 167ms\tremaining: 102ms\n",
      "62:\tlearn: 0.4803044\ttotal: 167ms\tremaining: 98.3ms\n",
      "63:\tlearn: 0.4787069\ttotal: 168ms\tremaining: 94.6ms\n",
      "64:\tlearn: 0.4778123\ttotal: 169ms\tremaining: 90.9ms\n",
      "65:\tlearn: 0.4761010\ttotal: 170ms\tremaining: 87.5ms\n",
      "66:\tlearn: 0.4752490\ttotal: 170ms\tremaining: 84ms\n",
      "67:\tlearn: 0.4745051\ttotal: 171ms\tremaining: 80.6ms\n",
      "68:\tlearn: 0.4739012\ttotal: 172ms\tremaining: 77.2ms\n",
      "69:\tlearn: 0.4719878\ttotal: 173ms\tremaining: 74ms\n",
      "70:\tlearn: 0.4710301\ttotal: 173ms\tremaining: 70.8ms\n",
      "71:\tlearn: 0.4701357\ttotal: 174ms\tremaining: 67.8ms\n",
      "72:\tlearn: 0.4690362\ttotal: 175ms\tremaining: 64.7ms\n",
      "73:\tlearn: 0.4679909\ttotal: 176ms\tremaining: 61.7ms\n",
      "74:\tlearn: 0.4670131\ttotal: 176ms\tremaining: 58.8ms\n",
      "75:\tlearn: 0.4660913\ttotal: 177ms\tremaining: 56ms\n",
      "76:\tlearn: 0.4648561\ttotal: 178ms\tremaining: 53.1ms\n",
      "77:\tlearn: 0.4642679\ttotal: 179ms\tremaining: 50.3ms\n",
      "78:\tlearn: 0.4634326\ttotal: 179ms\tremaining: 47.6ms\n",
      "79:\tlearn: 0.4621923\ttotal: 180ms\tremaining: 45ms\n",
      "80:\tlearn: 0.4616576\ttotal: 180ms\tremaining: 42.3ms\n",
      "81:\tlearn: 0.4608057\ttotal: 181ms\tremaining: 39.8ms\n",
      "82:\tlearn: 0.4600094\ttotal: 182ms\tremaining: 37.2ms\n",
      "83:\tlearn: 0.4593137\ttotal: 182ms\tremaining: 34.7ms\n",
      "84:\tlearn: 0.4577747\ttotal: 183ms\tremaining: 32.3ms\n",
      "85:\tlearn: 0.4572180\ttotal: 184ms\tremaining: 29.9ms\n",
      "86:\tlearn: 0.4564729\ttotal: 184ms\tremaining: 27.6ms\n",
      "87:\tlearn: 0.4557010\ttotal: 185ms\tremaining: 25.3ms\n",
      "88:\tlearn: 0.4549610\ttotal: 186ms\tremaining: 23ms\n",
      "89:\tlearn: 0.4538619\ttotal: 187ms\tremaining: 20.8ms\n",
      "90:\tlearn: 0.4531038\ttotal: 187ms\tremaining: 18.5ms\n",
      "91:\tlearn: 0.4523271\ttotal: 188ms\tremaining: 16.4ms\n",
      "92:\tlearn: 0.4515185\ttotal: 189ms\tremaining: 14.2ms\n",
      "93:\tlearn: 0.4507531\ttotal: 189ms\tremaining: 12.1ms\n",
      "94:\tlearn: 0.4499320\ttotal: 190ms\tremaining: 10ms\n",
      "95:\tlearn: 0.4493052\ttotal: 191ms\tremaining: 7.96ms\n",
      "96:\tlearn: 0.4485407\ttotal: 192ms\tremaining: 5.93ms\n",
      "97:\tlearn: 0.4478645\ttotal: 192ms\tremaining: 3.92ms\n",
      "98:\tlearn: 0.4469365\ttotal: 193ms\tremaining: 1.95ms\n",
      "99:\tlearn: 0.4458027\ttotal: 194ms\tremaining: 0us\n",
      "<catboost.core.CatBoostClassifier object at 0x7f6a79e1b4a8>: 0.672\n"
     ]
    }
   ],
   "source": [
    "from catboost import CatBoostClassifier\n",
    "ctb = CatBoostClassifier(\n",
    "    n_estimators=100,\n",
    "    reg_lambda=1,\n",
    "    max_depth=3\n",
    ")\n",
    "ctb.fit(X_train, y_train)\n",
    "score = accuracy_score(ctb.predict(X_test), y_test)\n",
    "print(f'{ctb}: {score}')"
   ]
  },
  {
   "cell_type": "code",
   "execution_count": 117,
   "metadata": {},
   "outputs": [
    {
     "name": "stdout",
     "output_type": "stream",
     "text": [
      "LightGBM Model accuracy score: 0.7160\n"
     ]
    }
   ],
   "source": [
    "import lightgbm as lgb\n",
    "lgb = lgb.LGBMClassifier()\n",
    "lgb.fit(X_train, y_train)\n",
    "# predict the results\n",
    "y_pred=lgb.predict(X_test)\n",
    "accuracy=accuracy_score(y_pred, y_test)\n",
    "print('LightGBM Model accuracy score: {0:0.4f}'.format(accuracy_score(y_test, y_pred)))"
   ]
  },
  {
   "cell_type": "code",
   "execution_count": 121,
   "metadata": {},
   "outputs": [],
   "source": [
    "from sklearn.neural_network import MLPClassifier\n",
    "from sklearn.neighbors import KNeighborsClassifier\n",
    "from sklearn.svm import SVC\n",
    "from sklearn.gaussian_process import GaussianProcessClassifier\n",
    "from sklearn.gaussian_process.kernels import RBF\n",
    "from sklearn.tree import DecisionTreeClassifier\n",
    "from sklearn.ensemble import RandomForestClassifier, AdaBoostClassifier\n",
    "from sklearn.naive_bayes import GaussianNB\n",
    "from sklearn.discriminant_analysis import QuadraticDiscriminantAnalysis"
   ]
  },
  {
   "cell_type": "code",
   "execution_count": 122,
   "metadata": {},
   "outputs": [
    {
     "name": "stdout",
     "output_type": "stream",
     "text": [
      "MLPClassifier(): 0.64\n",
      "KNeighborsClassifier(): 0.62\n",
      "SVC(): 0.652\n",
      "GaussianProcessClassifier(): 0.6\n",
      "DecisionTreeClassifier(): 0.66\n",
      "RandomForestClassifier(): 0.708\n",
      "AdaBoostClassifier(): 0.66\n",
      "GaussianNB(): 0.704\n",
      "QuadraticDiscriminantAnalysis(): 0.684\n"
     ]
    },
    {
     "name": "stderr",
     "output_type": "stream",
     "text": [
      "/home/tai/Desktop/Projects/SpringBoard/env/lib/python3.6/site-packages/sklearn/discriminant_analysis.py:808: UserWarning: Variables are collinear\n",
      "  warnings.warn(\"Variables are collinear\")\n"
     ]
    }
   ],
   "source": [
    "classifiers = [MLPClassifier(), KNeighborsClassifier(), SVC(), \n",
    "               GaussianProcessClassifier(), DecisionTreeClassifier(),\n",
    "              RandomForestClassifier(), AdaBoostClassifier(),\n",
    "              GaussianNB(),QuadraticDiscriminantAnalysis()]\n",
    "\n",
    "for classifier in classifiers:\n",
    "    clf_test = classifier\n",
    "    clf_test.fit(X_train, y_train)\n",
    "    score = accuracy_score(clf_test.predict(X_test), y_test)\n",
    "    print(f'{clf_test}: {score}')"
   ]
  }
 ],
 "metadata": {
  "kernelspec": {
   "display_name": "SpringBoard",
   "language": "python",
   "name": "springboard"
  },
  "language_info": {
   "codemirror_mode": {
    "name": "ipython",
    "version": 3
   },
   "file_extension": ".py",
   "mimetype": "text/x-python",
   "name": "python",
   "nbconvert_exporter": "python",
   "pygments_lexer": "ipython3",
   "version": "3.6.9"
  }
 },
 "nbformat": 4,
 "nbformat_minor": 2
}
